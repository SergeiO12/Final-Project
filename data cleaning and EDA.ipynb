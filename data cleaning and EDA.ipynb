{
 "cells": [
  {
   "cell_type": "markdown",
   "metadata": {},
   "source": [
    "Задачей проекта является разработка модели, которая будет предсказывать стоимость недвижимости, основываясь на ее характеристиках. Для оценки качества модели будут использоваться метрики MAE (Mean Absolute Error) – это среднее арифметическое модуля отклонения предсказанного значения от реального и MAPE (Mean Absolute Percent Error), которая показывает на сколько процентов в среднем предсказание модели отклоняется от реального значения, R2 - это коэффициент детерминации и RMSE (Root Mean Square Error) - это корень из средней квадратической ошибки. Перечислим признаки, которые содержатся в имеющихся данных и по которым будет обучаться модель:\n",
    "\n",
    "статус продажи <br>\n",
    "наличие бассейна <br>\n",
    "тип недвижимости <br>\n",
    "адрес <br>\n",
    "количество ванных комнат <br>\n",
    "год постройки дома <br>\n",
    "год реконструкции <br>\n",
    "тип отопления <br>\n",
    "тип кондиционирования <br>\n",
    "вид парковки автомобиля <br>\n",
    "площадь земельного участка, прилагающегося к дому <br>\n",
    "цена единицы площади участка <br>\n",
    "наличие камина в доме <br>\n",
    "город, в котором расположен дом <br>\n",
    "рейтинги близлежащих школ <br>\n",
    "расстояния до близлежащих школ <br>\n",
    "жилая площадь <br>\n",
    "количество спальных комнат <br>\n",
    "штат, в котором расположен дом <br>\n",
    "количество этажей <br>\n",
    "уникальный идентификатор продажи <br>\n",
    "стоимость дома <br>"
   ]
  },
  {
   "cell_type": "code",
   "execution_count": null,
   "metadata": {},
   "outputs": [],
   "source": []
  },
  {
   "cell_type": "code",
   "execution_count": null,
   "metadata": {},
   "outputs": [],
   "source": [
    "import re\n",
    "import pandas as pd\n",
    "import numpy as np\n",
    "import matplotlib.pyplot as plt\n",
    "import seaborn as sns\n",
    "from sklearn.linear_model import LinearRegression\n",
    "from sklearn.model_selection import train_test_split\n",
    "from sklearn.preprocessing import MinMaxScaler, StandardScaler, LabelEncoder, PolynomialFeatures\n",
    "from sklearn.metrics import mean_absolute_error, mean_squared_error, r2_score"
   ]
  },
  {
   "cell_type": "code",
   "execution_count": null,
   "metadata": {},
   "outputs": [],
   "source": []
  },
  {
   "cell_type": "markdown",
   "metadata": {},
   "source": [
    "### Анализ и очистка данных"
   ]
  },
  {
   "cell_type": "code",
   "execution_count": 505,
   "metadata": {},
   "outputs": [],
   "source": [
    "estate_data = pd.read_csv('data.csv/data.csv')"
   ]
  },
  {
   "cell_type": "code",
   "execution_count": 506,
   "metadata": {},
   "outputs": [
    {
     "data": {
      "text/html": [
       "<div>\n",
       "<style scoped>\n",
       "    .dataframe tbody tr th:only-of-type {\n",
       "        vertical-align: middle;\n",
       "    }\n",
       "\n",
       "    .dataframe tbody tr th {\n",
       "        vertical-align: top;\n",
       "    }\n",
       "\n",
       "    .dataframe thead th {\n",
       "        text-align: right;\n",
       "    }\n",
       "</style>\n",
       "<table border=\"1\" class=\"dataframe\">\n",
       "  <thead>\n",
       "    <tr style=\"text-align: right;\">\n",
       "      <th></th>\n",
       "      <th>status</th>\n",
       "      <th>private pool</th>\n",
       "      <th>propertyType</th>\n",
       "      <th>street</th>\n",
       "      <th>baths</th>\n",
       "      <th>homeFacts</th>\n",
       "      <th>fireplace</th>\n",
       "      <th>city</th>\n",
       "      <th>schools</th>\n",
       "      <th>sqft</th>\n",
       "      <th>zipcode</th>\n",
       "      <th>beds</th>\n",
       "      <th>state</th>\n",
       "      <th>stories</th>\n",
       "      <th>mls-id</th>\n",
       "      <th>PrivatePool</th>\n",
       "      <th>MlsId</th>\n",
       "      <th>target</th>\n",
       "    </tr>\n",
       "  </thead>\n",
       "  <tbody>\n",
       "    <tr>\n",
       "      <th>0</th>\n",
       "      <td>Active</td>\n",
       "      <td>NaN</td>\n",
       "      <td>Single Family Home</td>\n",
       "      <td>240 Heather Ln</td>\n",
       "      <td>3.5</td>\n",
       "      <td>{'atAGlanceFacts': [{'factValue': '2019', 'fac...</td>\n",
       "      <td>Gas Logs</td>\n",
       "      <td>Southern Pines</td>\n",
       "      <td>[{'rating': ['4', '4', '7', 'NR', '4', '7', 'N...</td>\n",
       "      <td>2900</td>\n",
       "      <td>28387</td>\n",
       "      <td>4</td>\n",
       "      <td>NC</td>\n",
       "      <td>NaN</td>\n",
       "      <td>NaN</td>\n",
       "      <td>NaN</td>\n",
       "      <td>611019</td>\n",
       "      <td>$418,000</td>\n",
       "    </tr>\n",
       "    <tr>\n",
       "      <th>1</th>\n",
       "      <td>for sale</td>\n",
       "      <td>NaN</td>\n",
       "      <td>single-family home</td>\n",
       "      <td>12911 E Heroy Ave</td>\n",
       "      <td>3 Baths</td>\n",
       "      <td>{'atAGlanceFacts': [{'factValue': '2019', 'fac...</td>\n",
       "      <td>NaN</td>\n",
       "      <td>Spokane Valley</td>\n",
       "      <td>[{'rating': ['4/10', 'None/10', '4/10'], 'data...</td>\n",
       "      <td>1,947 sqft</td>\n",
       "      <td>99216</td>\n",
       "      <td>3 Beds</td>\n",
       "      <td>WA</td>\n",
       "      <td>2.0</td>\n",
       "      <td>NaN</td>\n",
       "      <td>NaN</td>\n",
       "      <td>201916904</td>\n",
       "      <td>$310,000</td>\n",
       "    </tr>\n",
       "    <tr>\n",
       "      <th>2</th>\n",
       "      <td>for sale</td>\n",
       "      <td>NaN</td>\n",
       "      <td>single-family home</td>\n",
       "      <td>2005 Westridge Rd</td>\n",
       "      <td>2 Baths</td>\n",
       "      <td>{'atAGlanceFacts': [{'factValue': '1961', 'fac...</td>\n",
       "      <td>yes</td>\n",
       "      <td>Los Angeles</td>\n",
       "      <td>[{'rating': ['8/10', '4/10', '8/10'], 'data': ...</td>\n",
       "      <td>3,000 sqft</td>\n",
       "      <td>90049</td>\n",
       "      <td>3 Beds</td>\n",
       "      <td>CA</td>\n",
       "      <td>1.0</td>\n",
       "      <td>NaN</td>\n",
       "      <td>yes</td>\n",
       "      <td>FR19221027</td>\n",
       "      <td>$2,895,000</td>\n",
       "    </tr>\n",
       "    <tr>\n",
       "      <th>3</th>\n",
       "      <td>for sale</td>\n",
       "      <td>NaN</td>\n",
       "      <td>single-family home</td>\n",
       "      <td>4311 Livingston Ave</td>\n",
       "      <td>8 Baths</td>\n",
       "      <td>{'atAGlanceFacts': [{'factValue': '2006', 'fac...</td>\n",
       "      <td>yes</td>\n",
       "      <td>Dallas</td>\n",
       "      <td>[{'rating': ['9/10', '9/10', '10/10', '9/10'],...</td>\n",
       "      <td>6,457 sqft</td>\n",
       "      <td>75205</td>\n",
       "      <td>5 Beds</td>\n",
       "      <td>TX</td>\n",
       "      <td>3.0</td>\n",
       "      <td>NaN</td>\n",
       "      <td>NaN</td>\n",
       "      <td>14191809</td>\n",
       "      <td>$2,395,000</td>\n",
       "    </tr>\n",
       "    <tr>\n",
       "      <th>4</th>\n",
       "      <td>for sale</td>\n",
       "      <td>NaN</td>\n",
       "      <td>lot/land</td>\n",
       "      <td>1524 Kiscoe St</td>\n",
       "      <td>NaN</td>\n",
       "      <td>{'atAGlanceFacts': [{'factValue': '', 'factLab...</td>\n",
       "      <td>NaN</td>\n",
       "      <td>Palm Bay</td>\n",
       "      <td>[{'rating': ['4/10', '5/10', '5/10'], 'data': ...</td>\n",
       "      <td>NaN</td>\n",
       "      <td>32908</td>\n",
       "      <td>NaN</td>\n",
       "      <td>FL</td>\n",
       "      <td>NaN</td>\n",
       "      <td>NaN</td>\n",
       "      <td>NaN</td>\n",
       "      <td>861745</td>\n",
       "      <td>$5,000</td>\n",
       "    </tr>\n",
       "  </tbody>\n",
       "</table>\n",
       "</div>"
      ],
      "text/plain": [
       "     status private pool        propertyType               street    baths  \\\n",
       "0    Active          NaN  Single Family Home       240 Heather Ln      3.5   \n",
       "1  for sale          NaN  single-family home    12911 E Heroy Ave  3 Baths   \n",
       "2  for sale          NaN  single-family home    2005 Westridge Rd  2 Baths   \n",
       "3  for sale          NaN  single-family home  4311 Livingston Ave  8 Baths   \n",
       "4  for sale          NaN            lot/land       1524 Kiscoe St      NaN   \n",
       "\n",
       "                                           homeFacts fireplace  \\\n",
       "0  {'atAGlanceFacts': [{'factValue': '2019', 'fac...  Gas Logs   \n",
       "1  {'atAGlanceFacts': [{'factValue': '2019', 'fac...       NaN   \n",
       "2  {'atAGlanceFacts': [{'factValue': '1961', 'fac...       yes   \n",
       "3  {'atAGlanceFacts': [{'factValue': '2006', 'fac...       yes   \n",
       "4  {'atAGlanceFacts': [{'factValue': '', 'factLab...       NaN   \n",
       "\n",
       "             city                                            schools  \\\n",
       "0  Southern Pines  [{'rating': ['4', '4', '7', 'NR', '4', '7', 'N...   \n",
       "1  Spokane Valley  [{'rating': ['4/10', 'None/10', '4/10'], 'data...   \n",
       "2     Los Angeles  [{'rating': ['8/10', '4/10', '8/10'], 'data': ...   \n",
       "3          Dallas  [{'rating': ['9/10', '9/10', '10/10', '9/10'],...   \n",
       "4        Palm Bay  [{'rating': ['4/10', '5/10', '5/10'], 'data': ...   \n",
       "\n",
       "         sqft zipcode    beds state stories mls-id PrivatePool       MlsId  \\\n",
       "0        2900   28387       4    NC     NaN    NaN         NaN      611019   \n",
       "1  1,947 sqft   99216  3 Beds    WA     2.0    NaN         NaN   201916904   \n",
       "2  3,000 sqft   90049  3 Beds    CA     1.0    NaN         yes  FR19221027   \n",
       "3  6,457 sqft   75205  5 Beds    TX     3.0    NaN         NaN    14191809   \n",
       "4         NaN   32908     NaN    FL     NaN    NaN         NaN      861745   \n",
       "\n",
       "       target  \n",
       "0    $418,000  \n",
       "1    $310,000  \n",
       "2  $2,895,000  \n",
       "3  $2,395,000  \n",
       "4      $5,000  "
      ]
     },
     "execution_count": 506,
     "metadata": {},
     "output_type": "execute_result"
    }
   ],
   "source": [
    "estate_data.head()"
   ]
  },
  {
   "cell_type": "code",
   "execution_count": 507,
   "metadata": {},
   "outputs": [
    {
     "name": "stdout",
     "output_type": "stream",
     "text": [
      "<class 'pandas.core.frame.DataFrame'>\n",
      "RangeIndex: 377185 entries, 0 to 377184\n",
      "Data columns (total 18 columns):\n",
      " #   Column        Non-Null Count   Dtype \n",
      "---  ------        --------------   ----- \n",
      " 0   status        337267 non-null  object\n",
      " 1   private pool  4181 non-null    object\n",
      " 2   propertyType  342452 non-null  object\n",
      " 3   street        377183 non-null  object\n",
      " 4   baths         270847 non-null  object\n",
      " 5   homeFacts     377185 non-null  object\n",
      " 6   fireplace     103115 non-null  object\n",
      " 7   city          377151 non-null  object\n",
      " 8   schools       377185 non-null  object\n",
      " 9   sqft          336608 non-null  object\n",
      " 10  zipcode       377185 non-null  object\n",
      " 11  beds          285903 non-null  object\n",
      " 12  state         377185 non-null  object\n",
      " 13  stories       226470 non-null  object\n",
      " 14  mls-id        24942 non-null   object\n",
      " 15  PrivatePool   40311 non-null   object\n",
      " 16  MlsId         310305 non-null  object\n",
      " 17  target        374704 non-null  object\n",
      "dtypes: object(18)\n",
      "memory usage: 51.8+ MB\n"
     ]
    }
   ],
   "source": [
    "estate_data.info()"
   ]
  },
  {
   "cell_type": "code",
   "execution_count": 508,
   "metadata": {},
   "outputs": [
    {
     "data": {
      "text/plain": [
       "status           39918\n",
       "private pool    373004\n",
       "propertyType     34733\n",
       "street               2\n",
       "baths           106338\n",
       "homeFacts            0\n",
       "fireplace       274070\n",
       "city                34\n",
       "schools              0\n",
       "sqft             40577\n",
       "zipcode              0\n",
       "beds             91282\n",
       "state                0\n",
       "stories         150715\n",
       "mls-id          352243\n",
       "PrivatePool     336874\n",
       "MlsId            66880\n",
       "target            2481\n",
       "dtype: int64"
      ]
     },
     "execution_count": 508,
     "metadata": {},
     "output_type": "execute_result"
    }
   ],
   "source": [
    "# Определим количество нулей в столбцах\n",
    "estate_data.isna().sum()"
   ]
  },
  {
   "cell_type": "code",
   "execution_count": 509,
   "metadata": {},
   "outputs": [],
   "source": [
    "# Определение выбросов при помощи фильтрации данных по условию выхода за пределы верхней или нижней границы.\n",
    "\n",
    "def outliers_iqr(ys):\n",
    "    quartile_1, quartile_3 = np.percentile(ys, [25, 75])\n",
    "    iqr = quartile_3 - quartile_1\n",
    "    lower_bound = quartile_1 - (iqr * 1.5)\n",
    "    upper_bound = quartile_3 + (iqr * 1.5)\n",
    "    return np.where((ys > upper_bound) | (ys < lower_bound))[0]"
   ]
  },
  {
   "cell_type": "code",
   "execution_count": 510,
   "metadata": {},
   "outputs": [],
   "source": [
    "# Поиск выбросов методом z-отклонений\n",
    "\n",
    "def outliers_z_score(ys, threshold=3):\n",
    "    mean_y = np.mean(ys)\n",
    "    std_y = np.std(ys)\n",
    "    z_scores = [(y - mean_y) / std_y for y in ys]\n",
    "    return np.where(np.abs(z_scores) > threshold)[0]"
   ]
  },
  {
   "cell_type": "markdown",
   "metadata": {},
   "source": [
    "### Status"
   ]
  },
  {
   "cell_type": "code",
   "execution_count": 511,
   "metadata": {},
   "outputs": [
    {
     "data": {
      "text/plain": [
       "39918"
      ]
     },
     "execution_count": 511,
     "metadata": {},
     "output_type": "execute_result"
    }
   ],
   "source": [
    "# Определим сумму нулевых значений в столбце \"Status\"\n",
    "estate_data['status'].isna().sum()"
   ]
  },
  {
   "cell_type": "code",
   "execution_count": null,
   "metadata": {},
   "outputs": [],
   "source": []
  },
  {
   "cell_type": "code",
   "execution_count": 512,
   "metadata": {},
   "outputs": [
    {
     "data": {
      "text/plain": [
       "for sale                             156104\n",
       "Active                               105207\n",
       "For sale                              43465\n",
       "foreclosure                            6426\n",
       "New construction                       5475\n",
       "Pending                                4702\n",
       "Pre-foreclosure                        2119\n",
       "Pre-foreclosure / auction              1560\n",
       "P                                      1488\n",
       "Under Contract Show                    1183\n",
       " / auction                              936\n",
       "Under Contract   Showing                793\n",
       "Active Under Contract                   718\n",
       "Under Contract                          690\n",
       "New                                     690\n",
       "Contingent                              581\n",
       "Price Change                            563\n",
       "Auction                                 536\n",
       "Foreclosed                              459\n",
       "A Active                                443\n",
       "for rent                                398\n",
       "Foreclosure                             343\n",
       "recently sold                           287\n",
       "Under Contract Backups                  252\n",
       "Contingent Finance And Inspection       240\n",
       "Pending Continue To Show                194\n",
       "Option Pending                          110\n",
       "Back on Market                          106\n",
       "pending                                 105\n",
       "Contingent Show                         101\n",
       "Pending Taking Backups                   63\n",
       "Option Contract                          54\n",
       "Active With Offer                        49\n",
       "Pending With Contingencies               44\n",
       "C                                        39\n",
       "Active Backup                            39\n",
       "Contract P                               36\n",
       "Pi                                       36\n",
       "P Pending Sale                           35\n",
       "Auction - Active                         28\n",
       "Listing Extended                         28\n",
       "Due Diligence Period                     27\n",
       "Contract Contingent On Buyer Sale        25\n",
       "Closed                                   18\n",
       "C Continue Show                          18\n",
       "Pending - Taking Backups                 17\n",
       "Offer Pending Signature                  15\n",
       "Active/Contingent                        15\n",
       "Contingent Take Backup                   14\n",
       "Pending Inspection                       14\n",
       "Name: status, dtype: int64"
      ]
     },
     "execution_count": 512,
     "metadata": {},
     "output_type": "execute_result"
    }
   ],
   "source": [
    "# Посмотрим 50 самых больших значений столбца \"Status\"\n",
    "estate_data['status'].value_counts()[:50]"
   ]
  },
  {
   "cell_type": "code",
   "execution_count": 513,
   "metadata": {},
   "outputs": [],
   "source": [
    "# Заполним нулевые значения на 'no_provided'\n",
    "\n",
    "estate_data['status'] = estate_data['status'].fillna('no_provided')"
   ]
  },
  {
   "cell_type": "code",
   "execution_count": 514,
   "metadata": {},
   "outputs": [],
   "source": [
    "# Приведение к нижнему регистру\n",
    "estate_data['status'] = estate_data['status'].apply(lambda x: str(x).lower())"
   ]
  },
  {
   "cell_type": "code",
   "execution_count": 515,
   "metadata": {},
   "outputs": [
    {
     "data": {
      "text/plain": [
       "for sale                             199571\n",
       "active                               105207\n",
       "no_provided                           39918\n",
       "foreclosure                            6769\n",
       "new construction                       5475\n",
       "pending                                4807\n",
       "pre-foreclosure                        2119\n",
       "pre-foreclosure / auction              1560\n",
       "p                                      1488\n",
       "under contract show                    1183\n",
       " / auction                              936\n",
       "under contract   showing                793\n",
       "active under contract                   718\n",
       "under contract                          692\n",
       "new                                     690\n",
       "contingent                              581\n",
       "price change                            563\n",
       "auction                                 536\n",
       "foreclosed                              459\n",
       "a active                                443\n",
       "for rent                                398\n",
       "recently sold                           287\n",
       "under contract backups                  252\n",
       "contingent finance and inspection       245\n",
       "pending continue to show                194\n",
       "back on market                          112\n",
       "option pending                          110\n",
       "contingent show                         101\n",
       "pending taking backups                   63\n",
       "option contract                          54\n",
       "active with offer                        49\n",
       "pending with contingencies               44\n",
       "c                                        39\n",
       "active backup                            39\n",
       "contract p                               36\n",
       "pi                                       36\n",
       "p pending sale                           35\n",
       "auction - active                         28\n",
       "listing extended                         28\n",
       "due diligence period                     27\n",
       "contract contingent on buyer sale        25\n",
       "closed                                   18\n",
       "c continue show                          18\n",
       "pending - taking backups                 17\n",
       "active/contingent                        15\n",
       "offer pending signature                  15\n",
       "pending inspection                       14\n",
       "contingent take backup                   14\n",
       "pending in                               13\n",
       "contingent   show                        13\n",
       "Name: status, dtype: int64"
      ]
     },
     "execution_count": 515,
     "metadata": {},
     "output_type": "execute_result"
    }
   ],
   "source": [
    "# Проверим изменение в количестве значений столбца \"Status\"\n",
    "estate_data['status'].value_counts()[:50]"
   ]
  },
  {
   "cell_type": "code",
   "execution_count": null,
   "metadata": {},
   "outputs": [],
   "source": []
  },
  {
   "cell_type": "code",
   "execution_count": 516,
   "metadata": {},
   "outputs": [],
   "source": [
    "# Приведение значения к одному названию\n",
    "\n",
    "estate_data['status'] = estate_data['status'].apply(lambda x: 'foreclosure' if x == 'foreclosed' else x)"
   ]
  },
  {
   "cell_type": "code",
   "execution_count": 517,
   "metadata": {},
   "outputs": [],
   "source": [
    "estate_data['status'] = estate_data['status'].apply(lambda x: 'new construction' if x == 'new' else x)"
   ]
  },
  {
   "cell_type": "code",
   "execution_count": 518,
   "metadata": {},
   "outputs": [
    {
     "data": {
      "text/html": [
       "<div>\n",
       "<style scoped>\n",
       "    .dataframe tbody tr th:only-of-type {\n",
       "        vertical-align: middle;\n",
       "    }\n",
       "\n",
       "    .dataframe tbody tr th {\n",
       "        vertical-align: top;\n",
       "    }\n",
       "\n",
       "    .dataframe thead th {\n",
       "        text-align: right;\n",
       "    }\n",
       "</style>\n",
       "<table border=\"1\" class=\"dataframe\">\n",
       "  <thead>\n",
       "    <tr style=\"text-align: right;\">\n",
       "      <th></th>\n",
       "      <th>status</th>\n",
       "      <th>private pool</th>\n",
       "      <th>propertyType</th>\n",
       "      <th>street</th>\n",
       "      <th>baths</th>\n",
       "      <th>homeFacts</th>\n",
       "      <th>fireplace</th>\n",
       "      <th>city</th>\n",
       "      <th>schools</th>\n",
       "      <th>sqft</th>\n",
       "      <th>zipcode</th>\n",
       "      <th>beds</th>\n",
       "      <th>state</th>\n",
       "      <th>stories</th>\n",
       "      <th>mls-id</th>\n",
       "      <th>PrivatePool</th>\n",
       "      <th>MlsId</th>\n",
       "      <th>target</th>\n",
       "    </tr>\n",
       "  </thead>\n",
       "  <tbody>\n",
       "    <tr>\n",
       "      <th>0</th>\n",
       "      <td>active</td>\n",
       "      <td>NaN</td>\n",
       "      <td>Single Family Home</td>\n",
       "      <td>240 Heather Ln</td>\n",
       "      <td>3.5</td>\n",
       "      <td>{'atAGlanceFacts': [{'factValue': '2019', 'fac...</td>\n",
       "      <td>Gas Logs</td>\n",
       "      <td>Southern Pines</td>\n",
       "      <td>[{'rating': ['4', '4', '7', 'NR', '4', '7', 'N...</td>\n",
       "      <td>2900</td>\n",
       "      <td>28387</td>\n",
       "      <td>4</td>\n",
       "      <td>NC</td>\n",
       "      <td>NaN</td>\n",
       "      <td>NaN</td>\n",
       "      <td>NaN</td>\n",
       "      <td>611019</td>\n",
       "      <td>$418,000</td>\n",
       "    </tr>\n",
       "    <tr>\n",
       "      <th>1</th>\n",
       "      <td>for sale</td>\n",
       "      <td>NaN</td>\n",
       "      <td>single-family home</td>\n",
       "      <td>12911 E Heroy Ave</td>\n",
       "      <td>3 Baths</td>\n",
       "      <td>{'atAGlanceFacts': [{'factValue': '2019', 'fac...</td>\n",
       "      <td>NaN</td>\n",
       "      <td>Spokane Valley</td>\n",
       "      <td>[{'rating': ['4/10', 'None/10', '4/10'], 'data...</td>\n",
       "      <td>1,947 sqft</td>\n",
       "      <td>99216</td>\n",
       "      <td>3 Beds</td>\n",
       "      <td>WA</td>\n",
       "      <td>2.0</td>\n",
       "      <td>NaN</td>\n",
       "      <td>NaN</td>\n",
       "      <td>201916904</td>\n",
       "      <td>$310,000</td>\n",
       "    </tr>\n",
       "    <tr>\n",
       "      <th>2</th>\n",
       "      <td>for sale</td>\n",
       "      <td>NaN</td>\n",
       "      <td>single-family home</td>\n",
       "      <td>2005 Westridge Rd</td>\n",
       "      <td>2 Baths</td>\n",
       "      <td>{'atAGlanceFacts': [{'factValue': '1961', 'fac...</td>\n",
       "      <td>yes</td>\n",
       "      <td>Los Angeles</td>\n",
       "      <td>[{'rating': ['8/10', '4/10', '8/10'], 'data': ...</td>\n",
       "      <td>3,000 sqft</td>\n",
       "      <td>90049</td>\n",
       "      <td>3 Beds</td>\n",
       "      <td>CA</td>\n",
       "      <td>1.0</td>\n",
       "      <td>NaN</td>\n",
       "      <td>yes</td>\n",
       "      <td>FR19221027</td>\n",
       "      <td>$2,895,000</td>\n",
       "    </tr>\n",
       "    <tr>\n",
       "      <th>3</th>\n",
       "      <td>for sale</td>\n",
       "      <td>NaN</td>\n",
       "      <td>single-family home</td>\n",
       "      <td>4311 Livingston Ave</td>\n",
       "      <td>8 Baths</td>\n",
       "      <td>{'atAGlanceFacts': [{'factValue': '2006', 'fac...</td>\n",
       "      <td>yes</td>\n",
       "      <td>Dallas</td>\n",
       "      <td>[{'rating': ['9/10', '9/10', '10/10', '9/10'],...</td>\n",
       "      <td>6,457 sqft</td>\n",
       "      <td>75205</td>\n",
       "      <td>5 Beds</td>\n",
       "      <td>TX</td>\n",
       "      <td>3.0</td>\n",
       "      <td>NaN</td>\n",
       "      <td>NaN</td>\n",
       "      <td>14191809</td>\n",
       "      <td>$2,395,000</td>\n",
       "    </tr>\n",
       "    <tr>\n",
       "      <th>4</th>\n",
       "      <td>for sale</td>\n",
       "      <td>NaN</td>\n",
       "      <td>lot/land</td>\n",
       "      <td>1524 Kiscoe St</td>\n",
       "      <td>NaN</td>\n",
       "      <td>{'atAGlanceFacts': [{'factValue': '', 'factLab...</td>\n",
       "      <td>NaN</td>\n",
       "      <td>Palm Bay</td>\n",
       "      <td>[{'rating': ['4/10', '5/10', '5/10'], 'data': ...</td>\n",
       "      <td>NaN</td>\n",
       "      <td>32908</td>\n",
       "      <td>NaN</td>\n",
       "      <td>FL</td>\n",
       "      <td>NaN</td>\n",
       "      <td>NaN</td>\n",
       "      <td>NaN</td>\n",
       "      <td>861745</td>\n",
       "      <td>$5,000</td>\n",
       "    </tr>\n",
       "  </tbody>\n",
       "</table>\n",
       "</div>"
      ],
      "text/plain": [
       "     status private pool        propertyType               street    baths  \\\n",
       "0    active          NaN  Single Family Home       240 Heather Ln      3.5   \n",
       "1  for sale          NaN  single-family home    12911 E Heroy Ave  3 Baths   \n",
       "2  for sale          NaN  single-family home    2005 Westridge Rd  2 Baths   \n",
       "3  for sale          NaN  single-family home  4311 Livingston Ave  8 Baths   \n",
       "4  for sale          NaN            lot/land       1524 Kiscoe St      NaN   \n",
       "\n",
       "                                           homeFacts fireplace  \\\n",
       "0  {'atAGlanceFacts': [{'factValue': '2019', 'fac...  Gas Logs   \n",
       "1  {'atAGlanceFacts': [{'factValue': '2019', 'fac...       NaN   \n",
       "2  {'atAGlanceFacts': [{'factValue': '1961', 'fac...       yes   \n",
       "3  {'atAGlanceFacts': [{'factValue': '2006', 'fac...       yes   \n",
       "4  {'atAGlanceFacts': [{'factValue': '', 'factLab...       NaN   \n",
       "\n",
       "             city                                            schools  \\\n",
       "0  Southern Pines  [{'rating': ['4', '4', '7', 'NR', '4', '7', 'N...   \n",
       "1  Spokane Valley  [{'rating': ['4/10', 'None/10', '4/10'], 'data...   \n",
       "2     Los Angeles  [{'rating': ['8/10', '4/10', '8/10'], 'data': ...   \n",
       "3          Dallas  [{'rating': ['9/10', '9/10', '10/10', '9/10'],...   \n",
       "4        Palm Bay  [{'rating': ['4/10', '5/10', '5/10'], 'data': ...   \n",
       "\n",
       "         sqft zipcode    beds state stories mls-id PrivatePool       MlsId  \\\n",
       "0        2900   28387       4    NC     NaN    NaN         NaN      611019   \n",
       "1  1,947 sqft   99216  3 Beds    WA     2.0    NaN         NaN   201916904   \n",
       "2  3,000 sqft   90049  3 Beds    CA     1.0    NaN         yes  FR19221027   \n",
       "3  6,457 sqft   75205  5 Beds    TX     3.0    NaN         NaN    14191809   \n",
       "4         NaN   32908     NaN    FL     NaN    NaN         NaN      861745   \n",
       "\n",
       "       target  \n",
       "0    $418,000  \n",
       "1    $310,000  \n",
       "2  $2,895,000  \n",
       "3  $2,395,000  \n",
       "4      $5,000  "
      ]
     },
     "execution_count": 518,
     "metadata": {},
     "output_type": "execute_result"
    }
   ],
   "source": [
    "estate_data.head()"
   ]
  },
  {
   "cell_type": "code",
   "execution_count": 519,
   "metadata": {},
   "outputs": [
    {
     "data": {
      "text/plain": [
       "for sale                             199571\n",
       "active                               105207\n",
       "no_provided                           39918\n",
       "foreclosure                            7228\n",
       "new construction                       6165\n",
       "pending                                4807\n",
       "pre-foreclosure                        2119\n",
       "pre-foreclosure / auction              1560\n",
       "p                                      1488\n",
       "under contract show                    1183\n",
       " / auction                              936\n",
       "under contract   showing                793\n",
       "active under contract                   718\n",
       "under contract                          692\n",
       "contingent                              581\n",
       "price change                            563\n",
       "auction                                 536\n",
       "a active                                443\n",
       "for rent                                398\n",
       "recently sold                           287\n",
       "under contract backups                  252\n",
       "contingent finance and inspection       245\n",
       "pending continue to show                194\n",
       "back on market                          112\n",
       "option pending                          110\n",
       "contingent show                         101\n",
       "pending taking backups                   63\n",
       "option contract                          54\n",
       "active with offer                        49\n",
       "pending with contingencies               44\n",
       "c                                        39\n",
       "active backup                            39\n",
       "pi                                       36\n",
       "contract p                               36\n",
       "p pending sale                           35\n",
       "listing extended                         28\n",
       "auction - active                         28\n",
       "due diligence period                     27\n",
       "contract contingent on buyer sale        25\n",
       "c continue show                          18\n",
       "closed                                   18\n",
       "pending - taking backups                 17\n",
       "active/contingent                        15\n",
       "offer pending signature                  15\n",
       "pending inspection                       14\n",
       "contingent take backup                   14\n",
       "pending in                               13\n",
       "active with contingencies                13\n",
       "contingent   show                        13\n",
       "u under contract                         10\n",
       "Name: status, dtype: int64"
      ]
     },
     "execution_count": 519,
     "metadata": {},
     "output_type": "execute_result"
    }
   ],
   "source": [
    "# Проверим изменение в количестве значений столбца \"Status\"\n",
    "estate_data['status'].value_counts()[:50]"
   ]
  },
  {
   "cell_type": "code",
   "execution_count": 520,
   "metadata": {},
   "outputs": [
    {
     "data": {
      "text/html": [
       "<div>\n",
       "<style scoped>\n",
       "    .dataframe tbody tr th:only-of-type {\n",
       "        vertical-align: middle;\n",
       "    }\n",
       "\n",
       "    .dataframe tbody tr th {\n",
       "        vertical-align: top;\n",
       "    }\n",
       "\n",
       "    .dataframe thead th {\n",
       "        text-align: right;\n",
       "    }\n",
       "</style>\n",
       "<table border=\"1\" class=\"dataframe\">\n",
       "  <thead>\n",
       "    <tr style=\"text-align: right;\">\n",
       "      <th></th>\n",
       "      <th>status</th>\n",
       "      <th>private pool</th>\n",
       "      <th>propertyType</th>\n",
       "      <th>street</th>\n",
       "      <th>baths</th>\n",
       "      <th>homeFacts</th>\n",
       "      <th>fireplace</th>\n",
       "      <th>city</th>\n",
       "      <th>schools</th>\n",
       "      <th>sqft</th>\n",
       "      <th>zipcode</th>\n",
       "      <th>beds</th>\n",
       "      <th>state</th>\n",
       "      <th>stories</th>\n",
       "      <th>mls-id</th>\n",
       "      <th>PrivatePool</th>\n",
       "      <th>MlsId</th>\n",
       "      <th>target</th>\n",
       "    </tr>\n",
       "  </thead>\n",
       "  <tbody>\n",
       "    <tr>\n",
       "      <th>0</th>\n",
       "      <td>active</td>\n",
       "      <td>NaN</td>\n",
       "      <td>Single Family Home</td>\n",
       "      <td>240 Heather Ln</td>\n",
       "      <td>3.5</td>\n",
       "      <td>{'atAGlanceFacts': [{'factValue': '2019', 'fac...</td>\n",
       "      <td>Gas Logs</td>\n",
       "      <td>Southern Pines</td>\n",
       "      <td>[{'rating': ['4', '4', '7', 'NR', '4', '7', 'N...</td>\n",
       "      <td>2900</td>\n",
       "      <td>28387</td>\n",
       "      <td>4</td>\n",
       "      <td>NC</td>\n",
       "      <td>NaN</td>\n",
       "      <td>NaN</td>\n",
       "      <td>NaN</td>\n",
       "      <td>611019</td>\n",
       "      <td>$418,000</td>\n",
       "    </tr>\n",
       "    <tr>\n",
       "      <th>1</th>\n",
       "      <td>for sale</td>\n",
       "      <td>NaN</td>\n",
       "      <td>single-family home</td>\n",
       "      <td>12911 E Heroy Ave</td>\n",
       "      <td>3 Baths</td>\n",
       "      <td>{'atAGlanceFacts': [{'factValue': '2019', 'fac...</td>\n",
       "      <td>NaN</td>\n",
       "      <td>Spokane Valley</td>\n",
       "      <td>[{'rating': ['4/10', 'None/10', '4/10'], 'data...</td>\n",
       "      <td>1,947 sqft</td>\n",
       "      <td>99216</td>\n",
       "      <td>3 Beds</td>\n",
       "      <td>WA</td>\n",
       "      <td>2.0</td>\n",
       "      <td>NaN</td>\n",
       "      <td>NaN</td>\n",
       "      <td>201916904</td>\n",
       "      <td>$310,000</td>\n",
       "    </tr>\n",
       "    <tr>\n",
       "      <th>2</th>\n",
       "      <td>for sale</td>\n",
       "      <td>NaN</td>\n",
       "      <td>single-family home</td>\n",
       "      <td>2005 Westridge Rd</td>\n",
       "      <td>2 Baths</td>\n",
       "      <td>{'atAGlanceFacts': [{'factValue': '1961', 'fac...</td>\n",
       "      <td>yes</td>\n",
       "      <td>Los Angeles</td>\n",
       "      <td>[{'rating': ['8/10', '4/10', '8/10'], 'data': ...</td>\n",
       "      <td>3,000 sqft</td>\n",
       "      <td>90049</td>\n",
       "      <td>3 Beds</td>\n",
       "      <td>CA</td>\n",
       "      <td>1.0</td>\n",
       "      <td>NaN</td>\n",
       "      <td>yes</td>\n",
       "      <td>FR19221027</td>\n",
       "      <td>$2,895,000</td>\n",
       "    </tr>\n",
       "    <tr>\n",
       "      <th>3</th>\n",
       "      <td>for sale</td>\n",
       "      <td>NaN</td>\n",
       "      <td>single-family home</td>\n",
       "      <td>4311 Livingston Ave</td>\n",
       "      <td>8 Baths</td>\n",
       "      <td>{'atAGlanceFacts': [{'factValue': '2006', 'fac...</td>\n",
       "      <td>yes</td>\n",
       "      <td>Dallas</td>\n",
       "      <td>[{'rating': ['9/10', '9/10', '10/10', '9/10'],...</td>\n",
       "      <td>6,457 sqft</td>\n",
       "      <td>75205</td>\n",
       "      <td>5 Beds</td>\n",
       "      <td>TX</td>\n",
       "      <td>3.0</td>\n",
       "      <td>NaN</td>\n",
       "      <td>NaN</td>\n",
       "      <td>14191809</td>\n",
       "      <td>$2,395,000</td>\n",
       "    </tr>\n",
       "    <tr>\n",
       "      <th>4</th>\n",
       "      <td>for sale</td>\n",
       "      <td>NaN</td>\n",
       "      <td>lot/land</td>\n",
       "      <td>1524 Kiscoe St</td>\n",
       "      <td>NaN</td>\n",
       "      <td>{'atAGlanceFacts': [{'factValue': '', 'factLab...</td>\n",
       "      <td>NaN</td>\n",
       "      <td>Palm Bay</td>\n",
       "      <td>[{'rating': ['4/10', '5/10', '5/10'], 'data': ...</td>\n",
       "      <td>NaN</td>\n",
       "      <td>32908</td>\n",
       "      <td>NaN</td>\n",
       "      <td>FL</td>\n",
       "      <td>NaN</td>\n",
       "      <td>NaN</td>\n",
       "      <td>NaN</td>\n",
       "      <td>861745</td>\n",
       "      <td>$5,000</td>\n",
       "    </tr>\n",
       "  </tbody>\n",
       "</table>\n",
       "</div>"
      ],
      "text/plain": [
       "     status private pool        propertyType               street    baths  \\\n",
       "0    active          NaN  Single Family Home       240 Heather Ln      3.5   \n",
       "1  for sale          NaN  single-family home    12911 E Heroy Ave  3 Baths   \n",
       "2  for sale          NaN  single-family home    2005 Westridge Rd  2 Baths   \n",
       "3  for sale          NaN  single-family home  4311 Livingston Ave  8 Baths   \n",
       "4  for sale          NaN            lot/land       1524 Kiscoe St      NaN   \n",
       "\n",
       "                                           homeFacts fireplace  \\\n",
       "0  {'atAGlanceFacts': [{'factValue': '2019', 'fac...  Gas Logs   \n",
       "1  {'atAGlanceFacts': [{'factValue': '2019', 'fac...       NaN   \n",
       "2  {'atAGlanceFacts': [{'factValue': '1961', 'fac...       yes   \n",
       "3  {'atAGlanceFacts': [{'factValue': '2006', 'fac...       yes   \n",
       "4  {'atAGlanceFacts': [{'factValue': '', 'factLab...       NaN   \n",
       "\n",
       "             city                                            schools  \\\n",
       "0  Southern Pines  [{'rating': ['4', '4', '7', 'NR', '4', '7', 'N...   \n",
       "1  Spokane Valley  [{'rating': ['4/10', 'None/10', '4/10'], 'data...   \n",
       "2     Los Angeles  [{'rating': ['8/10', '4/10', '8/10'], 'data': ...   \n",
       "3          Dallas  [{'rating': ['9/10', '9/10', '10/10', '9/10'],...   \n",
       "4        Palm Bay  [{'rating': ['4/10', '5/10', '5/10'], 'data': ...   \n",
       "\n",
       "         sqft zipcode    beds state stories mls-id PrivatePool       MlsId  \\\n",
       "0        2900   28387       4    NC     NaN    NaN         NaN      611019   \n",
       "1  1,947 sqft   99216  3 Beds    WA     2.0    NaN         NaN   201916904   \n",
       "2  3,000 sqft   90049  3 Beds    CA     1.0    NaN         yes  FR19221027   \n",
       "3  6,457 sqft   75205  5 Beds    TX     3.0    NaN         NaN    14191809   \n",
       "4         NaN   32908     NaN    FL     NaN    NaN         NaN      861745   \n",
       "\n",
       "       target  \n",
       "0    $418,000  \n",
       "1    $310,000  \n",
       "2  $2,895,000  \n",
       "3  $2,395,000  \n",
       "4      $5,000  "
      ]
     },
     "execution_count": 520,
     "metadata": {},
     "output_type": "execute_result"
    }
   ],
   "source": [
    "estate_data.head()"
   ]
  },
  {
   "cell_type": "code",
   "execution_count": 521,
   "metadata": {},
   "outputs": [
    {
     "data": {
      "text/plain": [
       "7"
      ]
     },
     "execution_count": 521,
     "metadata": {},
     "output_type": "execute_result"
    }
   ],
   "source": [
    "# Найдем самые популярные значения в столбце описывающие 60% всего датасета.\n",
    "\n",
    "freq_status = list(estate_data['status'].value_counts())\n",
    "percentile = int(np.percentile(freq_status, 60))\n",
    "percentile"
   ]
  },
  {
   "cell_type": "code",
   "execution_count": 522,
   "metadata": {},
   "outputs": [
    {
     "data": {
      "text/html": [
       "<div>\n",
       "<style scoped>\n",
       "    .dataframe tbody tr th:only-of-type {\n",
       "        vertical-align: middle;\n",
       "    }\n",
       "\n",
       "    .dataframe tbody tr th {\n",
       "        vertical-align: top;\n",
       "    }\n",
       "\n",
       "    .dataframe thead th {\n",
       "        text-align: right;\n",
       "    }\n",
       "</style>\n",
       "<table border=\"1\" class=\"dataframe\">\n",
       "  <thead>\n",
       "    <tr style=\"text-align: right;\">\n",
       "      <th></th>\n",
       "      <th>status</th>\n",
       "      <th>private pool</th>\n",
       "      <th>propertyType</th>\n",
       "      <th>street</th>\n",
       "      <th>baths</th>\n",
       "      <th>homeFacts</th>\n",
       "      <th>fireplace</th>\n",
       "      <th>city</th>\n",
       "      <th>schools</th>\n",
       "      <th>sqft</th>\n",
       "      <th>zipcode</th>\n",
       "      <th>beds</th>\n",
       "      <th>state</th>\n",
       "      <th>stories</th>\n",
       "      <th>mls-id</th>\n",
       "      <th>PrivatePool</th>\n",
       "      <th>MlsId</th>\n",
       "      <th>target</th>\n",
       "    </tr>\n",
       "  </thead>\n",
       "  <tbody>\n",
       "    <tr>\n",
       "      <th>0</th>\n",
       "      <td>active</td>\n",
       "      <td>NaN</td>\n",
       "      <td>Single Family Home</td>\n",
       "      <td>240 Heather Ln</td>\n",
       "      <td>3.5</td>\n",
       "      <td>{'atAGlanceFacts': [{'factValue': '2019', 'fac...</td>\n",
       "      <td>Gas Logs</td>\n",
       "      <td>Southern Pines</td>\n",
       "      <td>[{'rating': ['4', '4', '7', 'NR', '4', '7', 'N...</td>\n",
       "      <td>2900</td>\n",
       "      <td>28387</td>\n",
       "      <td>4</td>\n",
       "      <td>NC</td>\n",
       "      <td>NaN</td>\n",
       "      <td>NaN</td>\n",
       "      <td>NaN</td>\n",
       "      <td>611019</td>\n",
       "      <td>$418,000</td>\n",
       "    </tr>\n",
       "    <tr>\n",
       "      <th>1</th>\n",
       "      <td>for sale</td>\n",
       "      <td>NaN</td>\n",
       "      <td>single-family home</td>\n",
       "      <td>12911 E Heroy Ave</td>\n",
       "      <td>3 Baths</td>\n",
       "      <td>{'atAGlanceFacts': [{'factValue': '2019', 'fac...</td>\n",
       "      <td>NaN</td>\n",
       "      <td>Spokane Valley</td>\n",
       "      <td>[{'rating': ['4/10', 'None/10', '4/10'], 'data...</td>\n",
       "      <td>1,947 sqft</td>\n",
       "      <td>99216</td>\n",
       "      <td>3 Beds</td>\n",
       "      <td>WA</td>\n",
       "      <td>2.0</td>\n",
       "      <td>NaN</td>\n",
       "      <td>NaN</td>\n",
       "      <td>201916904</td>\n",
       "      <td>$310,000</td>\n",
       "    </tr>\n",
       "    <tr>\n",
       "      <th>2</th>\n",
       "      <td>for sale</td>\n",
       "      <td>NaN</td>\n",
       "      <td>single-family home</td>\n",
       "      <td>2005 Westridge Rd</td>\n",
       "      <td>2 Baths</td>\n",
       "      <td>{'atAGlanceFacts': [{'factValue': '1961', 'fac...</td>\n",
       "      <td>yes</td>\n",
       "      <td>Los Angeles</td>\n",
       "      <td>[{'rating': ['8/10', '4/10', '8/10'], 'data': ...</td>\n",
       "      <td>3,000 sqft</td>\n",
       "      <td>90049</td>\n",
       "      <td>3 Beds</td>\n",
       "      <td>CA</td>\n",
       "      <td>1.0</td>\n",
       "      <td>NaN</td>\n",
       "      <td>yes</td>\n",
       "      <td>FR19221027</td>\n",
       "      <td>$2,895,000</td>\n",
       "    </tr>\n",
       "    <tr>\n",
       "      <th>3</th>\n",
       "      <td>for sale</td>\n",
       "      <td>NaN</td>\n",
       "      <td>single-family home</td>\n",
       "      <td>4311 Livingston Ave</td>\n",
       "      <td>8 Baths</td>\n",
       "      <td>{'atAGlanceFacts': [{'factValue': '2006', 'fac...</td>\n",
       "      <td>yes</td>\n",
       "      <td>Dallas</td>\n",
       "      <td>[{'rating': ['9/10', '9/10', '10/10', '9/10'],...</td>\n",
       "      <td>6,457 sqft</td>\n",
       "      <td>75205</td>\n",
       "      <td>5 Beds</td>\n",
       "      <td>TX</td>\n",
       "      <td>3.0</td>\n",
       "      <td>NaN</td>\n",
       "      <td>NaN</td>\n",
       "      <td>14191809</td>\n",
       "      <td>$2,395,000</td>\n",
       "    </tr>\n",
       "    <tr>\n",
       "      <th>4</th>\n",
       "      <td>for sale</td>\n",
       "      <td>NaN</td>\n",
       "      <td>lot/land</td>\n",
       "      <td>1524 Kiscoe St</td>\n",
       "      <td>NaN</td>\n",
       "      <td>{'atAGlanceFacts': [{'factValue': '', 'factLab...</td>\n",
       "      <td>NaN</td>\n",
       "      <td>Palm Bay</td>\n",
       "      <td>[{'rating': ['4/10', '5/10', '5/10'], 'data': ...</td>\n",
       "      <td>NaN</td>\n",
       "      <td>32908</td>\n",
       "      <td>NaN</td>\n",
       "      <td>FL</td>\n",
       "      <td>NaN</td>\n",
       "      <td>NaN</td>\n",
       "      <td>NaN</td>\n",
       "      <td>861745</td>\n",
       "      <td>$5,000</td>\n",
       "    </tr>\n",
       "  </tbody>\n",
       "</table>\n",
       "</div>"
      ],
      "text/plain": [
       "     status private pool        propertyType               street    baths  \\\n",
       "0    active          NaN  Single Family Home       240 Heather Ln      3.5   \n",
       "1  for sale          NaN  single-family home    12911 E Heroy Ave  3 Baths   \n",
       "2  for sale          NaN  single-family home    2005 Westridge Rd  2 Baths   \n",
       "3  for sale          NaN  single-family home  4311 Livingston Ave  8 Baths   \n",
       "4  for sale          NaN            lot/land       1524 Kiscoe St      NaN   \n",
       "\n",
       "                                           homeFacts fireplace  \\\n",
       "0  {'atAGlanceFacts': [{'factValue': '2019', 'fac...  Gas Logs   \n",
       "1  {'atAGlanceFacts': [{'factValue': '2019', 'fac...       NaN   \n",
       "2  {'atAGlanceFacts': [{'factValue': '1961', 'fac...       yes   \n",
       "3  {'atAGlanceFacts': [{'factValue': '2006', 'fac...       yes   \n",
       "4  {'atAGlanceFacts': [{'factValue': '', 'factLab...       NaN   \n",
       "\n",
       "             city                                            schools  \\\n",
       "0  Southern Pines  [{'rating': ['4', '4', '7', 'NR', '4', '7', 'N...   \n",
       "1  Spokane Valley  [{'rating': ['4/10', 'None/10', '4/10'], 'data...   \n",
       "2     Los Angeles  [{'rating': ['8/10', '4/10', '8/10'], 'data': ...   \n",
       "3          Dallas  [{'rating': ['9/10', '9/10', '10/10', '9/10'],...   \n",
       "4        Palm Bay  [{'rating': ['4/10', '5/10', '5/10'], 'data': ...   \n",
       "\n",
       "         sqft zipcode    beds state stories mls-id PrivatePool       MlsId  \\\n",
       "0        2900   28387       4    NC     NaN    NaN         NaN      611019   \n",
       "1  1,947 sqft   99216  3 Beds    WA     2.0    NaN         NaN   201916904   \n",
       "2  3,000 sqft   90049  3 Beds    CA     1.0    NaN         yes  FR19221027   \n",
       "3  6,457 sqft   75205  5 Beds    TX     3.0    NaN         NaN    14191809   \n",
       "4         NaN   32908     NaN    FL     NaN    NaN         NaN      861745   \n",
       "\n",
       "       target  \n",
       "0    $418,000  \n",
       "1    $310,000  \n",
       "2  $2,895,000  \n",
       "3  $2,395,000  \n",
       "4      $5,000  "
      ]
     },
     "execution_count": 522,
     "metadata": {},
     "output_type": "execute_result"
    }
   ],
   "source": [
    "estate_data.head()"
   ]
  },
  {
   "cell_type": "code",
   "execution_count": null,
   "metadata": {},
   "outputs": [],
   "source": []
  },
  {
   "cell_type": "code",
   "execution_count": 523,
   "metadata": {},
   "outputs": [],
   "source": [
    "# Оставим 7 значений, остальные удалим"
   ]
  },
  {
   "cell_type": "code",
   "execution_count": 524,
   "metadata": {},
   "outputs": [],
   "source": [
    "all_statuses = set(estate_data['status'].value_counts().index)\n",
    "main_statuses = set(estate_data['status'].value_counts().index[:7])\n",
    "statuses_to_drop = list(all_statuses - main_statuses)\n",
    "estate_data.drop(estate_data.loc[estate_data['status'].isin(statuses_to_drop), 'status'].index, inplace = True)\n",
    "\n",
    "estate_data.reset_index(inplace = True, drop = True)"
   ]
  },
  {
   "cell_type": "code",
   "execution_count": null,
   "metadata": {},
   "outputs": [],
   "source": []
  },
  {
   "cell_type": "code",
   "execution_count": 525,
   "metadata": {},
   "outputs": [
    {
     "data": {
      "text/plain": [
       "for sale            0.546747\n",
       "active              0.288227\n",
       "no_provided         0.109360\n",
       "foreclosure         0.019802\n",
       "new construction    0.016890\n",
       "pending             0.013169\n",
       "pre-foreclosure     0.005805\n",
       "Name: status, dtype: float64"
      ]
     },
     "execution_count": 525,
     "metadata": {},
     "output_type": "execute_result"
    }
   ],
   "source": [
    "estate_data['status'].value_counts(normalize=True)"
   ]
  },
  {
   "cell_type": "code",
   "execution_count": null,
   "metadata": {},
   "outputs": [],
   "source": []
  },
  {
   "cell_type": "code",
   "execution_count": null,
   "metadata": {},
   "outputs": [],
   "source": []
  },
  {
   "cell_type": "code",
   "execution_count": 526,
   "metadata": {},
   "outputs": [
    {
     "data": {
      "text/html": [
       "<div>\n",
       "<style scoped>\n",
       "    .dataframe tbody tr th:only-of-type {\n",
       "        vertical-align: middle;\n",
       "    }\n",
       "\n",
       "    .dataframe tbody tr th {\n",
       "        vertical-align: top;\n",
       "    }\n",
       "\n",
       "    .dataframe thead th {\n",
       "        text-align: right;\n",
       "    }\n",
       "</style>\n",
       "<table border=\"1\" class=\"dataframe\">\n",
       "  <thead>\n",
       "    <tr style=\"text-align: right;\">\n",
       "      <th></th>\n",
       "      <th>status</th>\n",
       "      <th>private pool</th>\n",
       "      <th>propertyType</th>\n",
       "      <th>street</th>\n",
       "      <th>baths</th>\n",
       "      <th>homeFacts</th>\n",
       "      <th>fireplace</th>\n",
       "      <th>city</th>\n",
       "      <th>schools</th>\n",
       "      <th>sqft</th>\n",
       "      <th>zipcode</th>\n",
       "      <th>beds</th>\n",
       "      <th>state</th>\n",
       "      <th>stories</th>\n",
       "      <th>mls-id</th>\n",
       "      <th>PrivatePool</th>\n",
       "      <th>MlsId</th>\n",
       "      <th>target</th>\n",
       "    </tr>\n",
       "  </thead>\n",
       "  <tbody>\n",
       "    <tr>\n",
       "      <th>0</th>\n",
       "      <td>active</td>\n",
       "      <td>NaN</td>\n",
       "      <td>Single Family Home</td>\n",
       "      <td>240 Heather Ln</td>\n",
       "      <td>3.5</td>\n",
       "      <td>{'atAGlanceFacts': [{'factValue': '2019', 'fac...</td>\n",
       "      <td>Gas Logs</td>\n",
       "      <td>Southern Pines</td>\n",
       "      <td>[{'rating': ['4', '4', '7', 'NR', '4', '7', 'N...</td>\n",
       "      <td>2900</td>\n",
       "      <td>28387</td>\n",
       "      <td>4</td>\n",
       "      <td>NC</td>\n",
       "      <td>NaN</td>\n",
       "      <td>NaN</td>\n",
       "      <td>NaN</td>\n",
       "      <td>611019</td>\n",
       "      <td>$418,000</td>\n",
       "    </tr>\n",
       "    <tr>\n",
       "      <th>1</th>\n",
       "      <td>for sale</td>\n",
       "      <td>NaN</td>\n",
       "      <td>single-family home</td>\n",
       "      <td>12911 E Heroy Ave</td>\n",
       "      <td>3 Baths</td>\n",
       "      <td>{'atAGlanceFacts': [{'factValue': '2019', 'fac...</td>\n",
       "      <td>NaN</td>\n",
       "      <td>Spokane Valley</td>\n",
       "      <td>[{'rating': ['4/10', 'None/10', '4/10'], 'data...</td>\n",
       "      <td>1,947 sqft</td>\n",
       "      <td>99216</td>\n",
       "      <td>3 Beds</td>\n",
       "      <td>WA</td>\n",
       "      <td>2.0</td>\n",
       "      <td>NaN</td>\n",
       "      <td>NaN</td>\n",
       "      <td>201916904</td>\n",
       "      <td>$310,000</td>\n",
       "    </tr>\n",
       "    <tr>\n",
       "      <th>2</th>\n",
       "      <td>for sale</td>\n",
       "      <td>NaN</td>\n",
       "      <td>single-family home</td>\n",
       "      <td>2005 Westridge Rd</td>\n",
       "      <td>2 Baths</td>\n",
       "      <td>{'atAGlanceFacts': [{'factValue': '1961', 'fac...</td>\n",
       "      <td>yes</td>\n",
       "      <td>Los Angeles</td>\n",
       "      <td>[{'rating': ['8/10', '4/10', '8/10'], 'data': ...</td>\n",
       "      <td>3,000 sqft</td>\n",
       "      <td>90049</td>\n",
       "      <td>3 Beds</td>\n",
       "      <td>CA</td>\n",
       "      <td>1.0</td>\n",
       "      <td>NaN</td>\n",
       "      <td>yes</td>\n",
       "      <td>FR19221027</td>\n",
       "      <td>$2,895,000</td>\n",
       "    </tr>\n",
       "    <tr>\n",
       "      <th>3</th>\n",
       "      <td>for sale</td>\n",
       "      <td>NaN</td>\n",
       "      <td>single-family home</td>\n",
       "      <td>4311 Livingston Ave</td>\n",
       "      <td>8 Baths</td>\n",
       "      <td>{'atAGlanceFacts': [{'factValue': '2006', 'fac...</td>\n",
       "      <td>yes</td>\n",
       "      <td>Dallas</td>\n",
       "      <td>[{'rating': ['9/10', '9/10', '10/10', '9/10'],...</td>\n",
       "      <td>6,457 sqft</td>\n",
       "      <td>75205</td>\n",
       "      <td>5 Beds</td>\n",
       "      <td>TX</td>\n",
       "      <td>3.0</td>\n",
       "      <td>NaN</td>\n",
       "      <td>NaN</td>\n",
       "      <td>14191809</td>\n",
       "      <td>$2,395,000</td>\n",
       "    </tr>\n",
       "    <tr>\n",
       "      <th>4</th>\n",
       "      <td>for sale</td>\n",
       "      <td>NaN</td>\n",
       "      <td>lot/land</td>\n",
       "      <td>1524 Kiscoe St</td>\n",
       "      <td>NaN</td>\n",
       "      <td>{'atAGlanceFacts': [{'factValue': '', 'factLab...</td>\n",
       "      <td>NaN</td>\n",
       "      <td>Palm Bay</td>\n",
       "      <td>[{'rating': ['4/10', '5/10', '5/10'], 'data': ...</td>\n",
       "      <td>NaN</td>\n",
       "      <td>32908</td>\n",
       "      <td>NaN</td>\n",
       "      <td>FL</td>\n",
       "      <td>NaN</td>\n",
       "      <td>NaN</td>\n",
       "      <td>NaN</td>\n",
       "      <td>861745</td>\n",
       "      <td>$5,000</td>\n",
       "    </tr>\n",
       "  </tbody>\n",
       "</table>\n",
       "</div>"
      ],
      "text/plain": [
       "     status private pool        propertyType               street    baths  \\\n",
       "0    active          NaN  Single Family Home       240 Heather Ln      3.5   \n",
       "1  for sale          NaN  single-family home    12911 E Heroy Ave  3 Baths   \n",
       "2  for sale          NaN  single-family home    2005 Westridge Rd  2 Baths   \n",
       "3  for sale          NaN  single-family home  4311 Livingston Ave  8 Baths   \n",
       "4  for sale          NaN            lot/land       1524 Kiscoe St      NaN   \n",
       "\n",
       "                                           homeFacts fireplace  \\\n",
       "0  {'atAGlanceFacts': [{'factValue': '2019', 'fac...  Gas Logs   \n",
       "1  {'atAGlanceFacts': [{'factValue': '2019', 'fac...       NaN   \n",
       "2  {'atAGlanceFacts': [{'factValue': '1961', 'fac...       yes   \n",
       "3  {'atAGlanceFacts': [{'factValue': '2006', 'fac...       yes   \n",
       "4  {'atAGlanceFacts': [{'factValue': '', 'factLab...       NaN   \n",
       "\n",
       "             city                                            schools  \\\n",
       "0  Southern Pines  [{'rating': ['4', '4', '7', 'NR', '4', '7', 'N...   \n",
       "1  Spokane Valley  [{'rating': ['4/10', 'None/10', '4/10'], 'data...   \n",
       "2     Los Angeles  [{'rating': ['8/10', '4/10', '8/10'], 'data': ...   \n",
       "3          Dallas  [{'rating': ['9/10', '9/10', '10/10', '9/10'],...   \n",
       "4        Palm Bay  [{'rating': ['4/10', '5/10', '5/10'], 'data': ...   \n",
       "\n",
       "         sqft zipcode    beds state stories mls-id PrivatePool       MlsId  \\\n",
       "0        2900   28387       4    NC     NaN    NaN         NaN      611019   \n",
       "1  1,947 sqft   99216  3 Beds    WA     2.0    NaN         NaN   201916904   \n",
       "2  3,000 sqft   90049  3 Beds    CA     1.0    NaN         yes  FR19221027   \n",
       "3  6,457 sqft   75205  5 Beds    TX     3.0    NaN         NaN    14191809   \n",
       "4         NaN   32908     NaN    FL     NaN    NaN         NaN      861745   \n",
       "\n",
       "       target  \n",
       "0    $418,000  \n",
       "1    $310,000  \n",
       "2  $2,895,000  \n",
       "3  $2,395,000  \n",
       "4      $5,000  "
      ]
     },
     "execution_count": 526,
     "metadata": {},
     "output_type": "execute_result"
    }
   ],
   "source": [
    "estate_data.head()"
   ]
  },
  {
   "cell_type": "code",
   "execution_count": null,
   "metadata": {},
   "outputs": [],
   "source": []
  },
  {
   "cell_type": "code",
   "execution_count": 527,
   "metadata": {},
   "outputs": [
    {
     "data": {
      "text/html": [
       "<div>\n",
       "<style scoped>\n",
       "    .dataframe tbody tr th:only-of-type {\n",
       "        vertical-align: middle;\n",
       "    }\n",
       "\n",
       "    .dataframe tbody tr th {\n",
       "        vertical-align: top;\n",
       "    }\n",
       "\n",
       "    .dataframe thead th {\n",
       "        text-align: right;\n",
       "    }\n",
       "</style>\n",
       "<table border=\"1\" class=\"dataframe\">\n",
       "  <thead>\n",
       "    <tr style=\"text-align: right;\">\n",
       "      <th></th>\n",
       "      <th>status</th>\n",
       "      <th>private pool</th>\n",
       "      <th>propertyType</th>\n",
       "      <th>street</th>\n",
       "      <th>baths</th>\n",
       "      <th>homeFacts</th>\n",
       "      <th>fireplace</th>\n",
       "      <th>city</th>\n",
       "      <th>schools</th>\n",
       "      <th>sqft</th>\n",
       "      <th>zipcode</th>\n",
       "      <th>beds</th>\n",
       "      <th>state</th>\n",
       "      <th>stories</th>\n",
       "      <th>mls-id</th>\n",
       "      <th>PrivatePool</th>\n",
       "      <th>MlsId</th>\n",
       "      <th>target</th>\n",
       "    </tr>\n",
       "  </thead>\n",
       "  <tbody>\n",
       "    <tr>\n",
       "      <th>0</th>\n",
       "      <td>active</td>\n",
       "      <td>NaN</td>\n",
       "      <td>Single Family Home</td>\n",
       "      <td>240 Heather Ln</td>\n",
       "      <td>3.5</td>\n",
       "      <td>{'atAGlanceFacts': [{'factValue': '2019', 'fac...</td>\n",
       "      <td>Gas Logs</td>\n",
       "      <td>Southern Pines</td>\n",
       "      <td>[{'rating': ['4', '4', '7', 'NR', '4', '7', 'N...</td>\n",
       "      <td>2900</td>\n",
       "      <td>28387</td>\n",
       "      <td>4</td>\n",
       "      <td>NC</td>\n",
       "      <td>NaN</td>\n",
       "      <td>NaN</td>\n",
       "      <td>NaN</td>\n",
       "      <td>611019</td>\n",
       "      <td>$418,000</td>\n",
       "    </tr>\n",
       "    <tr>\n",
       "      <th>1</th>\n",
       "      <td>for sale</td>\n",
       "      <td>NaN</td>\n",
       "      <td>single-family home</td>\n",
       "      <td>12911 E Heroy Ave</td>\n",
       "      <td>3 Baths</td>\n",
       "      <td>{'atAGlanceFacts': [{'factValue': '2019', 'fac...</td>\n",
       "      <td>NaN</td>\n",
       "      <td>Spokane Valley</td>\n",
       "      <td>[{'rating': ['4/10', 'None/10', '4/10'], 'data...</td>\n",
       "      <td>1,947 sqft</td>\n",
       "      <td>99216</td>\n",
       "      <td>3 Beds</td>\n",
       "      <td>WA</td>\n",
       "      <td>2.0</td>\n",
       "      <td>NaN</td>\n",
       "      <td>NaN</td>\n",
       "      <td>201916904</td>\n",
       "      <td>$310,000</td>\n",
       "    </tr>\n",
       "    <tr>\n",
       "      <th>2</th>\n",
       "      <td>for sale</td>\n",
       "      <td>NaN</td>\n",
       "      <td>single-family home</td>\n",
       "      <td>2005 Westridge Rd</td>\n",
       "      <td>2 Baths</td>\n",
       "      <td>{'atAGlanceFacts': [{'factValue': '1961', 'fac...</td>\n",
       "      <td>yes</td>\n",
       "      <td>Los Angeles</td>\n",
       "      <td>[{'rating': ['8/10', '4/10', '8/10'], 'data': ...</td>\n",
       "      <td>3,000 sqft</td>\n",
       "      <td>90049</td>\n",
       "      <td>3 Beds</td>\n",
       "      <td>CA</td>\n",
       "      <td>1.0</td>\n",
       "      <td>NaN</td>\n",
       "      <td>yes</td>\n",
       "      <td>FR19221027</td>\n",
       "      <td>$2,895,000</td>\n",
       "    </tr>\n",
       "    <tr>\n",
       "      <th>3</th>\n",
       "      <td>for sale</td>\n",
       "      <td>NaN</td>\n",
       "      <td>single-family home</td>\n",
       "      <td>4311 Livingston Ave</td>\n",
       "      <td>8 Baths</td>\n",
       "      <td>{'atAGlanceFacts': [{'factValue': '2006', 'fac...</td>\n",
       "      <td>yes</td>\n",
       "      <td>Dallas</td>\n",
       "      <td>[{'rating': ['9/10', '9/10', '10/10', '9/10'],...</td>\n",
       "      <td>6,457 sqft</td>\n",
       "      <td>75205</td>\n",
       "      <td>5 Beds</td>\n",
       "      <td>TX</td>\n",
       "      <td>3.0</td>\n",
       "      <td>NaN</td>\n",
       "      <td>NaN</td>\n",
       "      <td>14191809</td>\n",
       "      <td>$2,395,000</td>\n",
       "    </tr>\n",
       "    <tr>\n",
       "      <th>4</th>\n",
       "      <td>for sale</td>\n",
       "      <td>NaN</td>\n",
       "      <td>lot/land</td>\n",
       "      <td>1524 Kiscoe St</td>\n",
       "      <td>NaN</td>\n",
       "      <td>{'atAGlanceFacts': [{'factValue': '', 'factLab...</td>\n",
       "      <td>NaN</td>\n",
       "      <td>Palm Bay</td>\n",
       "      <td>[{'rating': ['4/10', '5/10', '5/10'], 'data': ...</td>\n",
       "      <td>NaN</td>\n",
       "      <td>32908</td>\n",
       "      <td>NaN</td>\n",
       "      <td>FL</td>\n",
       "      <td>NaN</td>\n",
       "      <td>NaN</td>\n",
       "      <td>NaN</td>\n",
       "      <td>861745</td>\n",
       "      <td>$5,000</td>\n",
       "    </tr>\n",
       "  </tbody>\n",
       "</table>\n",
       "</div>"
      ],
      "text/plain": [
       "     status private pool        propertyType               street    baths  \\\n",
       "0    active          NaN  Single Family Home       240 Heather Ln      3.5   \n",
       "1  for sale          NaN  single-family home    12911 E Heroy Ave  3 Baths   \n",
       "2  for sale          NaN  single-family home    2005 Westridge Rd  2 Baths   \n",
       "3  for sale          NaN  single-family home  4311 Livingston Ave  8 Baths   \n",
       "4  for sale          NaN            lot/land       1524 Kiscoe St      NaN   \n",
       "\n",
       "                                           homeFacts fireplace  \\\n",
       "0  {'atAGlanceFacts': [{'factValue': '2019', 'fac...  Gas Logs   \n",
       "1  {'atAGlanceFacts': [{'factValue': '2019', 'fac...       NaN   \n",
       "2  {'atAGlanceFacts': [{'factValue': '1961', 'fac...       yes   \n",
       "3  {'atAGlanceFacts': [{'factValue': '2006', 'fac...       yes   \n",
       "4  {'atAGlanceFacts': [{'factValue': '', 'factLab...       NaN   \n",
       "\n",
       "             city                                            schools  \\\n",
       "0  Southern Pines  [{'rating': ['4', '4', '7', 'NR', '4', '7', 'N...   \n",
       "1  Spokane Valley  [{'rating': ['4/10', 'None/10', '4/10'], 'data...   \n",
       "2     Los Angeles  [{'rating': ['8/10', '4/10', '8/10'], 'data': ...   \n",
       "3          Dallas  [{'rating': ['9/10', '9/10', '10/10', '9/10'],...   \n",
       "4        Palm Bay  [{'rating': ['4/10', '5/10', '5/10'], 'data': ...   \n",
       "\n",
       "         sqft zipcode    beds state stories mls-id PrivatePool       MlsId  \\\n",
       "0        2900   28387       4    NC     NaN    NaN         NaN      611019   \n",
       "1  1,947 sqft   99216  3 Beds    WA     2.0    NaN         NaN   201916904   \n",
       "2  3,000 sqft   90049  3 Beds    CA     1.0    NaN         yes  FR19221027   \n",
       "3  6,457 sqft   75205  5 Beds    TX     3.0    NaN         NaN    14191809   \n",
       "4         NaN   32908     NaN    FL     NaN    NaN         NaN      861745   \n",
       "\n",
       "       target  \n",
       "0    $418,000  \n",
       "1    $310,000  \n",
       "2  $2,895,000  \n",
       "3  $2,395,000  \n",
       "4      $5,000  "
      ]
     },
     "execution_count": 527,
     "metadata": {},
     "output_type": "execute_result"
    }
   ],
   "source": [
    "estate_data.head()"
   ]
  },
  {
   "cell_type": "code",
   "execution_count": 528,
   "metadata": {},
   "outputs": [],
   "source": [
    "# Удалим столбец с информацией о улице, так как он не даст объективной информации для модели\n",
    "estate_data.drop('street', axis=1, inplace=True)"
   ]
  },
  {
   "cell_type": "code",
   "execution_count": 529,
   "metadata": {},
   "outputs": [
    {
     "data": {
      "text/plain": [
       "(365015, 17)"
      ]
     },
     "execution_count": 529,
     "metadata": {},
     "output_type": "execute_result"
    }
   ],
   "source": [
    "estate_data.shape"
   ]
  },
  {
   "cell_type": "code",
   "execution_count": 530,
   "metadata": {},
   "outputs": [
    {
     "data": {
      "text/html": [
       "<div>\n",
       "<style scoped>\n",
       "    .dataframe tbody tr th:only-of-type {\n",
       "        vertical-align: middle;\n",
       "    }\n",
       "\n",
       "    .dataframe tbody tr th {\n",
       "        vertical-align: top;\n",
       "    }\n",
       "\n",
       "    .dataframe thead th {\n",
       "        text-align: right;\n",
       "    }\n",
       "</style>\n",
       "<table border=\"1\" class=\"dataframe\">\n",
       "  <thead>\n",
       "    <tr style=\"text-align: right;\">\n",
       "      <th></th>\n",
       "      <th>status</th>\n",
       "      <th>private pool</th>\n",
       "      <th>propertyType</th>\n",
       "      <th>baths</th>\n",
       "      <th>homeFacts</th>\n",
       "      <th>fireplace</th>\n",
       "      <th>city</th>\n",
       "      <th>schools</th>\n",
       "      <th>sqft</th>\n",
       "      <th>zipcode</th>\n",
       "      <th>beds</th>\n",
       "      <th>state</th>\n",
       "      <th>stories</th>\n",
       "      <th>mls-id</th>\n",
       "      <th>PrivatePool</th>\n",
       "      <th>MlsId</th>\n",
       "      <th>target</th>\n",
       "    </tr>\n",
       "  </thead>\n",
       "  <tbody>\n",
       "    <tr>\n",
       "      <th>0</th>\n",
       "      <td>active</td>\n",
       "      <td>NaN</td>\n",
       "      <td>Single Family Home</td>\n",
       "      <td>3.5</td>\n",
       "      <td>{'atAGlanceFacts': [{'factValue': '2019', 'fac...</td>\n",
       "      <td>Gas Logs</td>\n",
       "      <td>Southern Pines</td>\n",
       "      <td>[{'rating': ['4', '4', '7', 'NR', '4', '7', 'N...</td>\n",
       "      <td>2900</td>\n",
       "      <td>28387</td>\n",
       "      <td>4</td>\n",
       "      <td>NC</td>\n",
       "      <td>NaN</td>\n",
       "      <td>NaN</td>\n",
       "      <td>NaN</td>\n",
       "      <td>611019</td>\n",
       "      <td>$418,000</td>\n",
       "    </tr>\n",
       "    <tr>\n",
       "      <th>1</th>\n",
       "      <td>for sale</td>\n",
       "      <td>NaN</td>\n",
       "      <td>single-family home</td>\n",
       "      <td>3 Baths</td>\n",
       "      <td>{'atAGlanceFacts': [{'factValue': '2019', 'fac...</td>\n",
       "      <td>NaN</td>\n",
       "      <td>Spokane Valley</td>\n",
       "      <td>[{'rating': ['4/10', 'None/10', '4/10'], 'data...</td>\n",
       "      <td>1,947 sqft</td>\n",
       "      <td>99216</td>\n",
       "      <td>3 Beds</td>\n",
       "      <td>WA</td>\n",
       "      <td>2.0</td>\n",
       "      <td>NaN</td>\n",
       "      <td>NaN</td>\n",
       "      <td>201916904</td>\n",
       "      <td>$310,000</td>\n",
       "    </tr>\n",
       "    <tr>\n",
       "      <th>2</th>\n",
       "      <td>for sale</td>\n",
       "      <td>NaN</td>\n",
       "      <td>single-family home</td>\n",
       "      <td>2 Baths</td>\n",
       "      <td>{'atAGlanceFacts': [{'factValue': '1961', 'fac...</td>\n",
       "      <td>yes</td>\n",
       "      <td>Los Angeles</td>\n",
       "      <td>[{'rating': ['8/10', '4/10', '8/10'], 'data': ...</td>\n",
       "      <td>3,000 sqft</td>\n",
       "      <td>90049</td>\n",
       "      <td>3 Beds</td>\n",
       "      <td>CA</td>\n",
       "      <td>1.0</td>\n",
       "      <td>NaN</td>\n",
       "      <td>yes</td>\n",
       "      <td>FR19221027</td>\n",
       "      <td>$2,895,000</td>\n",
       "    </tr>\n",
       "    <tr>\n",
       "      <th>3</th>\n",
       "      <td>for sale</td>\n",
       "      <td>NaN</td>\n",
       "      <td>single-family home</td>\n",
       "      <td>8 Baths</td>\n",
       "      <td>{'atAGlanceFacts': [{'factValue': '2006', 'fac...</td>\n",
       "      <td>yes</td>\n",
       "      <td>Dallas</td>\n",
       "      <td>[{'rating': ['9/10', '9/10', '10/10', '9/10'],...</td>\n",
       "      <td>6,457 sqft</td>\n",
       "      <td>75205</td>\n",
       "      <td>5 Beds</td>\n",
       "      <td>TX</td>\n",
       "      <td>3.0</td>\n",
       "      <td>NaN</td>\n",
       "      <td>NaN</td>\n",
       "      <td>14191809</td>\n",
       "      <td>$2,395,000</td>\n",
       "    </tr>\n",
       "    <tr>\n",
       "      <th>4</th>\n",
       "      <td>for sale</td>\n",
       "      <td>NaN</td>\n",
       "      <td>lot/land</td>\n",
       "      <td>NaN</td>\n",
       "      <td>{'atAGlanceFacts': [{'factValue': '', 'factLab...</td>\n",
       "      <td>NaN</td>\n",
       "      <td>Palm Bay</td>\n",
       "      <td>[{'rating': ['4/10', '5/10', '5/10'], 'data': ...</td>\n",
       "      <td>NaN</td>\n",
       "      <td>32908</td>\n",
       "      <td>NaN</td>\n",
       "      <td>FL</td>\n",
       "      <td>NaN</td>\n",
       "      <td>NaN</td>\n",
       "      <td>NaN</td>\n",
       "      <td>861745</td>\n",
       "      <td>$5,000</td>\n",
       "    </tr>\n",
       "  </tbody>\n",
       "</table>\n",
       "</div>"
      ],
      "text/plain": [
       "     status private pool        propertyType    baths  \\\n",
       "0    active          NaN  Single Family Home      3.5   \n",
       "1  for sale          NaN  single-family home  3 Baths   \n",
       "2  for sale          NaN  single-family home  2 Baths   \n",
       "3  for sale          NaN  single-family home  8 Baths   \n",
       "4  for sale          NaN            lot/land      NaN   \n",
       "\n",
       "                                           homeFacts fireplace  \\\n",
       "0  {'atAGlanceFacts': [{'factValue': '2019', 'fac...  Gas Logs   \n",
       "1  {'atAGlanceFacts': [{'factValue': '2019', 'fac...       NaN   \n",
       "2  {'atAGlanceFacts': [{'factValue': '1961', 'fac...       yes   \n",
       "3  {'atAGlanceFacts': [{'factValue': '2006', 'fac...       yes   \n",
       "4  {'atAGlanceFacts': [{'factValue': '', 'factLab...       NaN   \n",
       "\n",
       "             city                                            schools  \\\n",
       "0  Southern Pines  [{'rating': ['4', '4', '7', 'NR', '4', '7', 'N...   \n",
       "1  Spokane Valley  [{'rating': ['4/10', 'None/10', '4/10'], 'data...   \n",
       "2     Los Angeles  [{'rating': ['8/10', '4/10', '8/10'], 'data': ...   \n",
       "3          Dallas  [{'rating': ['9/10', '9/10', '10/10', '9/10'],...   \n",
       "4        Palm Bay  [{'rating': ['4/10', '5/10', '5/10'], 'data': ...   \n",
       "\n",
       "         sqft zipcode    beds state stories mls-id PrivatePool       MlsId  \\\n",
       "0        2900   28387       4    NC     NaN    NaN         NaN      611019   \n",
       "1  1,947 sqft   99216  3 Beds    WA     2.0    NaN         NaN   201916904   \n",
       "2  3,000 sqft   90049  3 Beds    CA     1.0    NaN         yes  FR19221027   \n",
       "3  6,457 sqft   75205  5 Beds    TX     3.0    NaN         NaN    14191809   \n",
       "4         NaN   32908     NaN    FL     NaN    NaN         NaN      861745   \n",
       "\n",
       "       target  \n",
       "0    $418,000  \n",
       "1    $310,000  \n",
       "2  $2,895,000  \n",
       "3  $2,395,000  \n",
       "4      $5,000  "
      ]
     },
     "execution_count": 530,
     "metadata": {},
     "output_type": "execute_result"
    }
   ],
   "source": [
    "estate_data.head()"
   ]
  },
  {
   "cell_type": "code",
   "execution_count": 531,
   "metadata": {},
   "outputs": [
    {
     "name": "stdout",
     "output_type": "stream",
     "text": [
      "<class 'pandas.core.frame.DataFrame'>\n",
      "RangeIndex: 365015 entries, 0 to 365014\n",
      "Data columns (total 17 columns):\n",
      " #   Column        Non-Null Count   Dtype \n",
      "---  ------        --------------   ----- \n",
      " 0   status        365015 non-null  object\n",
      " 1   private pool  3992 non-null    object\n",
      " 2   propertyType  330424 non-null  object\n",
      " 3   baths         260606 non-null  object\n",
      " 4   homeFacts     365015 non-null  object\n",
      " 5   fireplace     97940 non-null   object\n",
      " 6   city          364982 non-null  object\n",
      " 7   schools       365015 non-null  object\n",
      " 8   sqft          325170 non-null  object\n",
      " 9   zipcode       365015 non-null  object\n",
      " 10  beds          274914 non-null  object\n",
      " 11  state         365015 non-null  object\n",
      " 12  stories       218893 non-null  object\n",
      " 13  mls-id        24894 non-null   object\n",
      " 14  PrivatePool   40090 non-null   object\n",
      " 15  MlsId         301691 non-null  object\n",
      " 16  target        363295 non-null  object\n",
      "dtypes: object(17)\n",
      "memory usage: 47.3+ MB\n"
     ]
    }
   ],
   "source": [
    "estate_data.info()"
   ]
  },
  {
   "cell_type": "code",
   "execution_count": null,
   "metadata": {},
   "outputs": [],
   "source": []
  },
  {
   "cell_type": "markdown",
   "metadata": {},
   "source": [
    "### Private pool"
   ]
  },
  {
   "cell_type": "code",
   "execution_count": 532,
   "metadata": {},
   "outputs": [],
   "source": [
    "# В датасете есть два столбца относящиеся к Private pool. Проведем необходимую подготовку данных\n",
    "# и объеденим два столбца."
   ]
  },
  {
   "cell_type": "code",
   "execution_count": 533,
   "metadata": {},
   "outputs": [
    {
     "data": {
      "text/plain": [
       "361023"
      ]
     },
     "execution_count": 533,
     "metadata": {},
     "output_type": "execute_result"
    }
   ],
   "source": [
    "estate_data['private pool'].isna().sum()"
   ]
  },
  {
   "cell_type": "code",
   "execution_count": 534,
   "metadata": {},
   "outputs": [],
   "source": [
    "estate_data['private pool'] = estate_data['private pool'].fillna('')"
   ]
  },
  {
   "cell_type": "code",
   "execution_count": 535,
   "metadata": {},
   "outputs": [
    {
     "data": {
      "text/plain": [
       "status               0\n",
       "private pool         0\n",
       "propertyType     34591\n",
       "baths           104409\n",
       "homeFacts            0\n",
       "fireplace       267075\n",
       "city                33\n",
       "schools              0\n",
       "sqft             39845\n",
       "zipcode              0\n",
       "beds             90101\n",
       "state                0\n",
       "stories         146122\n",
       "mls-id          340121\n",
       "PrivatePool     324925\n",
       "MlsId            63324\n",
       "target            1720\n",
       "dtype: int64"
      ]
     },
     "execution_count": 535,
     "metadata": {},
     "output_type": "execute_result"
    }
   ],
   "source": [
    "estate_data.isna().sum()"
   ]
  },
  {
   "cell_type": "code",
   "execution_count": 536,
   "metadata": {
    "scrolled": true
   },
   "outputs": [
    {
     "data": {
      "text/html": [
       "<div>\n",
       "<style scoped>\n",
       "    .dataframe tbody tr th:only-of-type {\n",
       "        vertical-align: middle;\n",
       "    }\n",
       "\n",
       "    .dataframe tbody tr th {\n",
       "        vertical-align: top;\n",
       "    }\n",
       "\n",
       "    .dataframe thead th {\n",
       "        text-align: right;\n",
       "    }\n",
       "</style>\n",
       "<table border=\"1\" class=\"dataframe\">\n",
       "  <thead>\n",
       "    <tr style=\"text-align: right;\">\n",
       "      <th></th>\n",
       "      <th>status</th>\n",
       "      <th>private pool</th>\n",
       "      <th>propertyType</th>\n",
       "      <th>baths</th>\n",
       "      <th>homeFacts</th>\n",
       "      <th>fireplace</th>\n",
       "      <th>city</th>\n",
       "      <th>schools</th>\n",
       "      <th>sqft</th>\n",
       "      <th>zipcode</th>\n",
       "      <th>beds</th>\n",
       "      <th>state</th>\n",
       "      <th>stories</th>\n",
       "      <th>mls-id</th>\n",
       "      <th>PrivatePool</th>\n",
       "      <th>MlsId</th>\n",
       "      <th>target</th>\n",
       "    </tr>\n",
       "  </thead>\n",
       "  <tbody>\n",
       "    <tr>\n",
       "      <th>0</th>\n",
       "      <td>active</td>\n",
       "      <td></td>\n",
       "      <td>Single Family Home</td>\n",
       "      <td>3.5</td>\n",
       "      <td>{'atAGlanceFacts': [{'factValue': '2019', 'fac...</td>\n",
       "      <td>Gas Logs</td>\n",
       "      <td>Southern Pines</td>\n",
       "      <td>[{'rating': ['4', '4', '7', 'NR', '4', '7', 'N...</td>\n",
       "      <td>2900</td>\n",
       "      <td>28387</td>\n",
       "      <td>4</td>\n",
       "      <td>NC</td>\n",
       "      <td>NaN</td>\n",
       "      <td>NaN</td>\n",
       "      <td>NaN</td>\n",
       "      <td>611019</td>\n",
       "      <td>$418,000</td>\n",
       "    </tr>\n",
       "    <tr>\n",
       "      <th>1</th>\n",
       "      <td>for sale</td>\n",
       "      <td></td>\n",
       "      <td>single-family home</td>\n",
       "      <td>3 Baths</td>\n",
       "      <td>{'atAGlanceFacts': [{'factValue': '2019', 'fac...</td>\n",
       "      <td>NaN</td>\n",
       "      <td>Spokane Valley</td>\n",
       "      <td>[{'rating': ['4/10', 'None/10', '4/10'], 'data...</td>\n",
       "      <td>1,947 sqft</td>\n",
       "      <td>99216</td>\n",
       "      <td>3 Beds</td>\n",
       "      <td>WA</td>\n",
       "      <td>2.0</td>\n",
       "      <td>NaN</td>\n",
       "      <td>NaN</td>\n",
       "      <td>201916904</td>\n",
       "      <td>$310,000</td>\n",
       "    </tr>\n",
       "    <tr>\n",
       "      <th>2</th>\n",
       "      <td>for sale</td>\n",
       "      <td></td>\n",
       "      <td>single-family home</td>\n",
       "      <td>2 Baths</td>\n",
       "      <td>{'atAGlanceFacts': [{'factValue': '1961', 'fac...</td>\n",
       "      <td>yes</td>\n",
       "      <td>Los Angeles</td>\n",
       "      <td>[{'rating': ['8/10', '4/10', '8/10'], 'data': ...</td>\n",
       "      <td>3,000 sqft</td>\n",
       "      <td>90049</td>\n",
       "      <td>3 Beds</td>\n",
       "      <td>CA</td>\n",
       "      <td>1.0</td>\n",
       "      <td>NaN</td>\n",
       "      <td>yes</td>\n",
       "      <td>FR19221027</td>\n",
       "      <td>$2,895,000</td>\n",
       "    </tr>\n",
       "    <tr>\n",
       "      <th>3</th>\n",
       "      <td>for sale</td>\n",
       "      <td></td>\n",
       "      <td>single-family home</td>\n",
       "      <td>8 Baths</td>\n",
       "      <td>{'atAGlanceFacts': [{'factValue': '2006', 'fac...</td>\n",
       "      <td>yes</td>\n",
       "      <td>Dallas</td>\n",
       "      <td>[{'rating': ['9/10', '9/10', '10/10', '9/10'],...</td>\n",
       "      <td>6,457 sqft</td>\n",
       "      <td>75205</td>\n",
       "      <td>5 Beds</td>\n",
       "      <td>TX</td>\n",
       "      <td>3.0</td>\n",
       "      <td>NaN</td>\n",
       "      <td>NaN</td>\n",
       "      <td>14191809</td>\n",
       "      <td>$2,395,000</td>\n",
       "    </tr>\n",
       "    <tr>\n",
       "      <th>4</th>\n",
       "      <td>for sale</td>\n",
       "      <td></td>\n",
       "      <td>lot/land</td>\n",
       "      <td>NaN</td>\n",
       "      <td>{'atAGlanceFacts': [{'factValue': '', 'factLab...</td>\n",
       "      <td>NaN</td>\n",
       "      <td>Palm Bay</td>\n",
       "      <td>[{'rating': ['4/10', '5/10', '5/10'], 'data': ...</td>\n",
       "      <td>NaN</td>\n",
       "      <td>32908</td>\n",
       "      <td>NaN</td>\n",
       "      <td>FL</td>\n",
       "      <td>NaN</td>\n",
       "      <td>NaN</td>\n",
       "      <td>NaN</td>\n",
       "      <td>861745</td>\n",
       "      <td>$5,000</td>\n",
       "    </tr>\n",
       "  </tbody>\n",
       "</table>\n",
       "</div>"
      ],
      "text/plain": [
       "     status private pool        propertyType    baths  \\\n",
       "0    active               Single Family Home      3.5   \n",
       "1  for sale               single-family home  3 Baths   \n",
       "2  for sale               single-family home  2 Baths   \n",
       "3  for sale               single-family home  8 Baths   \n",
       "4  for sale                         lot/land      NaN   \n",
       "\n",
       "                                           homeFacts fireplace  \\\n",
       "0  {'atAGlanceFacts': [{'factValue': '2019', 'fac...  Gas Logs   \n",
       "1  {'atAGlanceFacts': [{'factValue': '2019', 'fac...       NaN   \n",
       "2  {'atAGlanceFacts': [{'factValue': '1961', 'fac...       yes   \n",
       "3  {'atAGlanceFacts': [{'factValue': '2006', 'fac...       yes   \n",
       "4  {'atAGlanceFacts': [{'factValue': '', 'factLab...       NaN   \n",
       "\n",
       "             city                                            schools  \\\n",
       "0  Southern Pines  [{'rating': ['4', '4', '7', 'NR', '4', '7', 'N...   \n",
       "1  Spokane Valley  [{'rating': ['4/10', 'None/10', '4/10'], 'data...   \n",
       "2     Los Angeles  [{'rating': ['8/10', '4/10', '8/10'], 'data': ...   \n",
       "3          Dallas  [{'rating': ['9/10', '9/10', '10/10', '9/10'],...   \n",
       "4        Palm Bay  [{'rating': ['4/10', '5/10', '5/10'], 'data': ...   \n",
       "\n",
       "         sqft zipcode    beds state stories mls-id PrivatePool       MlsId  \\\n",
       "0        2900   28387       4    NC     NaN    NaN         NaN      611019   \n",
       "1  1,947 sqft   99216  3 Beds    WA     2.0    NaN         NaN   201916904   \n",
       "2  3,000 sqft   90049  3 Beds    CA     1.0    NaN         yes  FR19221027   \n",
       "3  6,457 sqft   75205  5 Beds    TX     3.0    NaN         NaN    14191809   \n",
       "4         NaN   32908     NaN    FL     NaN    NaN         NaN      861745   \n",
       "\n",
       "       target  \n",
       "0    $418,000  \n",
       "1    $310,000  \n",
       "2  $2,895,000  \n",
       "3  $2,395,000  \n",
       "4      $5,000  "
      ]
     },
     "execution_count": 536,
     "metadata": {},
     "output_type": "execute_result"
    }
   ],
   "source": [
    "estate_data.head()"
   ]
  },
  {
   "cell_type": "code",
   "execution_count": null,
   "metadata": {},
   "outputs": [],
   "source": []
  },
  {
   "cell_type": "code",
   "execution_count": 537,
   "metadata": {},
   "outputs": [
    {
     "data": {
      "text/plain": [
       "0"
      ]
     },
     "execution_count": 537,
     "metadata": {},
     "output_type": "execute_result"
    }
   ],
   "source": [
    "estate_data['private pool'].isna().sum()"
   ]
  },
  {
   "cell_type": "code",
   "execution_count": 538,
   "metadata": {},
   "outputs": [
    {
     "data": {
      "text/plain": [
       "       0.989063\n",
       "Yes    0.010937\n",
       "Name: private pool, dtype: float64"
      ]
     },
     "execution_count": 538,
     "metadata": {},
     "output_type": "execute_result"
    }
   ],
   "source": [
    "estate_data['private pool'].value_counts(normalize=True)"
   ]
  },
  {
   "cell_type": "code",
   "execution_count": null,
   "metadata": {},
   "outputs": [],
   "source": []
  },
  {
   "cell_type": "code",
   "execution_count": 539,
   "metadata": {},
   "outputs": [
    {
     "data": {
      "text/plain": [
       "yes    0.714567\n",
       "Yes    0.285433\n",
       "Name: PrivatePool, dtype: float64"
      ]
     },
     "execution_count": 539,
     "metadata": {},
     "output_type": "execute_result"
    }
   ],
   "source": [
    "estate_data['PrivatePool'].value_counts(normalize=True)"
   ]
  },
  {
   "cell_type": "code",
   "execution_count": 540,
   "metadata": {},
   "outputs": [
    {
     "data": {
      "text/plain": [
       "324925"
      ]
     },
     "execution_count": 540,
     "metadata": {},
     "output_type": "execute_result"
    }
   ],
   "source": [
    "estate_data['PrivatePool'].isna().sum()"
   ]
  },
  {
   "cell_type": "code",
   "execution_count": 541,
   "metadata": {},
   "outputs": [],
   "source": [
    "estate_data['PrivatePool'] = estate_data['PrivatePool'].fillna('')"
   ]
  },
  {
   "cell_type": "code",
   "execution_count": 542,
   "metadata": {},
   "outputs": [
    {
     "data": {
      "text/plain": [
       "status               0\n",
       "private pool         0\n",
       "propertyType     34591\n",
       "baths           104409\n",
       "homeFacts            0\n",
       "fireplace       267075\n",
       "city                33\n",
       "schools              0\n",
       "sqft             39845\n",
       "zipcode              0\n",
       "beds             90101\n",
       "state                0\n",
       "stories         146122\n",
       "mls-id          340121\n",
       "PrivatePool          0\n",
       "MlsId            63324\n",
       "target            1720\n",
       "dtype: int64"
      ]
     },
     "execution_count": 542,
     "metadata": {},
     "output_type": "execute_result"
    }
   ],
   "source": [
    "estate_data.isna().sum()"
   ]
  },
  {
   "cell_type": "code",
   "execution_count": null,
   "metadata": {},
   "outputs": [],
   "source": []
  },
  {
   "cell_type": "code",
   "execution_count": 543,
   "metadata": {},
   "outputs": [],
   "source": [
    "# Объеденим данные двух столбцов 'PrivatePool' и 'private pool'\n",
    "estate_data['Pool'] = estate_data['PrivatePool'] + estate_data['private pool']"
   ]
  },
  {
   "cell_type": "code",
   "execution_count": 544,
   "metadata": {},
   "outputs": [
    {
     "data": {
      "text/plain": [
       "status               0\n",
       "private pool         0\n",
       "propertyType     34591\n",
       "baths           104409\n",
       "homeFacts            0\n",
       "fireplace       267075\n",
       "city                33\n",
       "schools              0\n",
       "sqft             39845\n",
       "zipcode              0\n",
       "beds             90101\n",
       "state                0\n",
       "stories         146122\n",
       "mls-id          340121\n",
       "PrivatePool          0\n",
       "MlsId            63324\n",
       "target            1720\n",
       "Pool                 0\n",
       "dtype: int64"
      ]
     },
     "execution_count": 544,
     "metadata": {},
     "output_type": "execute_result"
    }
   ],
   "source": [
    "estate_data.isna().sum()"
   ]
  },
  {
   "cell_type": "code",
   "execution_count": 545,
   "metadata": {},
   "outputs": [
    {
     "data": {
      "text/plain": [
       "       0.879232\n",
       "yes    0.078482\n",
       "Yes    0.042286\n",
       "Name: Pool, dtype: float64"
      ]
     },
     "execution_count": 545,
     "metadata": {},
     "output_type": "execute_result"
    }
   ],
   "source": [
    "estate_data['Pool'].value_counts(normalize=True)"
   ]
  },
  {
   "cell_type": "code",
   "execution_count": 546,
   "metadata": {},
   "outputs": [
    {
     "data": {
      "text/plain": [
       "       0.879232\n",
       "yes    0.078482\n",
       "Yes    0.042286\n",
       "Name: Pool, dtype: float64"
      ]
     },
     "execution_count": 546,
     "metadata": {},
     "output_type": "execute_result"
    }
   ],
   "source": [
    "estate_data['Pool'].value_counts(normalize=True)"
   ]
  },
  {
   "cell_type": "code",
   "execution_count": 547,
   "metadata": {},
   "outputs": [],
   "source": [
    "estate_data['Pool'] = estate_data['Pool'].replace(r'^\\s*$', 'No', regex=True)"
   ]
  },
  {
   "cell_type": "code",
   "execution_count": 548,
   "metadata": {},
   "outputs": [
    {
     "data": {
      "text/plain": [
       "No     0.879232\n",
       "yes    0.078482\n",
       "Yes    0.042286\n",
       "Name: Pool, dtype: float64"
      ]
     },
     "execution_count": 548,
     "metadata": {},
     "output_type": "execute_result"
    }
   ],
   "source": [
    "estate_data['Pool'].value_counts(normalize=True)"
   ]
  },
  {
   "cell_type": "code",
   "execution_count": 549,
   "metadata": {},
   "outputs": [],
   "source": [
    "estate_data['Pool'] = estate_data['Pool'].replace('yes', 'Yes', regex=True)"
   ]
  },
  {
   "cell_type": "code",
   "execution_count": 550,
   "metadata": {},
   "outputs": [
    {
     "data": {
      "text/plain": [
       "No     0.879232\n",
       "Yes    0.120768\n",
       "Name: Pool, dtype: float64"
      ]
     },
     "execution_count": 550,
     "metadata": {},
     "output_type": "execute_result"
    }
   ],
   "source": [
    "estate_data['Pool'].value_counts(normalize=True)"
   ]
  },
  {
   "cell_type": "code",
   "execution_count": 551,
   "metadata": {},
   "outputs": [],
   "source": [
    "# Удалим одиночные столбцы 'private pool' и 'PrivatePool'\n",
    "\n",
    "estate_data = estate_data.drop(['private pool','PrivatePool'], axis=1)"
   ]
  },
  {
   "cell_type": "code",
   "execution_count": null,
   "metadata": {},
   "outputs": [],
   "source": []
  },
  {
   "cell_type": "code",
   "execution_count": 552,
   "metadata": {},
   "outputs": [
    {
     "data": {
      "text/html": [
       "<div>\n",
       "<style scoped>\n",
       "    .dataframe tbody tr th:only-of-type {\n",
       "        vertical-align: middle;\n",
       "    }\n",
       "\n",
       "    .dataframe tbody tr th {\n",
       "        vertical-align: top;\n",
       "    }\n",
       "\n",
       "    .dataframe thead th {\n",
       "        text-align: right;\n",
       "    }\n",
       "</style>\n",
       "<table border=\"1\" class=\"dataframe\">\n",
       "  <thead>\n",
       "    <tr style=\"text-align: right;\">\n",
       "      <th></th>\n",
       "      <th>status</th>\n",
       "      <th>propertyType</th>\n",
       "      <th>baths</th>\n",
       "      <th>homeFacts</th>\n",
       "      <th>fireplace</th>\n",
       "      <th>city</th>\n",
       "      <th>schools</th>\n",
       "      <th>sqft</th>\n",
       "      <th>zipcode</th>\n",
       "      <th>beds</th>\n",
       "      <th>state</th>\n",
       "      <th>stories</th>\n",
       "      <th>mls-id</th>\n",
       "      <th>MlsId</th>\n",
       "      <th>target</th>\n",
       "      <th>Pool</th>\n",
       "    </tr>\n",
       "  </thead>\n",
       "  <tbody>\n",
       "    <tr>\n",
       "      <th>0</th>\n",
       "      <td>active</td>\n",
       "      <td>Single Family Home</td>\n",
       "      <td>3.5</td>\n",
       "      <td>{'atAGlanceFacts': [{'factValue': '2019', 'fac...</td>\n",
       "      <td>Gas Logs</td>\n",
       "      <td>Southern Pines</td>\n",
       "      <td>[{'rating': ['4', '4', '7', 'NR', '4', '7', 'N...</td>\n",
       "      <td>2900</td>\n",
       "      <td>28387</td>\n",
       "      <td>4</td>\n",
       "      <td>NC</td>\n",
       "      <td>NaN</td>\n",
       "      <td>NaN</td>\n",
       "      <td>611019</td>\n",
       "      <td>$418,000</td>\n",
       "      <td>No</td>\n",
       "    </tr>\n",
       "    <tr>\n",
       "      <th>1</th>\n",
       "      <td>for sale</td>\n",
       "      <td>single-family home</td>\n",
       "      <td>3 Baths</td>\n",
       "      <td>{'atAGlanceFacts': [{'factValue': '2019', 'fac...</td>\n",
       "      <td>NaN</td>\n",
       "      <td>Spokane Valley</td>\n",
       "      <td>[{'rating': ['4/10', 'None/10', '4/10'], 'data...</td>\n",
       "      <td>1,947 sqft</td>\n",
       "      <td>99216</td>\n",
       "      <td>3 Beds</td>\n",
       "      <td>WA</td>\n",
       "      <td>2.0</td>\n",
       "      <td>NaN</td>\n",
       "      <td>201916904</td>\n",
       "      <td>$310,000</td>\n",
       "      <td>No</td>\n",
       "    </tr>\n",
       "    <tr>\n",
       "      <th>2</th>\n",
       "      <td>for sale</td>\n",
       "      <td>single-family home</td>\n",
       "      <td>2 Baths</td>\n",
       "      <td>{'atAGlanceFacts': [{'factValue': '1961', 'fac...</td>\n",
       "      <td>yes</td>\n",
       "      <td>Los Angeles</td>\n",
       "      <td>[{'rating': ['8/10', '4/10', '8/10'], 'data': ...</td>\n",
       "      <td>3,000 sqft</td>\n",
       "      <td>90049</td>\n",
       "      <td>3 Beds</td>\n",
       "      <td>CA</td>\n",
       "      <td>1.0</td>\n",
       "      <td>NaN</td>\n",
       "      <td>FR19221027</td>\n",
       "      <td>$2,895,000</td>\n",
       "      <td>Yes</td>\n",
       "    </tr>\n",
       "    <tr>\n",
       "      <th>3</th>\n",
       "      <td>for sale</td>\n",
       "      <td>single-family home</td>\n",
       "      <td>8 Baths</td>\n",
       "      <td>{'atAGlanceFacts': [{'factValue': '2006', 'fac...</td>\n",
       "      <td>yes</td>\n",
       "      <td>Dallas</td>\n",
       "      <td>[{'rating': ['9/10', '9/10', '10/10', '9/10'],...</td>\n",
       "      <td>6,457 sqft</td>\n",
       "      <td>75205</td>\n",
       "      <td>5 Beds</td>\n",
       "      <td>TX</td>\n",
       "      <td>3.0</td>\n",
       "      <td>NaN</td>\n",
       "      <td>14191809</td>\n",
       "      <td>$2,395,000</td>\n",
       "      <td>No</td>\n",
       "    </tr>\n",
       "    <tr>\n",
       "      <th>4</th>\n",
       "      <td>for sale</td>\n",
       "      <td>lot/land</td>\n",
       "      <td>NaN</td>\n",
       "      <td>{'atAGlanceFacts': [{'factValue': '', 'factLab...</td>\n",
       "      <td>NaN</td>\n",
       "      <td>Palm Bay</td>\n",
       "      <td>[{'rating': ['4/10', '5/10', '5/10'], 'data': ...</td>\n",
       "      <td>NaN</td>\n",
       "      <td>32908</td>\n",
       "      <td>NaN</td>\n",
       "      <td>FL</td>\n",
       "      <td>NaN</td>\n",
       "      <td>NaN</td>\n",
       "      <td>861745</td>\n",
       "      <td>$5,000</td>\n",
       "      <td>No</td>\n",
       "    </tr>\n",
       "  </tbody>\n",
       "</table>\n",
       "</div>"
      ],
      "text/plain": [
       "     status        propertyType    baths  \\\n",
       "0    active  Single Family Home      3.5   \n",
       "1  for sale  single-family home  3 Baths   \n",
       "2  for sale  single-family home  2 Baths   \n",
       "3  for sale  single-family home  8 Baths   \n",
       "4  for sale            lot/land      NaN   \n",
       "\n",
       "                                           homeFacts fireplace  \\\n",
       "0  {'atAGlanceFacts': [{'factValue': '2019', 'fac...  Gas Logs   \n",
       "1  {'atAGlanceFacts': [{'factValue': '2019', 'fac...       NaN   \n",
       "2  {'atAGlanceFacts': [{'factValue': '1961', 'fac...       yes   \n",
       "3  {'atAGlanceFacts': [{'factValue': '2006', 'fac...       yes   \n",
       "4  {'atAGlanceFacts': [{'factValue': '', 'factLab...       NaN   \n",
       "\n",
       "             city                                            schools  \\\n",
       "0  Southern Pines  [{'rating': ['4', '4', '7', 'NR', '4', '7', 'N...   \n",
       "1  Spokane Valley  [{'rating': ['4/10', 'None/10', '4/10'], 'data...   \n",
       "2     Los Angeles  [{'rating': ['8/10', '4/10', '8/10'], 'data': ...   \n",
       "3          Dallas  [{'rating': ['9/10', '9/10', '10/10', '9/10'],...   \n",
       "4        Palm Bay  [{'rating': ['4/10', '5/10', '5/10'], 'data': ...   \n",
       "\n",
       "         sqft zipcode    beds state stories mls-id       MlsId      target  \\\n",
       "0        2900   28387       4    NC     NaN    NaN      611019    $418,000   \n",
       "1  1,947 sqft   99216  3 Beds    WA     2.0    NaN   201916904    $310,000   \n",
       "2  3,000 sqft   90049  3 Beds    CA     1.0    NaN  FR19221027  $2,895,000   \n",
       "3  6,457 sqft   75205  5 Beds    TX     3.0    NaN    14191809  $2,395,000   \n",
       "4         NaN   32908     NaN    FL     NaN    NaN      861745      $5,000   \n",
       "\n",
       "  Pool  \n",
       "0   No  \n",
       "1   No  \n",
       "2  Yes  \n",
       "3   No  \n",
       "4   No  "
      ]
     },
     "execution_count": 552,
     "metadata": {},
     "output_type": "execute_result"
    }
   ],
   "source": [
    "estate_data.head()"
   ]
  },
  {
   "cell_type": "code",
   "execution_count": null,
   "metadata": {},
   "outputs": [],
   "source": []
  },
  {
   "cell_type": "code",
   "execution_count": 553,
   "metadata": {},
   "outputs": [
    {
     "data": {
      "text/plain": [
       "status                                                   for sale\n",
       "propertyType                                             lot/land\n",
       "baths                                                         NaN\n",
       "homeFacts       {'atAGlanceFacts': [{'factValue': '', 'factLab...\n",
       "fireplace                                                     NaN\n",
       "city                                                     Palm Bay\n",
       "schools         [{'rating': ['4/10', '5/10', '5/10'], 'data': ...\n",
       "sqft                                                          NaN\n",
       "zipcode                                                     32908\n",
       "beds                                                          NaN\n",
       "state                                                          FL\n",
       "stories                                                       NaN\n",
       "mls-id                                                        NaN\n",
       "MlsId                                                      861745\n",
       "target                                                     $5,000\n",
       "Pool                                                           No\n",
       "Name: 4, dtype: object"
      ]
     },
     "execution_count": 553,
     "metadata": {},
     "output_type": "execute_result"
    }
   ],
   "source": [
    "estate_data.loc[4]"
   ]
  },
  {
   "cell_type": "code",
   "execution_count": 554,
   "metadata": {},
   "outputs": [],
   "source": [
    "# Удалим информацию о зипкоде, mls-od и штате так как они не дают объективную информацию для модели\n",
    "estate_data = estate_data.drop(['zipcode', 'mls-id', 'MlsId', 'state'], axis=1)"
   ]
  },
  {
   "cell_type": "code",
   "execution_count": 555,
   "metadata": {},
   "outputs": [
    {
     "name": "stdout",
     "output_type": "stream",
     "text": [
      "<class 'pandas.core.frame.DataFrame'>\n",
      "RangeIndex: 365015 entries, 0 to 365014\n",
      "Data columns (total 12 columns):\n",
      " #   Column        Non-Null Count   Dtype \n",
      "---  ------        --------------   ----- \n",
      " 0   status        365015 non-null  object\n",
      " 1   propertyType  330424 non-null  object\n",
      " 2   baths         260606 non-null  object\n",
      " 3   homeFacts     365015 non-null  object\n",
      " 4   fireplace     97940 non-null   object\n",
      " 5   city          364982 non-null  object\n",
      " 6   schools       365015 non-null  object\n",
      " 7   sqft          325170 non-null  object\n",
      " 8   beds          274914 non-null  object\n",
      " 9   stories       218893 non-null  object\n",
      " 10  target        363295 non-null  object\n",
      " 11  Pool          365015 non-null  object\n",
      "dtypes: object(12)\n",
      "memory usage: 33.4+ MB\n"
     ]
    }
   ],
   "source": [
    "estate_data.info()"
   ]
  },
  {
   "cell_type": "code",
   "execution_count": 556,
   "metadata": {},
   "outputs": [
    {
     "data": {
      "text/html": [
       "<div>\n",
       "<style scoped>\n",
       "    .dataframe tbody tr th:only-of-type {\n",
       "        vertical-align: middle;\n",
       "    }\n",
       "\n",
       "    .dataframe tbody tr th {\n",
       "        vertical-align: top;\n",
       "    }\n",
       "\n",
       "    .dataframe thead th {\n",
       "        text-align: right;\n",
       "    }\n",
       "</style>\n",
       "<table border=\"1\" class=\"dataframe\">\n",
       "  <thead>\n",
       "    <tr style=\"text-align: right;\">\n",
       "      <th></th>\n",
       "      <th>status</th>\n",
       "      <th>propertyType</th>\n",
       "      <th>baths</th>\n",
       "      <th>homeFacts</th>\n",
       "      <th>fireplace</th>\n",
       "      <th>city</th>\n",
       "      <th>schools</th>\n",
       "      <th>sqft</th>\n",
       "      <th>beds</th>\n",
       "      <th>stories</th>\n",
       "      <th>target</th>\n",
       "      <th>Pool</th>\n",
       "    </tr>\n",
       "  </thead>\n",
       "  <tbody>\n",
       "    <tr>\n",
       "      <th>0</th>\n",
       "      <td>active</td>\n",
       "      <td>Single Family Home</td>\n",
       "      <td>3.5</td>\n",
       "      <td>{'atAGlanceFacts': [{'factValue': '2019', 'fac...</td>\n",
       "      <td>Gas Logs</td>\n",
       "      <td>Southern Pines</td>\n",
       "      <td>[{'rating': ['4', '4', '7', 'NR', '4', '7', 'N...</td>\n",
       "      <td>2900</td>\n",
       "      <td>4</td>\n",
       "      <td>NaN</td>\n",
       "      <td>$418,000</td>\n",
       "      <td>No</td>\n",
       "    </tr>\n",
       "    <tr>\n",
       "      <th>1</th>\n",
       "      <td>for sale</td>\n",
       "      <td>single-family home</td>\n",
       "      <td>3 Baths</td>\n",
       "      <td>{'atAGlanceFacts': [{'factValue': '2019', 'fac...</td>\n",
       "      <td>NaN</td>\n",
       "      <td>Spokane Valley</td>\n",
       "      <td>[{'rating': ['4/10', 'None/10', '4/10'], 'data...</td>\n",
       "      <td>1,947 sqft</td>\n",
       "      <td>3 Beds</td>\n",
       "      <td>2.0</td>\n",
       "      <td>$310,000</td>\n",
       "      <td>No</td>\n",
       "    </tr>\n",
       "    <tr>\n",
       "      <th>2</th>\n",
       "      <td>for sale</td>\n",
       "      <td>single-family home</td>\n",
       "      <td>2 Baths</td>\n",
       "      <td>{'atAGlanceFacts': [{'factValue': '1961', 'fac...</td>\n",
       "      <td>yes</td>\n",
       "      <td>Los Angeles</td>\n",
       "      <td>[{'rating': ['8/10', '4/10', '8/10'], 'data': ...</td>\n",
       "      <td>3,000 sqft</td>\n",
       "      <td>3 Beds</td>\n",
       "      <td>1.0</td>\n",
       "      <td>$2,895,000</td>\n",
       "      <td>Yes</td>\n",
       "    </tr>\n",
       "    <tr>\n",
       "      <th>3</th>\n",
       "      <td>for sale</td>\n",
       "      <td>single-family home</td>\n",
       "      <td>8 Baths</td>\n",
       "      <td>{'atAGlanceFacts': [{'factValue': '2006', 'fac...</td>\n",
       "      <td>yes</td>\n",
       "      <td>Dallas</td>\n",
       "      <td>[{'rating': ['9/10', '9/10', '10/10', '9/10'],...</td>\n",
       "      <td>6,457 sqft</td>\n",
       "      <td>5 Beds</td>\n",
       "      <td>3.0</td>\n",
       "      <td>$2,395,000</td>\n",
       "      <td>No</td>\n",
       "    </tr>\n",
       "    <tr>\n",
       "      <th>4</th>\n",
       "      <td>for sale</td>\n",
       "      <td>lot/land</td>\n",
       "      <td>NaN</td>\n",
       "      <td>{'atAGlanceFacts': [{'factValue': '', 'factLab...</td>\n",
       "      <td>NaN</td>\n",
       "      <td>Palm Bay</td>\n",
       "      <td>[{'rating': ['4/10', '5/10', '5/10'], 'data': ...</td>\n",
       "      <td>NaN</td>\n",
       "      <td>NaN</td>\n",
       "      <td>NaN</td>\n",
       "      <td>$5,000</td>\n",
       "      <td>No</td>\n",
       "    </tr>\n",
       "  </tbody>\n",
       "</table>\n",
       "</div>"
      ],
      "text/plain": [
       "     status        propertyType    baths  \\\n",
       "0    active  Single Family Home      3.5   \n",
       "1  for sale  single-family home  3 Baths   \n",
       "2  for sale  single-family home  2 Baths   \n",
       "3  for sale  single-family home  8 Baths   \n",
       "4  for sale            lot/land      NaN   \n",
       "\n",
       "                                           homeFacts fireplace  \\\n",
       "0  {'atAGlanceFacts': [{'factValue': '2019', 'fac...  Gas Logs   \n",
       "1  {'atAGlanceFacts': [{'factValue': '2019', 'fac...       NaN   \n",
       "2  {'atAGlanceFacts': [{'factValue': '1961', 'fac...       yes   \n",
       "3  {'atAGlanceFacts': [{'factValue': '2006', 'fac...       yes   \n",
       "4  {'atAGlanceFacts': [{'factValue': '', 'factLab...       NaN   \n",
       "\n",
       "             city                                            schools  \\\n",
       "0  Southern Pines  [{'rating': ['4', '4', '7', 'NR', '4', '7', 'N...   \n",
       "1  Spokane Valley  [{'rating': ['4/10', 'None/10', '4/10'], 'data...   \n",
       "2     Los Angeles  [{'rating': ['8/10', '4/10', '8/10'], 'data': ...   \n",
       "3          Dallas  [{'rating': ['9/10', '9/10', '10/10', '9/10'],...   \n",
       "4        Palm Bay  [{'rating': ['4/10', '5/10', '5/10'], 'data': ...   \n",
       "\n",
       "         sqft    beds stories      target Pool  \n",
       "0        2900       4     NaN    $418,000   No  \n",
       "1  1,947 sqft  3 Beds     2.0    $310,000   No  \n",
       "2  3,000 sqft  3 Beds     1.0  $2,895,000  Yes  \n",
       "3  6,457 sqft  5 Beds     3.0  $2,395,000   No  \n",
       "4         NaN     NaN     NaN      $5,000   No  "
      ]
     },
     "execution_count": 556,
     "metadata": {},
     "output_type": "execute_result"
    }
   ],
   "source": [
    "estate_data.head()"
   ]
  },
  {
   "cell_type": "code",
   "execution_count": 557,
   "metadata": {},
   "outputs": [],
   "source": [
    "# Оставляем признаки, в которых общее количество пропущенных значений меньше 4-х\n",
    "\n",
    "estate_data = estate_data[~(estate_data.isna().sum(axis=1) >= 4)]"
   ]
  },
  {
   "cell_type": "code",
   "execution_count": 558,
   "metadata": {},
   "outputs": [
    {
     "data": {
      "text/html": [
       "<div>\n",
       "<style scoped>\n",
       "    .dataframe tbody tr th:only-of-type {\n",
       "        vertical-align: middle;\n",
       "    }\n",
       "\n",
       "    .dataframe tbody tr th {\n",
       "        vertical-align: top;\n",
       "    }\n",
       "\n",
       "    .dataframe thead th {\n",
       "        text-align: right;\n",
       "    }\n",
       "</style>\n",
       "<table border=\"1\" class=\"dataframe\">\n",
       "  <thead>\n",
       "    <tr style=\"text-align: right;\">\n",
       "      <th></th>\n",
       "      <th>status</th>\n",
       "      <th>propertyType</th>\n",
       "      <th>baths</th>\n",
       "      <th>homeFacts</th>\n",
       "      <th>fireplace</th>\n",
       "      <th>city</th>\n",
       "      <th>schools</th>\n",
       "      <th>sqft</th>\n",
       "      <th>beds</th>\n",
       "      <th>stories</th>\n",
       "      <th>target</th>\n",
       "      <th>Pool</th>\n",
       "    </tr>\n",
       "  </thead>\n",
       "  <tbody>\n",
       "    <tr>\n",
       "      <th>6</th>\n",
       "      <td>active</td>\n",
       "      <td>Florida</td>\n",
       "      <td>NaN</td>\n",
       "      <td>{'atAGlanceFacts': [{'factValue': '2006', 'fac...</td>\n",
       "      <td>NaN</td>\n",
       "      <td>POINCIANA</td>\n",
       "      <td>[{'rating': ['3', '3', '1', 'NR'], 'data': {'D...</td>\n",
       "      <td>1,507</td>\n",
       "      <td>NaN</td>\n",
       "      <td>One</td>\n",
       "      <td>181,500</td>\n",
       "      <td>No</td>\n",
       "    </tr>\n",
       "    <tr>\n",
       "      <th>11</th>\n",
       "      <td>active</td>\n",
       "      <td>English</td>\n",
       "      <td>NaN</td>\n",
       "      <td>{'atAGlanceFacts': [{'factValue': '2015', 'fac...</td>\n",
       "      <td>NaN</td>\n",
       "      <td>Houston</td>\n",
       "      <td>[{'rating': ['6', '3', '6', '1', '5'], 'data':...</td>\n",
       "      <td>3,130</td>\n",
       "      <td>NaN</td>\n",
       "      <td>2</td>\n",
       "      <td>260,000</td>\n",
       "      <td>No</td>\n",
       "    </tr>\n",
       "    <tr>\n",
       "      <th>16</th>\n",
       "      <td>active</td>\n",
       "      <td>NaN</td>\n",
       "      <td>1,750</td>\n",
       "      <td>{'atAGlanceFacts': [{'factValue': '2008', 'fac...</td>\n",
       "      <td>NaN</td>\n",
       "      <td>Fort Lauderdale</td>\n",
       "      <td>[{'rating': ['4', 'NR', '3', 'NR'], 'data': {'...</td>\n",
       "      <td>2,203</td>\n",
       "      <td>Baths</td>\n",
       "      <td>NaN</td>\n",
       "      <td>335,000</td>\n",
       "      <td>No</td>\n",
       "    </tr>\n",
       "    <tr>\n",
       "      <th>35</th>\n",
       "      <td>for sale</td>\n",
       "      <td>condo</td>\n",
       "      <td>NaN</td>\n",
       "      <td>{'atAGlanceFacts': [{'factValue': '1981', 'fac...</td>\n",
       "      <td>NaN</td>\n",
       "      <td>Charlotte</td>\n",
       "      <td>[{'rating': ['7/10', '4/10', '8/10'], 'data': ...</td>\n",
       "      <td>900 sqft</td>\n",
       "      <td>2 Beds</td>\n",
       "      <td>NaN</td>\n",
       "      <td>$260,000</td>\n",
       "      <td>No</td>\n",
       "    </tr>\n",
       "    <tr>\n",
       "      <th>60</th>\n",
       "      <td>for sale</td>\n",
       "      <td>lot/land</td>\n",
       "      <td>NaN</td>\n",
       "      <td>{'atAGlanceFacts': [{'factValue': '1974', 'fac...</td>\n",
       "      <td>NaN</td>\n",
       "      <td>Atlanta</td>\n",
       "      <td>[{'rating': ['8/10', '6/10', '8/10'], 'data': ...</td>\n",
       "      <td>1,076 sqft</td>\n",
       "      <td>NaN</td>\n",
       "      <td>2.0</td>\n",
       "      <td>$369,900</td>\n",
       "      <td>No</td>\n",
       "    </tr>\n",
       "    <tr>\n",
       "      <th>...</th>\n",
       "      <td>...</td>\n",
       "      <td>...</td>\n",
       "      <td>...</td>\n",
       "      <td>...</td>\n",
       "      <td>...</td>\n",
       "      <td>...</td>\n",
       "      <td>...</td>\n",
       "      <td>...</td>\n",
       "      <td>...</td>\n",
       "      <td>...</td>\n",
       "      <td>...</td>\n",
       "      <td>...</td>\n",
       "    </tr>\n",
       "    <tr>\n",
       "      <th>364903</th>\n",
       "      <td>for sale</td>\n",
       "      <td>coop</td>\n",
       "      <td>NaN</td>\n",
       "      <td>{'atAGlanceFacts': [{'factValue': '1931', 'fac...</td>\n",
       "      <td>NaN</td>\n",
       "      <td>Woodside</td>\n",
       "      <td>[{'rating': ['3/10', '3/10', '8/10'], 'data': ...</td>\n",
       "      <td>409,538 sqft</td>\n",
       "      <td>NaN</td>\n",
       "      <td>1.0</td>\n",
       "      <td>$335,000</td>\n",
       "      <td>No</td>\n",
       "    </tr>\n",
       "    <tr>\n",
       "      <th>364929</th>\n",
       "      <td>pending</td>\n",
       "      <td>Land</td>\n",
       "      <td>0</td>\n",
       "      <td>{'atAGlanceFacts': [{'factValue': '', 'factLab...</td>\n",
       "      <td>NaN</td>\n",
       "      <td>Port Charlotte</td>\n",
       "      <td>[{'rating': ['6', '4', '6', '5', '7', '5', 'NR...</td>\n",
       "      <td>0</td>\n",
       "      <td>NaN</td>\n",
       "      <td>NaN</td>\n",
       "      <td>$7,000</td>\n",
       "      <td>No</td>\n",
       "    </tr>\n",
       "    <tr>\n",
       "      <th>364939</th>\n",
       "      <td>for sale</td>\n",
       "      <td>condo</td>\n",
       "      <td>NaN</td>\n",
       "      <td>{'atAGlanceFacts': [{'factValue': '1899', 'fac...</td>\n",
       "      <td>NaN</td>\n",
       "      <td>Boston</td>\n",
       "      <td>[{'rating': [], 'data': {'Distance': [], 'Grad...</td>\n",
       "      <td>801 sqft</td>\n",
       "      <td>2 Beds</td>\n",
       "      <td>NaN</td>\n",
       "      <td>$399,000</td>\n",
       "      <td>No</td>\n",
       "    </tr>\n",
       "    <tr>\n",
       "      <th>364949</th>\n",
       "      <td>for sale</td>\n",
       "      <td>single-family home</td>\n",
       "      <td>NaN</td>\n",
       "      <td>{'atAGlanceFacts': [{'factValue': '1930', 'fac...</td>\n",
       "      <td>NaN</td>\n",
       "      <td>Staten Island</td>\n",
       "      <td>[{'rating': ['4/10', '3/10', '4/10'], 'data': ...</td>\n",
       "      <td>1,389 sqft</td>\n",
       "      <td>NaN</td>\n",
       "      <td>3.0</td>\n",
       "      <td>$380,000</td>\n",
       "      <td>No</td>\n",
       "    </tr>\n",
       "    <tr>\n",
       "      <th>364999</th>\n",
       "      <td>for sale</td>\n",
       "      <td>single-family home</td>\n",
       "      <td>NaN</td>\n",
       "      <td>{'atAGlanceFacts': [{'factValue': '1945', 'fac...</td>\n",
       "      <td>NaN</td>\n",
       "      <td>Gainesville</td>\n",
       "      <td>[{'rating': ['6/10', '2/10', '4/10'], 'data': ...</td>\n",
       "      <td>1,740 sqft</td>\n",
       "      <td>3 Beds</td>\n",
       "      <td>NaN</td>\n",
       "      <td>$110,000</td>\n",
       "      <td>No</td>\n",
       "    </tr>\n",
       "  </tbody>\n",
       "</table>\n",
       "<p>27492 rows × 12 columns</p>\n",
       "</div>"
      ],
      "text/plain": [
       "          status        propertyType  baths  \\\n",
       "6         active             Florida    NaN   \n",
       "11        active             English    NaN   \n",
       "16        active                 NaN  1,750   \n",
       "35      for sale               condo    NaN   \n",
       "60      for sale            lot/land    NaN   \n",
       "...          ...                 ...    ...   \n",
       "364903  for sale                coop    NaN   \n",
       "364929   pending                Land      0   \n",
       "364939  for sale               condo    NaN   \n",
       "364949  for sale  single-family home    NaN   \n",
       "364999  for sale  single-family home    NaN   \n",
       "\n",
       "                                                homeFacts fireplace  \\\n",
       "6       {'atAGlanceFacts': [{'factValue': '2006', 'fac...       NaN   \n",
       "11      {'atAGlanceFacts': [{'factValue': '2015', 'fac...       NaN   \n",
       "16      {'atAGlanceFacts': [{'factValue': '2008', 'fac...       NaN   \n",
       "35      {'atAGlanceFacts': [{'factValue': '1981', 'fac...       NaN   \n",
       "60      {'atAGlanceFacts': [{'factValue': '1974', 'fac...       NaN   \n",
       "...                                                   ...       ...   \n",
       "364903  {'atAGlanceFacts': [{'factValue': '1931', 'fac...       NaN   \n",
       "364929  {'atAGlanceFacts': [{'factValue': '', 'factLab...       NaN   \n",
       "364939  {'atAGlanceFacts': [{'factValue': '1899', 'fac...       NaN   \n",
       "364949  {'atAGlanceFacts': [{'factValue': '1930', 'fac...       NaN   \n",
       "364999  {'atAGlanceFacts': [{'factValue': '1945', 'fac...       NaN   \n",
       "\n",
       "                   city                                            schools  \\\n",
       "6             POINCIANA  [{'rating': ['3', '3', '1', 'NR'], 'data': {'D...   \n",
       "11              Houston  [{'rating': ['6', '3', '6', '1', '5'], 'data':...   \n",
       "16      Fort Lauderdale  [{'rating': ['4', 'NR', '3', 'NR'], 'data': {'...   \n",
       "35            Charlotte  [{'rating': ['7/10', '4/10', '8/10'], 'data': ...   \n",
       "60              Atlanta  [{'rating': ['8/10', '6/10', '8/10'], 'data': ...   \n",
       "...                 ...                                                ...   \n",
       "364903         Woodside  [{'rating': ['3/10', '3/10', '8/10'], 'data': ...   \n",
       "364929   Port Charlotte  [{'rating': ['6', '4', '6', '5', '7', '5', 'NR...   \n",
       "364939           Boston  [{'rating': [], 'data': {'Distance': [], 'Grad...   \n",
       "364949    Staten Island  [{'rating': ['4/10', '3/10', '4/10'], 'data': ...   \n",
       "364999      Gainesville  [{'rating': ['6/10', '2/10', '4/10'], 'data': ...   \n",
       "\n",
       "                sqft    beds stories    target Pool  \n",
       "6              1,507     NaN     One   181,500   No  \n",
       "11             3,130     NaN       2   260,000   No  \n",
       "16             2,203   Baths     NaN   335,000   No  \n",
       "35          900 sqft  2 Beds     NaN  $260,000   No  \n",
       "60        1,076 sqft     NaN     2.0  $369,900   No  \n",
       "...              ...     ...     ...       ...  ...  \n",
       "364903  409,538 sqft     NaN     1.0  $335,000   No  \n",
       "364929             0     NaN     NaN    $7,000   No  \n",
       "364939      801 sqft  2 Beds     NaN  $399,000   No  \n",
       "364949    1,389 sqft     NaN     3.0  $380,000   No  \n",
       "364999    1,740 sqft  3 Beds     NaN  $110,000   No  \n",
       "\n",
       "[27492 rows x 12 columns]"
      ]
     },
     "execution_count": 558,
     "metadata": {},
     "output_type": "execute_result"
    }
   ],
   "source": [
    "estate_data[estate_data.isna().sum(axis=1) >= 3]"
   ]
  },
  {
   "cell_type": "code",
   "execution_count": 559,
   "metadata": {},
   "outputs": [
    {
     "data": {
      "text/plain": [
       "0               2900\n",
       "1         1,947 sqft\n",
       "2         3,000 sqft\n",
       "3         6,457 sqft\n",
       "5           897 sqft\n",
       "             ...    \n",
       "365009         1,417\n",
       "365010         4,017\n",
       "365011    2,000 sqft\n",
       "365012    1,152 sqft\n",
       "365014         1,462\n",
       "Name: sqft, Length: 293703, dtype: object"
      ]
     },
     "execution_count": 559,
     "metadata": {},
     "output_type": "execute_result"
    }
   ],
   "source": [
    "estate_data['sqft']\n"
   ]
  },
  {
   "cell_type": "markdown",
   "metadata": {},
   "source": [
    "### homeFacts"
   ]
  },
  {
   "cell_type": "code",
   "execution_count": 560,
   "metadata": {},
   "outputs": [
    {
     "data": {
      "text/plain": [
       "\"{'atAGlanceFacts': [{'factValue': '1949', 'factLabel': 'Year built'}, {'factValue': '', 'factLabel': 'Remodeled year'}, {'factValue': 'Other', 'factLabel': 'Heating'}, {'factValue': 'Central', 'factLabel': 'Cooling'}, {'factValue': '', 'factLabel': 'Parking'}, {'factValue': '0.92 acres lot', 'factLabel': 'lotsize'}, {'factValue': '$53', 'factLabel': 'Price/sqft'}]}\""
      ]
     },
     "execution_count": 560,
     "metadata": {},
     "output_type": "execute_result"
    }
   ],
   "source": [
    "# Посмотрим полностью одну колонку из столбца \"homeFacts\"\n",
    "\n",
    "estate_data['homeFacts'][100]"
   ]
  },
  {
   "cell_type": "code",
   "execution_count": 561,
   "metadata": {},
   "outputs": [
    {
     "data": {
      "text/plain": [
       "0         {'atAGlanceFacts': [{'factValue': '2019', 'fac...\n",
       "1         {'atAGlanceFacts': [{'factValue': '2019', 'fac...\n",
       "2         {'atAGlanceFacts': [{'factValue': '1961', 'fac...\n",
       "3         {'atAGlanceFacts': [{'factValue': '2006', 'fac...\n",
       "5         {'atAGlanceFacts': [{'factValue': '1920', 'fac...\n",
       "                                ...                        \n",
       "365009    {'atAGlanceFacts': [{'factValue': '2010', 'fac...\n",
       "365010    {'atAGlanceFacts': [{'factValue': '1990', 'fac...\n",
       "365011    {'atAGlanceFacts': [{'factValue': '1924', 'fac...\n",
       "365012    {'atAGlanceFacts': [{'factValue': '1950', 'fac...\n",
       "365014    {'atAGlanceFacts': [{'factValue': '2019', 'fac...\n",
       "Name: homeFacts, Length: 293703, dtype: object"
      ]
     },
     "execution_count": 561,
     "metadata": {},
     "output_type": "execute_result"
    }
   ],
   "source": [
    "estate_data['homeFacts']"
   ]
  },
  {
   "cell_type": "code",
   "execution_count": 562,
   "metadata": {},
   "outputs": [
    {
     "data": {
      "text/plain": [
       "status               0\n",
       "propertyType      5903\n",
       "baths            34528\n",
       "homeFacts            0\n",
       "fireplace       196847\n",
       "city                 9\n",
       "schools              0\n",
       "sqft              2171\n",
       "beds             25117\n",
       "stories          79682\n",
       "target            1196\n",
       "Pool                 0\n",
       "dtype: int64"
      ]
     },
     "execution_count": 562,
     "metadata": {},
     "output_type": "execute_result"
    }
   ],
   "source": [
    "estate_data.isna().sum()"
   ]
  },
  {
   "cell_type": "code",
   "execution_count": 563,
   "metadata": {},
   "outputs": [],
   "source": [
    "# В строке закодирован словарь. Применим функцию eval для раскодировки словаря.\n",
    "\n",
    "estate_data['homeFacts'] = estate_data['homeFacts'].apply(eval)"
   ]
  },
  {
   "cell_type": "code",
   "execution_count": null,
   "metadata": {},
   "outputs": [],
   "source": []
  },
  {
   "cell_type": "code",
   "execution_count": 564,
   "metadata": {},
   "outputs": [
    {
     "data": {
      "text/plain": [
       "{'atAGlanceFacts': [{'factValue': '2019', 'factLabel': 'Year built'},\n",
       "  {'factValue': '', 'factLabel': 'Remodeled year'},\n",
       "  {'factValue': 'Central A/C, Heat Pump', 'factLabel': 'Heating'},\n",
       "  {'factValue': '', 'factLabel': 'Cooling'},\n",
       "  {'factValue': '', 'factLabel': 'Parking'},\n",
       "  {'factValue': None, 'factLabel': 'lotsize'},\n",
       "  {'factValue': '$144', 'factLabel': 'Price/sqft'}]}"
      ]
     },
     "execution_count": 564,
     "metadata": {},
     "output_type": "execute_result"
    }
   ],
   "source": [
    "estate_data['homeFacts'][0]"
   ]
  },
  {
   "cell_type": "code",
   "execution_count": 565,
   "metadata": {},
   "outputs": [],
   "source": [
    "# извлечем из словаря данные о годе постройки и создадим признак \"Year_built\"\n",
    "\n",
    "estate_data['Year_built'] = estate_data['homeFacts'].apply(lambda x: x['atAGlanceFacts'][0]['factValue'])"
   ]
  },
  {
   "cell_type": "code",
   "execution_count": 566,
   "metadata": {},
   "outputs": [
    {
     "data": {
      "text/plain": [
       "0         2019\n",
       "1         2019\n",
       "2         1961\n",
       "3         2006\n",
       "5         1920\n",
       "          ... \n",
       "365009    2010\n",
       "365010    1990\n",
       "365011    1924\n",
       "365012    1950\n",
       "365014    2019\n",
       "Name: Year_built, Length: 293703, dtype: object"
      ]
     },
     "execution_count": 566,
     "metadata": {},
     "output_type": "execute_result"
    }
   ],
   "source": [
    "estate_data['Year_built']"
   ]
  },
  {
   "cell_type": "code",
   "execution_count": 567,
   "metadata": {},
   "outputs": [
    {
     "data": {
      "text/plain": [
       "array(['2019', '1961', '2006', '1920', '1970', '1965', '2015', '1996',\n",
       "       '1982', '2008', '2016', '1954', '1989', '2014', '1915', '', '1994',\n",
       "       '1910', '1923', '1960', '1977', '1972', '1963', '1981', '1949',\n",
       "       '1930', '1991', '1958', '2005', '2017', '2018', '1983', '1928',\n",
       "       '1997', '1964', '1974', '1940', '1973', '1968', '1999', '1918',\n",
       "       '2007', '1984', '1946', '2003', '2000', '2004', '1969', '1947',\n",
       "       '2002', '1978', '1956', '1967', '1975', '1988', '1955', '1950',\n",
       "       '1959', '2012', '1924', '1992', '2001', '1985', '2010', '1971',\n",
       "       '1909', '1953', '1993', '1990', '1957', '1995', '1998', '1980',\n",
       "       '1951', '1907', '1885', '1941', '1927', '1929', '1901', '1976',\n",
       "       '1922', '1906', '1945', '1979', '2009', None, '1913', '2011',\n",
       "       '1897', '1987', '2020', '1926', '1952', '1925', '1962', '2013',\n",
       "       '1943', '1966', '1890', '1900', '1895', '1911', '1948', 'No Data',\n",
       "       '1942', '1935', '1986', '1931', '1944', '1916', '1893', '1879',\n",
       "       '1939', '1937', '1905', '1912', '1938', '1921', '1860', '1850',\n",
       "       '1914', '1861', '1898', '1899', '1880', '1908', '1865', '1917',\n",
       "       '1740', '1934', '1902', '1700', '1904', '1932', '1896', '1892',\n",
       "       '1936', '1830', '1919', '1933', '1875', '1888', '1889', '1832',\n",
       "       '1903', '1870', '1864', '1886', '1873', '1887', '1800', '1852',\n",
       "       '1869', '1894', '1872', '1881', '1840', '1829', '1891', '1884',\n",
       "       '1868', '2021', '1846', '1854', '1799', '1828', '1878', '1876',\n",
       "       '1815', '1877', '1810', '1822', '1866', '1835', '1820', '1836',\n",
       "       '1853', '1807', '1867', '1874', '1848', '1795', '1883', '1803',\n",
       "       '1859', '1823', '1847', '1817', '1844', '1863', '559990649990',\n",
       "       '1796', '1809', '1862', '1824', '1851', '1882', '2022', '1842',\n",
       "       '1818', '1857', '1825', '1845', '2025', '1811', '1855', '1750',\n",
       "       '1057', '1703', '1858', '1802', '1812', '1856', '1816', '1794',\n",
       "       '1834', '1790', '1788', '1735', '1871', '1019', '1805', '1831',\n",
       "       '1808', '1804'], dtype=object)"
      ]
     },
     "execution_count": 567,
     "metadata": {},
     "output_type": "execute_result"
    }
   ],
   "source": [
    "# посмотрим на уникальные значения столбца и определим выходящие из формата\n",
    "estate_data['Year_built'].unique()"
   ]
  },
  {
   "cell_type": "code",
   "execution_count": 568,
   "metadata": {},
   "outputs": [],
   "source": [
    "estate_data = estate_data.drop(estate_data[estate_data['Year_built'] == '559990649990'].index)"
   ]
  },
  {
   "cell_type": "code",
   "execution_count": null,
   "metadata": {},
   "outputs": [],
   "source": []
  },
  {
   "cell_type": "code",
   "execution_count": 569,
   "metadata": {},
   "outputs": [
    {
     "data": {
      "text/plain": [
       "array(['2019', '1961', '2006', '1920', '1970', '1965', '2015', '1996',\n",
       "       '1982', '2008', '2016', '1954', '1989', '2014', '1915', '', '1994',\n",
       "       '1910', '1923', '1960', '1977', '1972', '1963', '1981', '1949',\n",
       "       '1930', '1991', '1958', '2005', '2017', '2018', '1983', '1928',\n",
       "       '1997', '1964', '1974', '1940', '1973', '1968', '1999', '1918',\n",
       "       '2007', '1984', '1946', '2003', '2000', '2004', '1969', '1947',\n",
       "       '2002', '1978', '1956', '1967', '1975', '1988', '1955', '1950',\n",
       "       '1959', '2012', '1924', '1992', '2001', '1985', '2010', '1971',\n",
       "       '1909', '1953', '1993', '1990', '1957', '1995', '1998', '1980',\n",
       "       '1951', '1907', '1885', '1941', '1927', '1929', '1901', '1976',\n",
       "       '1922', '1906', '1945', '1979', '2009', None, '1913', '2011',\n",
       "       '1897', '1987', '2020', '1926', '1952', '1925', '1962', '2013',\n",
       "       '1943', '1966', '1890', '1900', '1895', '1911', '1948', 'No Data',\n",
       "       '1942', '1935', '1986', '1931', '1944', '1916', '1893', '1879',\n",
       "       '1939', '1937', '1905', '1912', '1938', '1921', '1860', '1850',\n",
       "       '1914', '1861', '1898', '1899', '1880', '1908', '1865', '1917',\n",
       "       '1740', '1934', '1902', '1700', '1904', '1932', '1896', '1892',\n",
       "       '1936', '1830', '1919', '1933', '1875', '1888', '1889', '1832',\n",
       "       '1903', '1870', '1864', '1886', '1873', '1887', '1800', '1852',\n",
       "       '1869', '1894', '1872', '1881', '1840', '1829', '1891', '1884',\n",
       "       '1868', '2021', '1846', '1854', '1799', '1828', '1878', '1876',\n",
       "       '1815', '1877', '1810', '1822', '1866', '1835', '1820', '1836',\n",
       "       '1853', '1807', '1867', '1874', '1848', '1795', '1883', '1803',\n",
       "       '1859', '1823', '1847', '1817', '1844', '1863', '1796', '1809',\n",
       "       '1862', '1824', '1851', '1882', '2022', '1842', '1818', '1857',\n",
       "       '1825', '1845', '2025', '1811', '1855', '1750', '1057', '1703',\n",
       "       '1858', '1802', '1812', '1856', '1816', '1794', '1834', '1790',\n",
       "       '1788', '1735', '1871', '1019', '1805', '1831', '1808', '1804'],\n",
       "      dtype=object)"
      ]
     },
     "execution_count": 569,
     "metadata": {},
     "output_type": "execute_result"
    }
   ],
   "source": [
    "estate_data['Year_built'].unique()"
   ]
  },
  {
   "cell_type": "code",
   "execution_count": 570,
   "metadata": {},
   "outputs": [],
   "source": [
    "# Заменим пустые значения, 'No Data' на None\n",
    "estate_data['Year_built'] = estate_data['Year_built'].apply(lambda x: None if (x == '') | (x == 'No Data') else x)"
   ]
  },
  {
   "cell_type": "code",
   "execution_count": null,
   "metadata": {},
   "outputs": [],
   "source": []
  },
  {
   "cell_type": "code",
   "execution_count": 571,
   "metadata": {},
   "outputs": [],
   "source": [
    "# Перевод столбца в числовой формат\n",
    "estate_data['Year_built'] = estate_data['Year_built'].apply(lambda x: int(x) if x != None else x)"
   ]
  },
  {
   "cell_type": "code",
   "execution_count": null,
   "metadata": {},
   "outputs": [],
   "source": []
  },
  {
   "cell_type": "code",
   "execution_count": 572,
   "metadata": {},
   "outputs": [
    {
     "data": {
      "text/plain": [
       "numpy.float64"
      ]
     },
     "execution_count": 572,
     "metadata": {},
     "output_type": "execute_result"
    }
   ],
   "source": [
    "type(estate_data['Year_built'][0])"
   ]
  },
  {
   "cell_type": "code",
   "execution_count": null,
   "metadata": {},
   "outputs": [],
   "source": []
  },
  {
   "cell_type": "code",
   "execution_count": 573,
   "metadata": {},
   "outputs": [
    {
     "data": {
      "text/plain": [
       "23031"
      ]
     },
     "execution_count": 573,
     "metadata": {},
     "output_type": "execute_result"
    }
   ],
   "source": [
    "# Подсчитаем общее количество пропусков\n",
    "estate_data['Year_built'].isna().sum()"
   ]
  },
  {
   "cell_type": "code",
   "execution_count": 574,
   "metadata": {},
   "outputs": [
    {
     "data": {
      "text/plain": [
       "1986"
      ]
     },
     "execution_count": 574,
     "metadata": {},
     "output_type": "execute_result"
    }
   ],
   "source": [
    "# Найдем среднее значение для столбца\n",
    "round(estate_data['Year_built'].median())"
   ]
  },
  {
   "cell_type": "code",
   "execution_count": 575,
   "metadata": {},
   "outputs": [],
   "source": [
    "# Заполним пропуски средним значением для столбца\n",
    "estate_data['Year_built'] = estate_data['Year_built'].fillna(1986)"
   ]
  },
  {
   "cell_type": "code",
   "execution_count": 576,
   "metadata": {},
   "outputs": [
    {
     "data": {
      "text/plain": [
       "0"
      ]
     },
     "execution_count": 576,
     "metadata": {},
     "output_type": "execute_result"
    }
   ],
   "source": [
    "estate_data['Year_built'].isna().sum()"
   ]
  },
  {
   "cell_type": "code",
   "execution_count": 577,
   "metadata": {},
   "outputs": [],
   "source": [
    "#estate_data['Year_built'].loc[outliers_iqr(estate_data.year_built)].sort_values()"
   ]
  },
  {
   "cell_type": "code",
   "execution_count": 578,
   "metadata": {},
   "outputs": [],
   "source": [
    "# Удаление выбросов\n",
    "#estate_data = estate_data.drop(outliers_iqr(estate_data['Year_built']))\n",
    "#estate_data.reset_index(inplace = True, drop = True)"
   ]
  },
  {
   "cell_type": "code",
   "execution_count": null,
   "metadata": {},
   "outputs": [],
   "source": []
  },
  {
   "cell_type": "code",
   "execution_count": 579,
   "metadata": {},
   "outputs": [
    {
     "data": {
      "text/plain": [
       "2"
      ]
     },
     "execution_count": 579,
     "metadata": {},
     "output_type": "execute_result"
    }
   ],
   "source": [
    "len(estate_data[estate_data['Year_built'] > 2023])"
   ]
  },
  {
   "cell_type": "code",
   "execution_count": 580,
   "metadata": {},
   "outputs": [],
   "source": [
    "# Построим гистограмму распределения"
   ]
  },
  {
   "cell_type": "code",
   "execution_count": 581,
   "metadata": {},
   "outputs": [
    {
     "data": {
      "image/png": "[encoded data removed]",
      "text/plain": [
       "<Figure size 864x504 with 1 Axes>"
      ]
     },
     "metadata": {
      "needs_background": "light"
     },
     "output_type": "display_data"
    }
   ],
   "source": [
    "plt.figure(figsize=(12, 7))\n",
    "estate_data.Year_built.hist(bins=20);"
   ]
  },
  {
   "cell_type": "code",
   "execution_count": null,
   "metadata": {},
   "outputs": [],
   "source": []
  },
  {
   "cell_type": "code",
   "execution_count": 582,
   "metadata": {},
   "outputs": [],
   "source": [
    "# Извлечем из словаря год перепланировки\n",
    "\n",
    "estate_data['remodeled_year'] = estate_data['homeFacts'].apply(lambda x: x['atAGlanceFacts'][1]['factValue'])"
   ]
  },
  {
   "cell_type": "code",
   "execution_count": null,
   "metadata": {},
   "outputs": [],
   "source": []
  },
  {
   "cell_type": "code",
   "execution_count": 583,
   "metadata": {},
   "outputs": [
    {
     "data": {
      "text/plain": [
       "151"
      ]
     },
     "execution_count": 583,
     "metadata": {},
     "output_type": "execute_result"
    }
   ],
   "source": [
    "estate_data['remodeled_year'].nunique()"
   ]
  },
  {
   "cell_type": "code",
   "execution_count": 584,
   "metadata": {},
   "outputs": [
    {
     "data": {
      "text/plain": [
       "22890"
      ]
     },
     "execution_count": 584,
     "metadata": {},
     "output_type": "execute_result"
    }
   ],
   "source": [
    "estate_data['remodeled_year'].isna().sum()"
   ]
  },
  {
   "cell_type": "code",
   "execution_count": 585,
   "metadata": {},
   "outputs": [
    {
     "data": {
      "text/plain": [
       "array(['', '1967', '2006', None, '2015', '1997', '2019', '1982', '2009',\n",
       "       '1996', '1995', '1988', '1972', '1949', '1954', '1930', '2000',\n",
       "       '1994', '2005', '1983', '2003', '1965', '1968', '1993', '1999',\n",
       "       '2014', '2010', '2004', '2007', '1978', '1947', '1950', '2002',\n",
       "       '1973', '1970', '1989', '1980', '1986', '2008', '1955', '1991',\n",
       "       '2011', '2017', '2016', '1941', '2001', '1990', '1901', '1984',\n",
       "       '1918', '1956', '2013', '1960', '1981', '1969', '1987', '1998',\n",
       "       '1958', '1925', '1975', '1966', '1992', '1943', '1977', '1979',\n",
       "       '1961', '1948', '1952', '1931', '2012', '1976', '1935', '1910',\n",
       "       '1940', '1957', '1971', '1916', '1963', '1974', '2018', '1985',\n",
       "       '1951', '1962', '1964', '1942', '1959', '1927', '1946', '1945',\n",
       "       '1920', '1938', '1936', '0', '1939', '1915', '1928', '1923',\n",
       "       '1944', '1929', '1898', '1934', '1953', '1926', '1937', '1899',\n",
       "       '1912', '1917', '1906', '1932', '1905', '1919', '1921', '1924',\n",
       "       '1907', '1911', '1900', '1889', '1913', '1895', '1908', '1903',\n",
       "       '1904', '1933', '1894', '1892', '1914', '1922', '1902', '1909',\n",
       "       '1877', '2020', '1880', '1893', '1890', '1891', '1884', '2021',\n",
       "       '1897', '1886', '1846', '1896', '1885', '1870', '1883', '1887',\n",
       "       '1853', '1888', '1800', '1738', '1876', '1874', '1862'],\n",
       "      dtype=object)"
      ]
     },
     "execution_count": 585,
     "metadata": {},
     "output_type": "execute_result"
    }
   ],
   "source": [
    "estate_data['remodeled_year'].unique()"
   ]
  },
  {
   "cell_type": "code",
   "execution_count": null,
   "metadata": {},
   "outputs": [],
   "source": []
  },
  {
   "cell_type": "code",
   "execution_count": 586,
   "metadata": {},
   "outputs": [],
   "source": [
    "# Приведем пустые значения к нулю\n",
    "estate_data['remodeled_year'] = estate_data['remodeled_year'].apply(lambda x: '0' if x == '' else x)"
   ]
  },
  {
   "cell_type": "code",
   "execution_count": 587,
   "metadata": {},
   "outputs": [],
   "source": [
    "estate_data['remodeled_year'] = estate_data['remodeled_year'].fillna('0')"
   ]
  },
  {
   "cell_type": "code",
   "execution_count": 589,
   "metadata": {},
   "outputs": [
    {
     "data": {
      "text/plain": [
       "array(['0', '1967', '2006', '2015', '1997', '2019', '1982', '2009',\n",
       "       '1996', '1995', '1988', '1972', '1949', '1954', '1930', '2000',\n",
       "       '1994', '2005', '1983', '2003', '1965', '1968', '1993', '1999',\n",
       "       '2014', '2010', '2004', '2007', '1978', '1947', '1950', '2002',\n",
       "       '1973', '1970', '1989', '1980', '1986', '2008', '1955', '1991',\n",
       "       '2011', '2017', '2016', '1941', '2001', '1990', '1901', '1984',\n",
       "       '1918', '1956', '2013', '1960', '1981', '1969', '1987', '1998',\n",
       "       '1958', '1925', '1975', '1966', '1992', '1943', '1977', '1979',\n",
       "       '1961', '1948', '1952', '1931', '2012', '1976', '1935', '1910',\n",
       "       '1940', '1957', '1971', '1916', '1963', '1974', '2018', '1985',\n",
       "       '1951', '1962', '1964', '1942', '1959', '1927', '1946', '1945',\n",
       "       '1920', '1938', '1936', '1939', '1915', '1928', '1923', '1944',\n",
       "       '1929', '1898', '1934', '1953', '1926', '1937', '1899', '1912',\n",
       "       '1917', '1906', '1932', '1905', '1919', '1921', '1924', '1907',\n",
       "       '1911', '1900', '1889', '1913', '1895', '1908', '1903', '1904',\n",
       "       '1933', '1894', '1892', '1914', '1922', '1902', '1909', '1877',\n",
       "       '2020', '1880', '1893', '1890', '1891', '1884', '2021', '1897',\n",
       "       '1886', '1846', '1896', '1885', '1870', '1883', '1887', '1853',\n",
       "       '1888', '1800', '1738', '1876', '1874', '1862'], dtype=object)"
      ]
     },
     "execution_count": 589,
     "metadata": {},
     "output_type": "execute_result"
    }
   ],
   "source": [
    "estate_data['remodeled_year'].unique()"
   ]
  },
  {
   "cell_type": "code",
   "execution_count": 590,
   "metadata": {},
   "outputs": [],
   "source": [
    "# Приведем столбец в числовой формат \n",
    "estate_data['remodeled_year'] = estate_data['remodeled_year'].apply(lambda x: int(x))"
   ]
  },
  {
   "cell_type": "code",
   "execution_count": null,
   "metadata": {},
   "outputs": [],
   "source": []
  },
  {
   "cell_type": "code",
   "execution_count": 591,
   "metadata": {},
   "outputs": [
    {
     "data": {
      "text/plain": [
       "array([   0, 1967, 2006, 2015, 1997, 2019, 1982, 2009, 1996, 1995, 1988,\n",
       "       1972, 1949, 1954, 1930, 2000, 1994, 2005, 1983, 2003, 1965, 1968,\n",
       "       1993, 1999, 2014, 2010, 2004, 2007, 1978, 1947, 1950, 2002, 1973,\n",
       "       1970, 1989, 1980, 1986, 2008, 1955, 1991, 2011, 2017, 2016, 1941,\n",
       "       2001, 1990, 1901, 1984, 1918, 1956, 2013, 1960, 1981, 1969, 1987,\n",
       "       1998, 1958, 1925, 1975, 1966, 1992, 1943, 1977, 1979, 1961, 1948,\n",
       "       1952, 1931, 2012, 1976, 1935, 1910, 1940, 1957, 1971, 1916, 1963,\n",
       "       1974, 2018, 1985, 1951, 1962, 1964, 1942, 1959, 1927, 1946, 1945,\n",
       "       1920, 1938, 1936, 1939, 1915, 1928, 1923, 1944, 1929, 1898, 1934,\n",
       "       1953, 1926, 1937, 1899, 1912, 1917, 1906, 1932, 1905, 1919, 1921,\n",
       "       1924, 1907, 1911, 1900, 1889, 1913, 1895, 1908, 1903, 1904, 1933,\n",
       "       1894, 1892, 1914, 1922, 1902, 1909, 1877, 2020, 1880, 1893, 1890,\n",
       "       1891, 1884, 2021, 1897, 1886, 1846, 1896, 1885, 1870, 1883, 1887,\n",
       "       1853, 1888, 1800, 1738, 1876, 1874, 1862], dtype=int64)"
      ]
     },
     "execution_count": 591,
     "metadata": {},
     "output_type": "execute_result"
    }
   ],
   "source": [
    "estate_data['remodeled_year'].unique()"
   ]
  },
  {
   "cell_type": "code",
   "execution_count": null,
   "metadata": {},
   "outputs": [],
   "source": []
  },
  {
   "cell_type": "code",
   "execution_count": null,
   "metadata": {},
   "outputs": [],
   "source": []
  },
  {
   "cell_type": "code",
   "execution_count": 592,
   "metadata": {},
   "outputs": [
    {
     "data": {
      "text/plain": [
       "numpy.int64"
      ]
     },
     "execution_count": 592,
     "metadata": {},
     "output_type": "execute_result"
    }
   ],
   "source": [
    "type(estate_data['remodeled_year'][0])"
   ]
  },
  {
   "cell_type": "code",
   "execution_count": 593,
   "metadata": {},
   "outputs": [
    {
     "data": {
      "text/plain": [
       "163576"
      ]
     },
     "execution_count": 593,
     "metadata": {},
     "output_type": "execute_result"
    }
   ],
   "source": [
    "# Сколько нулевых значений в столбце.\n",
    "\n",
    "len(estate_data[estate_data['remodeled_year'] == 0])"
   ]
  },
  {
   "cell_type": "code",
   "execution_count": 594,
   "metadata": {},
   "outputs": [],
   "source": [
    "# Закодируем в бинарный признак, создадим новый столбец\n",
    "\n",
    "estate_data['remodeled'] = estate_data['remodeled_year'].apply(lambda x: 'yes' if x > 0 else 'no')"
   ]
  },
  {
   "cell_type": "code",
   "execution_count": null,
   "metadata": {},
   "outputs": [],
   "source": []
  },
  {
   "cell_type": "code",
   "execution_count": 595,
   "metadata": {},
   "outputs": [],
   "source": [
    "estate_data.drop('remodeled_year', axis=1, inplace=True)"
   ]
  },
  {
   "cell_type": "code",
   "execution_count": null,
   "metadata": {},
   "outputs": [],
   "source": []
  },
  {
   "cell_type": "code",
   "execution_count": 596,
   "metadata": {},
   "outputs": [
    {
     "data": {
      "text/plain": [
       "no     163576\n",
       "yes    130125\n",
       "Name: remodeled, dtype: int64"
      ]
     },
     "execution_count": 596,
     "metadata": {},
     "output_type": "execute_result"
    }
   ],
   "source": [
    "estate_data['remodeled'].value_counts()"
   ]
  },
  {
   "cell_type": "code",
   "execution_count": null,
   "metadata": {},
   "outputs": [],
   "source": []
  },
  {
   "cell_type": "code",
   "execution_count": 597,
   "metadata": {},
   "outputs": [
    {
     "data": {
      "image/png": "[encoded data removed]",
      "text/plain": [
       "<Figure size 432x288 with 1 Axes>"
      ]
     },
     "metadata": {
      "needs_background": "light"
     },
     "output_type": "display_data"
    }
   ],
   "source": [
    "# Посмотрим гистограмму распределения\n",
    "sns.countplot(x = 'remodeled', data = estate_data);"
   ]
  },
  {
   "cell_type": "code",
   "execution_count": 598,
   "metadata": {},
   "outputs": [
    {
     "data": {
      "text/plain": [
       "{'atAGlanceFacts': [{'factValue': '2019', 'factLabel': 'Year built'},\n",
       "  {'factValue': '', 'factLabel': 'Remodeled year'},\n",
       "  {'factValue': '', 'factLabel': 'Heating'},\n",
       "  {'factValue': '', 'factLabel': 'Cooling'},\n",
       "  {'factValue': '', 'factLabel': 'Parking'},\n",
       "  {'factValue': '5828 sqft', 'factLabel': 'lotsize'},\n",
       "  {'factValue': '$159/sqft', 'factLabel': 'Price/sqft'}]}"
      ]
     },
     "execution_count": 598,
     "metadata": {},
     "output_type": "execute_result"
    }
   ],
   "source": [
    "estate_data['homeFacts'][1]"
   ]
  },
  {
   "cell_type": "code",
   "execution_count": null,
   "metadata": {},
   "outputs": [],
   "source": []
  },
  {
   "cell_type": "code",
   "execution_count": 599,
   "metadata": {},
   "outputs": [],
   "source": [
    "# Извлечем следующий признак из словаря - heating\n",
    "estate_data['heating'] = estate_data['homeFacts'].apply(lambda x: x['atAGlanceFacts'][2]['factValue'])"
   ]
  },
  {
   "cell_type": "code",
   "execution_count": 600,
   "metadata": {},
   "outputs": [
    {
     "data": {
      "text/plain": [
       "1723"
      ]
     },
     "execution_count": 600,
     "metadata": {},
     "output_type": "execute_result"
    }
   ],
   "source": [
    "estate_data['heating'].nunique()"
   ]
  },
  {
   "cell_type": "code",
   "execution_count": 601,
   "metadata": {},
   "outputs": [
    {
     "data": {
      "text/plain": [
       "array(['Central A/C, Heat Pump', '', 'Forced Air', ...,\n",
       "       'Floor Furnace, Wall Electric, Wall Gas',\n",
       "       'Other Cooling (See Remarks)',\n",
       "       'Baseboard, Hot Water, Programmable Thermostat, Radiant Floor'],\n",
       "      dtype=object)"
      ]
     },
     "execution_count": 601,
     "metadata": {},
     "output_type": "execute_result"
    }
   ],
   "source": [
    "estate_data['heating'].unique()"
   ]
  },
  {
   "cell_type": "code",
   "execution_count": 602,
   "metadata": {},
   "outputs": [
    {
     "data": {
      "text/plain": [
       "Forced Air                               80203\n",
       "                                         56746\n",
       "Forced air                               49960\n",
       "Other                                    27708\n",
       "No Data                                   8279\n",
       "Gas                                       7064\n",
       "Electric                                  6776\n",
       "Central Electric                          6694\n",
       "Heat Pump                                 5904\n",
       "Central                                   4221\n",
       "Baseboard                                 3550\n",
       "Central, Electric                         3315\n",
       "Wall                                      3095\n",
       "Heat pump                                 2638\n",
       "Heating System                            1966\n",
       "Electric Heat                             1913\n",
       "Forced air, Heat pump                     1709\n",
       "Central Air                               1540\n",
       "Radiant                                   1418\n",
       "Central Furnace                            849\n",
       "Central Electric, Zoned                    835\n",
       "Natural Gas Heat                           780\n",
       "Forced Air Heating                         697\n",
       "Gas Heat                                   685\n",
       "Central Heating                            592\n",
       "Central Gas                                556\n",
       "Forced Air, Natural Gas                    547\n",
       "Central Electric, Heat Pump                470\n",
       ", Gas Hot Air/Furnace                      454\n",
       "Forced Air, Gas                            421\n",
       "Electric, Gas                              333\n",
       ", Heat Pump - Heat                         328\n",
       "Forced air, Other                          312\n",
       "Central, Gas                               293\n",
       "Central Air Conditioning                   277\n",
       "Central Air, Ceiling Fan(s)                221\n",
       "Central, Electric, Heat Pump               199\n",
       "Forced air, Stove                          198\n",
       "Central, Gas, Two or More Units            169\n",
       "Heat Pump(s)                               167\n",
       "Oil                                        165\n",
       "Natural Gas                                164\n",
       "Central Air, Central Heat                  161\n",
       "Central, Heat Pump                         154\n",
       ", Gas Hot Air/Furnace, MultiZone Heat      149\n",
       "Baseboard, Forced air                      148\n",
       "Central, Electric, Two or More Units       147\n",
       "Electric, Heat Pump                        146\n",
       "Refrigeration                              133\n",
       "Forced air, Wall                           128\n",
       "Name: heating, dtype: int64"
      ]
     },
     "execution_count": 602,
     "metadata": {},
     "output_type": "execute_result"
    }
   ],
   "source": [
    "# посмотрим 50 основных значений столбца\n",
    "estate_data['heating'].value_counts()[:50]"
   ]
  },
  {
   "cell_type": "code",
   "execution_count": 603,
   "metadata": {},
   "outputs": [],
   "source": [
    "# Приведем значения к нижнему регистру\n",
    "estate_data['heating'] = estate_data['heating'].apply(lambda x: str(x).lower())"
   ]
  },
  {
   "cell_type": "code",
   "execution_count": null,
   "metadata": {},
   "outputs": [],
   "source": []
  },
  {
   "cell_type": "code",
   "execution_count": 604,
   "metadata": {},
   "outputs": [],
   "source": [
    "estate_data['heating'] = estate_data['heating'].fillna('no_provided')"
   ]
  },
  {
   "cell_type": "code",
   "execution_count": null,
   "metadata": {},
   "outputs": [],
   "source": []
  },
  {
   "cell_type": "code",
   "execution_count": 605,
   "metadata": {},
   "outputs": [
    {
     "data": {
      "text/plain": [
       "forced air                               130163\n",
       "                                          56746\n",
       "other                                     27708\n",
       "heat pump                                  8542\n",
       "no data                                    8279\n",
       "gas                                        7066\n",
       "electric                                   6782\n",
       "central electric                           6694\n",
       "central                                    4221\n",
       "baseboard                                  3550\n",
       "central, electric                          3315\n",
       "wall                                       3095\n",
       "heating system                             1966\n",
       "electric heat                              1913\n",
       "forced air, heat pump                      1747\n",
       "central air                                1540\n",
       "radiant                                    1418\n",
       "central furnace                             849\n",
       "central electric, zoned                     835\n",
       "natural gas heat                            780\n",
       "forced air heating                          697\n",
       "gas heat                                    685\n",
       "none                                        611\n",
       "central heating                             592\n",
       "central gas                                 556\n",
       "forced air, natural gas                     547\n",
       "central electric, heat pump                 470\n",
       ", gas hot air/furnace                       454\n",
       "forced air, gas                             421\n",
       "electric, gas                               333\n",
       ", heat pump - heat                          328\n",
       "forced air, other                           312\n",
       "central, gas                                293\n",
       "central air conditioning                    277\n",
       "central air, ceiling fan(s)                 221\n",
       "central, electric, heat pump                199\n",
       "forced air, stove                           199\n",
       "central, gas, two or more units             169\n",
       "heat pump(s)                                167\n",
       "oil                                         165\n",
       "natural gas                                 164\n",
       "central air, central heat                   161\n",
       "baseboard, forced air                       157\n",
       "central, heat pump                          154\n",
       ", gas hot air/furnace, multizone heat       149\n",
       "central, electric, two or more units        147\n",
       "electric, heat pump                         146\n",
       "refrigeration                               133\n",
       "forced air, wall                            128\n",
       "central electric, central gas               126\n",
       "Name: heating, dtype: int64"
      ]
     },
     "execution_count": 605,
     "metadata": {},
     "output_type": "execute_result"
    }
   ],
   "source": [
    "estate_data['heating'].value_counts()[:50]"
   ]
  },
  {
   "cell_type": "code",
   "execution_count": 606,
   "metadata": {},
   "outputs": [],
   "source": [
    "# Заменим пустую строку ' ' и значение 'no data' на значение 'no info'. \n",
    "# Также значения 'central air', 'forced air heating' и 'central air, ceiling fan(s)' заменим на 'forced air', \n",
    "# значения 'central electric', 'electric heat', 'central, electric' и 'central electric, zoned' на 'electric',\n",
    "# значения 'natural gas heat', 'gas heat', 'natural gas', 'central gas' и 'central, gas' на 'gas', значение ',\n",
    "# heat pump - heat' и 'central, heat pump' на 'heat pump'."
   ]
  },
  {
   "cell_type": "code",
   "execution_count": 607,
   "metadata": {},
   "outputs": [],
   "source": [
    "estate_data['heating'] = estate_data['heating'].apply(lambda x: 'no_info' if (x == '') | (x == 'no_provided') else x)"
   ]
  },
  {
   "cell_type": "code",
   "execution_count": 608,
   "metadata": {},
   "outputs": [],
   "source": [
    "estate_data['heating'] = estate_data['heating'].apply(lambda x: 'forced_air' if (x == 'forced air heating') | (x == 'forced air, heat pump, stove') | (x == 'central air') | (x == 'forced air, wall') else x)"
   ]
  },
  {
   "cell_type": "code",
   "execution_count": 609,
   "metadata": {},
   "outputs": [],
   "source": [
    "estate_data['heating'] = estate_data['heating'].apply(lambda x: 'electric' if (x == 'central electric') | (x == 'central electric') | (x == 'central electric, heat pump') | (x == 'central, electric, two or more units') | (x == 'central heating') | ( x == 'central') else x)"
   ]
  },
  {
   "cell_type": "code",
   "execution_count": 610,
   "metadata": {},
   "outputs": [],
   "source": [
    "estate_data['heating'] = estate_data['heating'].apply(lambda x: 'gas' if (x == 'gas heat') | (x == 'central gas') | (x == 'central, gas') else x)"
   ]
  },
  {
   "cell_type": "code",
   "execution_count": 611,
   "metadata": {},
   "outputs": [],
   "source": [
    "estate_data['heating'] = estate_data['heating'].apply(lambda x: 'heat pump' if (x == ', heat pump - heat') | (x == 'central, heat pump') else x)"
   ]
  },
  {
   "cell_type": "code",
   "execution_count": 612,
   "metadata": {},
   "outputs": [
    {
     "data": {
      "text/plain": [
       "forced air                               130163\n",
       "no_info                                   56746\n",
       "other                                     27708\n",
       "electric                                  18906\n",
       "heat pump                                  9024\n",
       "gas                                        8600\n",
       "no data                                    8279\n",
       "baseboard                                  3550\n",
       "central, electric                          3315\n",
       "wall                                       3095\n",
       "forced_air                                 2442\n",
       "heating system                             1966\n",
       "electric heat                              1913\n",
       "forced air, heat pump                      1747\n",
       "radiant                                    1418\n",
       "central furnace                             849\n",
       "central electric, zoned                     835\n",
       "natural gas heat                            780\n",
       "none                                        611\n",
       "forced air, natural gas                     547\n",
       ", gas hot air/furnace                       454\n",
       "forced air, gas                             421\n",
       "electric, gas                               333\n",
       "forced air, other                           312\n",
       "central air conditioning                    277\n",
       "central air, ceiling fan(s)                 221\n",
       "central, electric, heat pump                199\n",
       "forced air, stove                           199\n",
       "central, gas, two or more units             169\n",
       "heat pump(s)                                167\n",
       "oil                                         165\n",
       "natural gas                                 164\n",
       "central air, central heat                   161\n",
       "baseboard, forced air                       157\n",
       ", gas hot air/furnace, multizone heat       149\n",
       "electric, heat pump                         146\n",
       "refrigeration                               133\n",
       "central electric, central gas               126\n",
       "central, electric, zoned                    120\n",
       "forced air, radiant                         114\n",
       "refrigeration, ceiling fan(s)               108\n",
       "window units                                103\n",
       "wall heater                                 101\n",
       "forced air - gas                             87\n",
       "central heating, electric source             84\n",
       "hot water/steam                              82\n",
       "radiator                                     81\n",
       "central, natural gas                         76\n",
       "wall furnace                                 76\n",
       "baseboard, hot water                         75\n",
       "Name: heating, dtype: int64"
      ]
     },
     "execution_count": 612,
     "metadata": {},
     "output_type": "execute_result"
    }
   ],
   "source": [
    "estate_data['heating'].value_counts()[:50]"
   ]
  },
  {
   "cell_type": "code",
   "execution_count": 613,
   "metadata": {},
   "outputs": [],
   "source": [
    "freq_heating = list(estate_data['heating'].value_counts())"
   ]
  },
  {
   "cell_type": "code",
   "execution_count": 614,
   "metadata": {},
   "outputs": [
    {
     "data": {
      "text/plain": [
       "6"
      ]
     },
     "execution_count": 614,
     "metadata": {},
     "output_type": "execute_result"
    }
   ],
   "source": [
    "# определим признаки, которые включают 85% всего столбца\n",
    "top_heating = int(np.percentile(freq_heating, 85))\n",
    "top_heating"
   ]
  },
  {
   "cell_type": "code",
   "execution_count": 615,
   "metadata": {},
   "outputs": [],
   "source": [
    "# отставим основные 6 значений и удалим остальные\n",
    "all_heatingTypes = set(estate_data.heating.value_counts().index)\n",
    "main_heatingTypes = set(estate_data.heating.value_counts().index[:6])\n",
    "heatingTypes_to_drop = list(all_heatingTypes - main_heatingTypes)\n",
    "estate_data.drop(estate_data.loc[estate_data['heating'].isin(heatingTypes_to_drop), 'heating'].index, inplace = True)"
   ]
  },
  {
   "cell_type": "code",
   "execution_count": 616,
   "metadata": {},
   "outputs": [
    {
     "data": {
      "text/html": [
       "<div>\n",
       "<style scoped>\n",
       "    .dataframe tbody tr th:only-of-type {\n",
       "        vertical-align: middle;\n",
       "    }\n",
       "\n",
       "    .dataframe tbody tr th {\n",
       "        vertical-align: top;\n",
       "    }\n",
       "\n",
       "    .dataframe thead th {\n",
       "        text-align: right;\n",
       "    }\n",
       "</style>\n",
       "<table border=\"1\" class=\"dataframe\">\n",
       "  <thead>\n",
       "    <tr style=\"text-align: right;\">\n",
       "      <th></th>\n",
       "      <th>status</th>\n",
       "      <th>propertyType</th>\n",
       "      <th>baths</th>\n",
       "      <th>homeFacts</th>\n",
       "      <th>fireplace</th>\n",
       "      <th>city</th>\n",
       "      <th>schools</th>\n",
       "      <th>sqft</th>\n",
       "      <th>beds</th>\n",
       "      <th>stories</th>\n",
       "      <th>target</th>\n",
       "      <th>Pool</th>\n",
       "      <th>Year_built</th>\n",
       "      <th>remodeled</th>\n",
       "      <th>heating</th>\n",
       "    </tr>\n",
       "  </thead>\n",
       "  <tbody>\n",
       "    <tr>\n",
       "      <th>1</th>\n",
       "      <td>for sale</td>\n",
       "      <td>single-family home</td>\n",
       "      <td>3 Baths</td>\n",
       "      <td>{'atAGlanceFacts': [{'factValue': '2019', 'fac...</td>\n",
       "      <td>NaN</td>\n",
       "      <td>Spokane Valley</td>\n",
       "      <td>[{'rating': ['4/10', 'None/10', '4/10'], 'data...</td>\n",
       "      <td>1,947 sqft</td>\n",
       "      <td>3 Beds</td>\n",
       "      <td>2.0</td>\n",
       "      <td>$310,000</td>\n",
       "      <td>No</td>\n",
       "      <td>2019.0</td>\n",
       "      <td>no</td>\n",
       "      <td>no_info</td>\n",
       "    </tr>\n",
       "    <tr>\n",
       "      <th>2</th>\n",
       "      <td>for sale</td>\n",
       "      <td>single-family home</td>\n",
       "      <td>2 Baths</td>\n",
       "      <td>{'atAGlanceFacts': [{'factValue': '1961', 'fac...</td>\n",
       "      <td>yes</td>\n",
       "      <td>Los Angeles</td>\n",
       "      <td>[{'rating': ['8/10', '4/10', '8/10'], 'data': ...</td>\n",
       "      <td>3,000 sqft</td>\n",
       "      <td>3 Beds</td>\n",
       "      <td>1.0</td>\n",
       "      <td>$2,895,000</td>\n",
       "      <td>Yes</td>\n",
       "      <td>1961.0</td>\n",
       "      <td>yes</td>\n",
       "      <td>forced air</td>\n",
       "    </tr>\n",
       "    <tr>\n",
       "      <th>3</th>\n",
       "      <td>for sale</td>\n",
       "      <td>single-family home</td>\n",
       "      <td>8 Baths</td>\n",
       "      <td>{'atAGlanceFacts': [{'factValue': '2006', 'fac...</td>\n",
       "      <td>yes</td>\n",
       "      <td>Dallas</td>\n",
       "      <td>[{'rating': ['9/10', '9/10', '10/10', '9/10'],...</td>\n",
       "      <td>6,457 sqft</td>\n",
       "      <td>5 Beds</td>\n",
       "      <td>3.0</td>\n",
       "      <td>$2,395,000</td>\n",
       "      <td>No</td>\n",
       "      <td>2006.0</td>\n",
       "      <td>yes</td>\n",
       "      <td>forced air</td>\n",
       "    </tr>\n",
       "    <tr>\n",
       "      <th>5</th>\n",
       "      <td>for sale</td>\n",
       "      <td>townhouse</td>\n",
       "      <td>NaN</td>\n",
       "      <td>{'atAGlanceFacts': [{'factValue': '1920', 'fac...</td>\n",
       "      <td>NaN</td>\n",
       "      <td>Philadelphia</td>\n",
       "      <td>[{'rating': [], 'data': {'Distance': [], 'Grad...</td>\n",
       "      <td>897 sqft</td>\n",
       "      <td>2 Beds</td>\n",
       "      <td>2.0</td>\n",
       "      <td>$209,000</td>\n",
       "      <td>No</td>\n",
       "      <td>1920.0</td>\n",
       "      <td>no</td>\n",
       "      <td>forced air</td>\n",
       "    </tr>\n",
       "    <tr>\n",
       "      <th>8</th>\n",
       "      <td>active</td>\n",
       "      <td>Single Family Home</td>\n",
       "      <td>2</td>\n",
       "      <td>{'atAGlanceFacts': [{'factValue': '1970', 'fac...</td>\n",
       "      <td>NaN</td>\n",
       "      <td>Mason City</td>\n",
       "      <td>[{'rating': ['2', '2', '4', '7', '4', 'NR'], '...</td>\n",
       "      <td>3588</td>\n",
       "      <td>3</td>\n",
       "      <td>NaN</td>\n",
       "      <td>$244,900</td>\n",
       "      <td>No</td>\n",
       "      <td>1970.0</td>\n",
       "      <td>no</td>\n",
       "      <td>forced air</td>\n",
       "    </tr>\n",
       "  </tbody>\n",
       "</table>\n",
       "</div>"
      ],
      "text/plain": [
       "     status        propertyType    baths  \\\n",
       "1  for sale  single-family home  3 Baths   \n",
       "2  for sale  single-family home  2 Baths   \n",
       "3  for sale  single-family home  8 Baths   \n",
       "5  for sale           townhouse      NaN   \n",
       "8    active  Single Family Home        2   \n",
       "\n",
       "                                           homeFacts fireplace  \\\n",
       "1  {'atAGlanceFacts': [{'factValue': '2019', 'fac...       NaN   \n",
       "2  {'atAGlanceFacts': [{'factValue': '1961', 'fac...       yes   \n",
       "3  {'atAGlanceFacts': [{'factValue': '2006', 'fac...       yes   \n",
       "5  {'atAGlanceFacts': [{'factValue': '1920', 'fac...       NaN   \n",
       "8  {'atAGlanceFacts': [{'factValue': '1970', 'fac...       NaN   \n",
       "\n",
       "             city                                            schools  \\\n",
       "1  Spokane Valley  [{'rating': ['4/10', 'None/10', '4/10'], 'data...   \n",
       "2     Los Angeles  [{'rating': ['8/10', '4/10', '8/10'], 'data': ...   \n",
       "3          Dallas  [{'rating': ['9/10', '9/10', '10/10', '9/10'],...   \n",
       "5    Philadelphia  [{'rating': [], 'data': {'Distance': [], 'Grad...   \n",
       "8      Mason City  [{'rating': ['2', '2', '4', '7', '4', 'NR'], '...   \n",
       "\n",
       "         sqft    beds stories      target Pool  Year_built remodeled  \\\n",
       "1  1,947 sqft  3 Beds     2.0    $310,000   No      2019.0        no   \n",
       "2  3,000 sqft  3 Beds     1.0  $2,895,000  Yes      1961.0       yes   \n",
       "3  6,457 sqft  5 Beds     3.0  $2,395,000   No      2006.0       yes   \n",
       "5    897 sqft  2 Beds     2.0    $209,000   No      1920.0        no   \n",
       "8        3588       3     NaN    $244,900   No      1970.0        no   \n",
       "\n",
       "      heating  \n",
       "1     no_info  \n",
       "2  forced air  \n",
       "3  forced air  \n",
       "5  forced air  \n",
       "8  forced air  "
      ]
     },
     "execution_count": 616,
     "metadata": {},
     "output_type": "execute_result"
    }
   ],
   "source": [
    "estate_data.head()"
   ]
  },
  {
   "cell_type": "code",
   "execution_count": 617,
   "metadata": {},
   "outputs": [],
   "source": [
    "estate_data.reset_index(inplace=True, drop=True)"
   ]
  },
  {
   "cell_type": "code",
   "execution_count": 618,
   "metadata": {},
   "outputs": [
    {
     "data": {
      "text/plain": [
       "{'atAGlanceFacts': [{'factValue': '1920', 'factLabel': 'Year built'},\n",
       "  {'factValue': '', 'factLabel': 'Remodeled year'},\n",
       "  {'factValue': 'Forced Air', 'factLabel': 'Heating'},\n",
       "  {'factValue': 'Central', 'factLabel': 'Cooling'},\n",
       "  {'factValue': '', 'factLabel': 'Parking'},\n",
       "  {'factValue': '680 sqft', 'factLabel': 'lotsize'},\n",
       "  {'factValue': '$233/sqft', 'factLabel': 'Price/sqft'}]}"
      ]
     },
     "execution_count": 618,
     "metadata": {},
     "output_type": "execute_result"
    }
   ],
   "source": [
    "estate_data['homeFacts'][3]"
   ]
  },
  {
   "cell_type": "code",
   "execution_count": null,
   "metadata": {},
   "outputs": [],
   "source": []
  },
  {
   "cell_type": "code",
   "execution_count": 619,
   "metadata": {},
   "outputs": [],
   "source": [
    "# извлечем следующий признак из словаря - 'cooling'"
   ]
  },
  {
   "cell_type": "code",
   "execution_count": 620,
   "metadata": {},
   "outputs": [],
   "source": [
    "\n",
    "estate_data['cooling'] = estate_data['homeFacts'].apply(lambda x: x['atAGlanceFacts'][3]['factValue'])"
   ]
  },
  {
   "cell_type": "code",
   "execution_count": 621,
   "metadata": {},
   "outputs": [
    {
     "data": {
      "text/plain": [
       "580"
      ]
     },
     "execution_count": 621,
     "metadata": {},
     "output_type": "execute_result"
    }
   ],
   "source": [
    "estate_data['cooling'].nunique()"
   ]
  },
  {
   "cell_type": "code",
   "execution_count": 622,
   "metadata": {},
   "outputs": [
    {
     "data": {
      "text/plain": [
       "array(['', 'Central', 'Central Gas', 'Central, Evaporative',\n",
       "       'Central Electric', 'None', 'No Data', 'Wall',\n",
       "       'Ceiling Fan, Central Electric', 'Central Air',\n",
       "       'Central A/C (Electric), Central Heat (Gas)', 'Electric',\n",
       "       'Central, Solar', 'Refrigeration, Ceiling Fan(s)',\n",
       "       'Central A/C (Electric), Central Heat (Gas), Zoned', 'Other',\n",
       "       'Central, Wall',\n",
       "       'Refrigeration, Ceiling Fan(s), Programmable Thmstat',\n",
       "       '2 or More Units, Central, Electric', 'Central Electric, Zoned',\n",
       "       'Air Conditioning-Central', 'Evaporative', 'Central, Electric',\n",
       "       'Solar, Refrigeration', '2 or More Units, Central',\n",
       "       'Ceiling Fan, Central Electric, Heat Pump', 'Central Cooling',\n",
       "       'Central Air, Gas (Hot Air)',\n",
       "       'Attic Fan, Ceiling Fan, Central Electric',\n",
       "       'Evaporative Cooler (Swamp)', 'Refrigeration',\n",
       "       'Forced Air Heating',\n",
       "       'Central Air, Gas (Hot Air), Gas (Water Heater), Natural Gas',\n",
       "       'Central A/C (Electric), Central Heat (Electric), Zoned',\n",
       "       'Additional Water Heater(s), Central A/C (Electric), Central Heat (Gas), Zoned',\n",
       "       'Additional Water Heater(s), Central A/C (Electric), Central A/C (Gas)',\n",
       "       'Central A/C', 'Central A/C (Gas), Central Heat (Gas)', 'Solar',\n",
       "       'Ceiling Fan', 'Central, Other', 'Heat Pump', 'Other, Wall',\n",
       "       'Central A/C (Electric), Central Heat (Electric)', 'Central, ',\n",
       "       'Central A/C, Ceiling Fan(s)', 'Zoned A/C', 'Wall-Unit A/C',\n",
       "       'Central Electric, Heat Pump',\n",
       "       'Central Electric, Heat Pump, Wall/Window Unit', 'No Cooling/Vent',\n",
       "       '2 or More Units', 'Butane',\n",
       "       'Central Air, Multi-Zone A/C, Multi-Zone Heat',\n",
       "       'Other Heating Fuel (See Remarks)',\n",
       "       'Central, Solar, Refrigeration', 'Central Electric, Central Gas',\n",
       "       'Window Unit(s)', 'Steam Heating',\n",
       "       'Central A/C (Electric), Heat Pump',\n",
       "       'Central A/C (Electric), Central Heat (Gas), Gas Jets',\n",
       "       'Heat Pump - AC',\n",
       "       'Ceiling Fans, Central Electric, Exhaust Fan, Ridge Vent',\n",
       "       'Central A/C (Electric), Central A/C (Gas)',\n",
       "       'Central A/C (Electric), Central Heat (Electric), Heat Pump',\n",
       "       'Central Air, Humidity Control', 'Central Air, Heat Pump - AC',\n",
       "       'Window Units', 'Air Conditioning-Central, Ceiling Fan',\n",
       "       'Ceiling Fans, Central Electric', 'Central Air, Zoned',\n",
       "       'Gas (Hot Air), Multi-Zone A/C, Multi-Zone Heat, Natural Gas',\n",
       "       'Geothermal', 'Central Air Conditioning', 'Baseboard Heat',\n",
       "       'Central AC',\n",
       "       'Central A/C (Electric), Central A/C (Gas), Central Heat (Electric), Central Heat (Gas), Window Unit',\n",
       "       'Additional Water Heater(s), Central A/C (Electric), Central Heat (Electric), Other (See Remarks)',\n",
       "       'Attic Fan, Central Air',\n",
       "       'Additional Water Heater(s), Central A/C (Electric), Central Heat (Gas)',\n",
       "       'Central Air, Gas (Hot Air), Multi-Zone A/C, Multi-Zone Heat',\n",
       "       'g-Energy Star HVAC, g-Fresh Air Ventilation, Gas (Hot Air), Heat Pump for A/C, Heat Pump for Heat, Multi-Zone A/C, Multi-Zone Heat, Natural Gas',\n",
       "       'Central A/C (Electric), Central Heat (Gas), Other (See Remarks)',\n",
       "       'Central Air, Dual, Gas',\n",
       "       'Central A/C (Electric), Central Heat (Electric), Heat Pump, Panel/Floor/Wall',\n",
       "       '2 or More Units, Electric',\n",
       "       'Central Air Conditioning, Forced Air Heating, Heat Pump',\n",
       "       'Central, None', 'Heat Pump for A/C, Heat Pump for Heat',\n",
       "       'Ceiling Fans, Central Electric, Exhaust Fan',\n",
       "       'Other (See Remarks)', 'Central Air, Gas (Hot Air), Natural Gas',\n",
       "       'Heat Pump - AC, Multizone A/C', 'Other Cooling',\n",
       "       'Additional Water Heater(s), Central A/C (Electric), Central Heat (Electric), Zoned',\n",
       "       'Central, SEER 13 or Greater', 'Ceiling Fan, Heat Pump',\n",
       "       'Central A/C (Electric), Other (See Remarks)', 'Wall, None',\n",
       "       'Central Electric, Wall/Window Unit',\n",
       "       'Central Air, Gas (Hot Air), Heat Pump for Heat, Humidifier',\n",
       "       'Heat Pump, Ductless HP-Mini Split', 'Radiant Heat, Radiator Heat',\n",
       "       'Gas (Hot Air)', 'Hot Water/Radiator Heating',\n",
       "       'Baseboard Heat, Forced Air Heating', 'Window Unit',\n",
       "       'Central-Elec', 'Central, Two or More Units',\n",
       "       'Wall/Window Unit(s)', 'Evaporative, Geothermal',\n",
       "       'Electric Hot Air', 'Forced Air Heating, Radiant Heat',\n",
       "       'Refrigeration, Programmable Thmstat',\n",
       "       'Baseboard Heat, Window Unit Air Conditioning',\n",
       "       'Central A/C (Electric), Central Heat (Gas), Window Unit',\n",
       "       'Central Air, Humidity Control, Zoned', 'Central Air, Electric',\n",
       "       'Additional Water Heater(s), Central A/C (Electric), Central Heat (Gas), Humidifier, Zoned',\n",
       "       'Air Purifier, Central Electric', 'Central, Geothermal',\n",
       "       'Central A/C (Electric), Central Heat (Electric), Other (See Remarks)',\n",
       "       'Baseboard Heat, Wall Heat', 'Central, Refrigeration',\n",
       "       'Central A/C (Gas), Solar',\n",
       "       'Central Air, Heat Pump for A/C, Heat Pump for Heat',\n",
       "       'Air Conditioning-Central, Attic Fan',\n",
       "       'Central Heat (Electric), Central Heat (Gas), Zoned',\n",
       "       'Central Gas, Zoned', 'Zoned', 'Boiler',\n",
       "       'Central Air, Wall/Window Unit(s)',\n",
       "       'Central A/C (Electric), Central A/C (Gas), Central Heat (Electric), Central Heat (Gas)',\n",
       "       'Central Heat (Gas), Window Unit',\n",
       "       'Ceiling Fan, Central Electric, Wall/Window Unit',\n",
       "       'Additional Water Heater(s), Central A/C (Electric), Central Heat (Electric)',\n",
       "       'Gas (Hot Air), Heat Pump for A/C', 'Attic Fan, Heat Pump',\n",
       "       'Central Air, g-Fresh Air Ventilation, Gas (Hot Air), Natural Gas',\n",
       "       'Window/Wall Unit',\n",
       "       'Central A/C (Electric), Central A/C (Gas), Zoned',\n",
       "       'Central Air Conditioning, Forced Air Heating, Radiant Heat',\n",
       "       'Central, Multiple Units, Zoned',\n",
       "       'Central Air, Heat Pump for Heat',\n",
       "       'Ceiling Fans, Central Electric, Window Unit',\n",
       "       'Forced Air Heating, Heat Pump, Wall Insert Heat, Tankless Water Heater',\n",
       "       'Radiator Heat', 'Ceiling Fan(s)', 'Air Conditioning-Room',\n",
       "       'No A/C, No Heat, Window Unit',\n",
       "       'Central Air, Heat Pump for Heat, Multi-Zone A/C, Multi-Zone Heat',\n",
       "       'Central Air, Gas (Hot Air), Multi-Zone A/C, Multi-Zone Heat, Natural Gas',\n",
       "       'Central Air, Heat Pump',\n",
       "       'Central A/C (Electric), Central Heat (Gas), Humidifier',\n",
       "       'Central Air, Gas (Water Heater), Natural Gas, Other (See Remarks)',\n",
       "       'Other Cooling, Window Units', 'Cenrtal AC',\n",
       "       'Central Air, Electric, Gas', 'Central Cooling, Electric Source',\n",
       "       'Central Electric, Window Units',\n",
       "       'Central A/C (Electric), Central Heat (Electric), Solar',\n",
       "       'Heat Pump, High Efficiency, Wall Heat, Ductless HP-Mini Split, HRV/ERV System, Tankless Water Heater',\n",
       "       'Wall Unit(s)', 'Ceiling Fan(s), Programmable Thmstat',\n",
       "       'Wall Unit - AC', 'Central Air, Gas (Hot Air), Heat Pump for Heat',\n",
       "       'Central A/C (Electric), Central Heat (Electric), Window Unit',\n",
       "       'Central Air, Oil Hot Air, Other (See Remarks)',\n",
       "       'Evaporative, Wall', 'Wall Unit Cooling, Central A/C',\n",
       "       'Central Air, Gas (Water Heater)', 'Central Air, Gas',\n",
       "       'Forced Air Heating, Heat Pump', 'Solar, Wall, Refrigeration',\n",
       "       'Air Conditioning, Central A/C', 'Humidity Control, Zoned',\n",
       "       'Central Air, Electric Hot Air',\n",
       "       'Central A/C (Electric), Central Heat (Gas), Solar',\n",
       "       'Ceiling Fan, Evaporative Cooler (Swamp)',\n",
       "       'Ceiling Fan, Central, Heat Pump', 'Attic Fan',\n",
       "       'Ceiling Fan(s), Central A/C', 'Central Electric, Double Units',\n",
       "       'Central Air, Window Unit(s)',\n",
       "       'Attic Fan, Central Electric, Zoned', 'Wall or Window Units',\n",
       "       'Additional Water Heater(s), Central A/C (Electric)',\n",
       "       'Wall Unit Cooling', 'Central Electric, Window Unit',\n",
       "       'Central, Evaporative, Wall', 'Ceiling Fan, Window Units',\n",
       "       'Central, Evaporative, Refrigeration',\n",
       "       'Gas (Hot Air), Propane, Other (See Remarks)', 'Radiant Heat',\n",
       "       'Ceiling Fans', 'Air Conditioning Unit(s)',\n",
       "       'Central, Geothermal, Other', 'Ceiling Fan, Central',\n",
       "       'Ceiling Fans, Central Electric, Humidistat', 'Air Conditioning',\n",
       "       'Ceiling Fan, Central Electric, Zoned',\n",
       "       'Central Air Conditioning, Forced Air Heating, Heat Pump, High Efficiency',\n",
       "       'Central Air, Mini-Split Unit(s)',\n",
       "       'Central Air Conditioning, Forced Air Heating, Radiant Heat, 90%+ High Efficiency, Tankless Water Heater',\n",
       "       'Gas (Floor Furnace), Multi-Zone A/C, Multi-Zone Heat',\n",
       "       'Air Conditioning, Ceiling Fan(s), Central A/C',\n",
       "       'Central Electric, Propane',\n",
       "       'Central A/C (Electric), Central Heat (Gas), Heat Pump',\n",
       "       'Central, Heat Pump',\n",
       "       'Forced Air Heating, Radiant Heat, Radiator Heat, Wall Heat',\n",
       "       'Central Air Conditioning, Ductless HP-Mini Split', 'Baseboard',\n",
       "       'Central Air, Multizone A/C', 'Window', 'Forced Air, Natural Gas',\n",
       "       'Window A/C',\n",
       "       'Central Air, Gas (Floor Furnace), Multi-Zone A/C, Multi-Zone Heat',\n",
       "       'Central Air, Multi-Zone A/C', 'Central Gas, Propane',\n",
       "       'Natural Gas Heat', 'Space Heater, Window Unit',\n",
       "       'Heat Pump for A/C, Heat Pump for Heat, Multi-Zone A/C',\n",
       "       'Air Conditioning Unit(s), Ceiling Fan(s)',\n",
       "       'Forced Air Heating, 90%+ High Efficiency',\n",
       "       'Central Electric, Heat Pump, Zoned',\n",
       "       'Central Air Conditioning, Forced Air Heating',\n",
       "       'No Heat, Other (See Remarks)', 'Hot Water, Steam',\n",
       "       'Central Air, Zoned, Electric',\n",
       "       'Central A/C (Electric), Central Heat (Gas), Propane',\n",
       "       'High Efficiency, Other (See Remarks), Radiant Heat',\n",
       "       'Baseboard Heat, Free-Standing Stove Heat',\n",
       "       'Central Air, Gas (Floor Furnace), Propane',\n",
       "       'Central Air, ENERGY STAR Qualified Equipment',\n",
       "       'Heat Pump for A/C', 'Central Electric, Wall Unit',\n",
       "       'Forced Air Heating, Ductless HP-Mini Split',\n",
       "       'Central Air, Gas (Hot Air), Multi-Zone A/C',\n",
       "       'Window/Wall Unit, Ceiling Fan(s)', '90%+ High Efficiency',\n",
       "       'Central Air, Gas (Hot Air), Heat Pump for A/C, Heat Pump for Heat',\n",
       "       'Central Gas, Wall Heater', 'Gas',\n",
       "       'Central Air, Gas (Hot Air), Gas (Water Heater)', 'Other Heating',\n",
       "       'Heat Pump(Cooling)', 'Heat Pump for Heat, Multi-Zone A/C',\n",
       "       'Evaporative, Refrigeration, Ceiling Fan(s)',\n",
       "       'Heat Pump, High Efficiency, Hot Water Recirc Pump',\n",
       "       'Humidity Control, Other',\n",
       "       'Additional Water Heater(s), Central A/C (Electric), Zoned',\n",
       "       'Central A/C (Gas), Central Heat (Electric)',\n",
       "       'No A/C, No Heat, Other (See Remarks)',\n",
       "       'Multi-Zone A/C, Multi-Zone Heat, Natural Gas',\n",
       "       'g-Energy Star HVAC, Gas (Hot Air), Multi-Zone A/C',\n",
       "       'Other (See Remarks), Space Heater, Window Unit',\n",
       "       'Additional Water Heater(s), Central A/C (Electric), Central Heat (Gas), Heat Pump',\n",
       "       'Central, MultiZone',\n",
       "       'Refrigeration, Window/Wall Unit, Ceiling Fan(s)',\n",
       "       'Central Air, Gas (Hot Air), Gas (Water Heater), Heat Pump for A/C',\n",
       "       'No A/C, No Heat', 'Forced Air, Gas',\n",
       "       'Central A/C (Electric), Central Heat (Gas), Electrostatic Air Filter',\n",
       "       'Central Heat (Electric), Central Heat (Gas)',\n",
       "       'Baseboard Heat, Central Air Conditioning',\n",
       "       'Central A/C (Electric), Central Heat (Electric), Propane',\n",
       "       'Central Air, g-Fresh Air Ventilation, Gas (Hot Air), Multi-Zone A/C',\n",
       "       'Central A/C (Electric), Central Heat (Gas), Humidifier, Zoned',\n",
       "       'Central Air Conditioning, Heat Pump',\n",
       "       'Radiant Heat, Window Unit Air Conditioning',\n",
       "       'Central Air, Natural Gas',\n",
       "       'Central A/C (Electric), Central Heat (Electric), Central Heat (Gas), Heat Pump',\n",
       "       'Wall Unit',\n",
       "       'Central A/C (Electric), Central Heat (Electric), Propane, Zoned',\n",
       "       'Separate System', 'Wall Heat', 'Central, Evaporative, Solar',\n",
       "       'Hot Air', 'Geothermal, Other',\n",
       "       'Forced Air Heating, Wall Insert Heat',\n",
       "       'Wall Insert Heat, Wall Heat', 'Baseboard Heat, Electric',\n",
       "       'Electric Hot Air, Window Unit',\n",
       "       'Central Air, g-Energy Star HVAC, g-Fresh Air Ventilation, Gas (Hot Air), Multi-Zone A/C, Multi-Zone Heat',\n",
       "       'No Cooling/Vent, Other Cooling',\n",
       "       'Central A/C (Electric), No Heat',\n",
       "       'Central A/C (Gas), Central Heat (Gas), Zoned',\n",
       "       'Central Air, Electric Hot Air, Heat Pump for A/C, Heat Pump for Heat',\n",
       "       'Attic Fan, Evaporative Cooler (Swamp)',\n",
       "       'Central A/C (Electric), Central Heat (Electric), Central Heat (Gas)',\n",
       "       'Ductless HP-Mini Split',\n",
       "       'Central Air, Electric Hot Air, Multi-Zone A/C, Multi-Zone Heat',\n",
       "       'Ceiling Fan, Central Cooling',\n",
       "       'Forced Air Heating, Radiant Heat, Hot Water Recirc Pump',\n",
       "       'Additional Water Heater(s), Central A/C (Electric), Central Heat (Electric), Heat Pump',\n",
       "       'Multi-Zone A/C, Multi-Zone Heat',\n",
       "       'Central A/C (Electric), Central Heat (Gas), Other (See Remarks), Zoned',\n",
       "       'Wall/Window Unit(s), Electric, Gas',\n",
       "       'Central Air Conditioning, Ceiling Fan',\n",
       "       'Central Air, Gas (Hot Air), Heat Pump for A/C, Multi-Zone A/C, Multi-Zone Heat',\n",
       "       'Radiant Heat, Ductless HP-Mini Split, Hot Water Recirc Pump',\n",
       "       'Refrigeration, Ceiling Fan(s), Programmable Thmstat, ENERGY STAR Qualified Equipment',\n",
       "       'Central Air Conditioning, Forced Air Heating, 90%+ High Efficiency',\n",
       "       'Central Electric, Solar Assisted', 'Central AC, Window AC',\n",
       "       'Additional Water Heater(s), Central A/C (Electric), Central A/C (Gas), Central Heat (Gas), Other (See Remarks)',\n",
       "       'Central Air, Gas (Hot Air), Gas (Water Heater), Multi-Zone A/C, Multi-Zone Heat',\n",
       "       'Ceiling Fans, Central Electric, Zoned',\n",
       "       'Central Electric, Central Gas, Zoned', 'Other Cooling, Zoned',\n",
       "       'Air Conditioning-Room, Ceiling Fan',\n",
       "       'ENERGY STAR Qualified Equipment', 'Wood Stove',\n",
       "       'Ceiling Fan, Central Gas',\n",
       "       'Central Air, Gas (Hot Air), Heat Pump for Heat, Multi-Zone A/C, Multi-Zone Heat',\n",
       "       'Wall Unit(s), Wall or Window Units, Window Unit(s)',\n",
       "       'Radiant Heat, 90%+ High Efficiency, Ductless HP-Mini Split',\n",
       "       'Central A/C (Electric), Central Heat (Electric), Geotherm, Zoned',\n",
       "       'Programmable Thmstat', 'Solar, Refrigeration, None',\n",
       "       'Hot Water, Natural Gas', 'Ceiling Fan(s), Central 1 Zone A/C',\n",
       "       'Baseboard Heat, Forced Air Heating, Heat Pump',\n",
       "       'Central A/C (Electric), Central Heat (Gas), Window Unit, Zoned',\n",
       "       'Central A/C (Electric), Central Heat (Gas), Solar, Zoned',\n",
       "       'Forced Air Heating, Wall Heat',\n",
       "       'Central A/C (Electric), Central Heat (Electric), Heat Pump, Zoned',\n",
       "       'Additional Water Heater(s), Central A/C (Gas), Propane',\n",
       "       'Air Conditioning, Central A/C, Electric',\n",
       "       'Central Air, Wall/Window Unit(s), Evaporative Cooling',\n",
       "       'Central Air, Electric Hot Air, Gas (Hot Air), Heat Pump for A/C, Heat Pump for Heat, Propane',\n",
       "       'Central, Heat Pump, Zoned/Dual',\n",
       "       'Central Air, Electric Hot Air, Gas (Hot Air), Multi-Zone A/C, Multi-Zone Heat',\n",
       "       'Geothermal, Wall', 'Air Conditioning, Central Air',\n",
       "       'Central Air, Heat Pump for A/C, Natural Gas',\n",
       "       'Baseboard, Electric, Solar',\n",
       "       'Central Air Conditioning, Forced Air Heating, Heat Pump, Wall Insert Heat, Radiator Heat, Hot Water Recirc Pump',\n",
       "       'Central A/C, Wall or Window Units',\n",
       "       'Air Conditioning, Central A/C, Zoned A/C',\n",
       "       'Electric Heat, Natural Gas Heat',\n",
       "       'g-Energy Star HVAC, g-Fresh Air Ventilation, Gas (Hot Air), Heat Pump for A/C, Multi-Zone A/C, Multi-Zone Heat',\n",
       "       'Other (See Remarks), Window Unit',\n",
       "       'Attic Fan, Central Electric, Heat Pump',\n",
       "       'Central Air, Humidity Control, Wall/Window Unit(s)',\n",
       "       'Central Air, Multi-Zone A/C, Multi-Zone Heat, Natural Gas',\n",
       "       'Evaporative, Solar, Refrigeration',\n",
       "       'Heat Pump for A/C, Heat Pump for Heat, Multi-Zone A/C, Multi-Zone Heat',\n",
       "       'Additional Water Heater(s), Central Heat (Electric), Heat Pump',\n",
       "       'Gas Jets, Window Unit',\n",
       "       'Additional Water Heater(s), Geotherm, Zoned',\n",
       "       'Other (See Remarks), Space Heater', 'Central Gas, Window Unit',\n",
       "       'Wall, ', 'No A/C',\n",
       "       'Central Air, Gas (Water Heater), Heat Pump for A/C, Heat Pump for Heat, Multi-Zone A/C, Multi-Zone Heat',\n",
       "       'Other Heating (See Remarks)', 'Attic Fan, Ceiling Fan',\n",
       "       'Radiant Heat, 90%+ High Efficiency', 'Central-Electric',\n",
       "       'Central Air, Evaporative Cooling',\n",
       "       'Evaporative Cooler, Ceiling Fan',\n",
       "       'Heat Pump, Reversed Cycle Unit', 'Central Air, Heat Pump for A/C',\n",
       "       'Central Air, Electric Hot Air, Heat Pump for Heat',\n",
       "       'Central A/C (Electric), Window Unit', 'Heat Pump, Zoned',\n",
       "       '2 (Window/Wall Unit)',\n",
       "       'Additional Water Heater(s), Central A/C (Electric), Central Heat (Gas), Electrostatic Air Filter',\n",
       "       'Wall/Window Unit', 'Natural Gas', 'Central, MultiUnits',\n",
       "       'Mini-Split Unit(s)', 'Ceiling Fan, Heat Pump, Wall/Window Unit',\n",
       "       '90%+ High Efficiency, Ductless HP-Mini Split, HRV/ERV System, Hot Water Recirc Pump',\n",
       "       'Central Air, Gas (Floor Furnace)',\n",
       "       'Central A/C (Electric), Central Heat (Electric), Other (See Remarks), Window Unit',\n",
       "       'Central Air, Gas (Hot Air), Heat Pump for A/C, Heat Pump for Heat, Humidifier, Multi-Zone A/C, Multi-Zone Heat, Natural Gas, Other (See Remarks)',\n",
       "       'Forced Air Heating, Radiant Heat, Wall Heat',\n",
       "       'Central Air, Electric Baseboard Heat, Gas (Hot Air), Natural Gas',\n",
       "       'Central A/C (Electric), Central Heat (Gas), No A/C, No Heat, Other (See Remarks)',\n",
       "       'Additional Water Heater(s), Central A/C (Electric), Central Heat (Gas), Gas Jets, Zoned',\n",
       "       'Central Air, Wall/Window Unit(s), Zoned',\n",
       "       'Attic Fan, Ceiling Fan, Heat Pump', 'Window/Wall Unit(s)',\n",
       "       'Central Electric, Central Gas, Window Units, Zoned',\n",
       "       'Central Electric, Other Cooling, Zoned',\n",
       "       'Additional Water Heater(s), Central A/C (Electric), Central Heat (Gas), Electrostatic Air Filter, Zoned',\n",
       "       'Central A/C, Dual, Zoned A/C',\n",
       "       'Refrigeration, Window/Wall Unit, Ceiling Fan(s), Programmable Thmstat',\n",
       "       'Ceiling Fan(s), Central Air',\n",
       "       'g-Energy Star HVAC, g-Fresh Air Ventilation, Gas (Hot Air), Multi-Zone A/C',\n",
       "       'Central Air, Gas (Hot Air), Gas (Water Heater), Multi-Zone A/C, Multi-Zone Heat, Natural Gas',\n",
       "       'Window/Wall Cooling', 'Wall AC Units',\n",
       "       'Ceiling Fans, Central Electric, Exhaust Fan, Humidistat',\n",
       "       'Heat Pump, Other (See Remarks)', 'Both Refrig & Evap',\n",
       "       'SEER 13 or Greater', 'Attic Fan, Window Unit(s)',\n",
       "       'Additional Water Heater(s), Central A/C (Electric), Central Heat (Electric), Heat Pump, Zoned',\n",
       "       'Other, ', 'Air Conditioning-Room, Evaporative Cooler (Swamp)',\n",
       "       'Air Conditioning, Dual', 'Radiant Heat, Wall Heat',\n",
       "       'Central Air, Gas (Water Heater), Heat Pump for Heat', 'Propane',\n",
       "       'Baseboard, Hot Water', 'Ceiling Fan(s), Heat Pump',\n",
       "       'Central Gas, Window Units',\n",
       "       'Central Air, Heat Pump for A/C, Heat Pump for Heat, Multi-Zone A/C, Multi-Zone Heat',\n",
       "       'Wall Heat, Ductless HP-Mini Split',\n",
       "       'Radiant Heat, Radiator Heat, Tankless Water Heater',\n",
       "       'Additional Water Heater(s), Central A/C (Electric), Central Heat (Gas), Other (See Remarks), Zoned',\n",
       "       'Central Electric, Other Cooling', 'Evaporative, Window/Wall Unit',\n",
       "       'Air Conditioning, Wall Unit(s)',\n",
       "       'Additional Water Heater(s), Central A/C (Electric), Central Heat (Gas), Window Unit, Zoned',\n",
       "       'Central A/C, Zoned Cooling',\n",
       "       'Central A/C (Gas), Central Heat (Electric), Central Heat (Gas)',\n",
       "       'No A/C, No Heat, Panel/Floor/Wall',\n",
       "       'Central A/C (Gas), Central Heat (Gas), Solar',\n",
       "       'Central Air, Gas (Hot Air), Heat Pump for A/C, Heat Pump for Heat, Multi-Zone A/C, Multi-Zone Heat, Natural Gas',\n",
       "       '90%+ High Efficiency, Ductless HP-Mini Split',\n",
       "       'Heat Pump, Wall Heat',\n",
       "       'Central Heat (Gas), Space Heater, Window Unit',\n",
       "       'Additional Water Heater(s), Electrostatic Air Filter, Geotherm, Zoned',\n",
       "       'Gas (Hot Air), Heat Pump for A/C, Heat Pump for Heat',\n",
       "       'Refrigeration, ENERGY STAR Qualified Equipment',\n",
       "       'Panel/Floor/Wall, Window Unit', 'Dual, Wall/Window Unit(s)',\n",
       "       'Central, Other, Wall', 'Central Electric, Other Heating, Propane',\n",
       "       'Air Conditioning-Central, Evaporative Cooler (Swamp)',\n",
       "       'Central Electric, Heat Pump, Reversed Cycle Unit',\n",
       "       'Ceiling Fans, Central Electric, Ridge Vent',\n",
       "       'Air Conditioning, Electric', 'Central, Window',\n",
       "       'Central Gas, Other Cooling, Window Units',\n",
       "       'Central Air, Electric Baseboard Heat, Heat Pump for A/C',\n",
       "       'Air Conditioning-Central, Attic Fan, Ceiling Fan',\n",
       "       'Central Air, Dual, Zoned, Humidity Control, ENERGY STAR Qualified Equipment, SEER Rated 13-15',\n",
       "       'Central Air, Dual',\n",
       "       'Gas (Hot Air), Heat Pump for A/C, Multi-Zone A/C, Multi-Zone Heat',\n",
       "       'Central A/C, Dual',\n",
       "       'Central Air, Gas (Hot Air), Gas (Water Heater), Heat Pump for A/C, Heat Pump for Heat',\n",
       "       'Central Air, Gas (Hot Air), Heat Pump for A/C, Heat Pump for Heat, Multi-Zone A/C, Multi-Zone Heat',\n",
       "       'Central A/C, Electric',\n",
       "       'Central A/C (Electric), Central A/C (Gas), Central Heat (Electric)',\n",
       "       'Central Gas, Heat Pump', 'Evaporative, Solar',\n",
       "       'Attic Fan, Central Electric',\n",
       "       'Baseboard Heat, Wall Insert Heat, Wall Heat',\n",
       "       'Central A/C (Electric), Central Heat (Gas), Propane, Zoned',\n",
       "       'Has Heating',\n",
       "       'Central Air, Electric Hot Air, Gas (Water Heater), Natural Gas',\n",
       "       'Window Unit, Zoned',\n",
       "       'Central A/C (Electric), Central A/C (Gas), Central Heat (Gas)',\n",
       "       'One Central', 'Central, Wall Unit',\n",
       "       'Central Air, Gas (Hot Air), Multi-Zone Heat',\n",
       "       'Central Air, g-Energy Star HVAC, Gas (Hot Air), Multi-Zone A/C, Multi-Zone Heat',\n",
       "       'Central Air, Heat Pump, Electric',\n",
       "       'Central Air, g-Energy Star HVAC, Gas (Hot Air)',\n",
       "       'Heat Pump, Hot Water', 'Other Cooling, Window/Wall Cooling',\n",
       "       '1 (Window/Wall Unit)',\n",
       "       'Central Air, Gas (Hot Air), Heat Pump for A/C',\n",
       "       'Baseboard, Electric, Natural Gas', 'Window AC',\n",
       "       '3+ (Window/Wall Unit)', 'Electric, Heat Pump',\n",
       "       'Radiator Heat, Wall Heat', 'Central Air, Dual, Electric',\n",
       "       'Contact manager', 'Central A/C (Electric), Propane, Solar, Zoned',\n",
       "       'Central Air Conditioning, Forced Air Heating, Wall Heat',\n",
       "       'Has Cooling', 'Boiler, Gas, Hot Water',\n",
       "       'Central A/C (Electric), Zoned',\n",
       "       'Air Conditioning Unit(s), Ceiling Fan(s), Central A/C',\n",
       "       'No Heating', 'Baseboard Heat, Wall Insert Heat',\n",
       "       'Air Conditioning-Room, Attic Fan',\n",
       "       'Refrigeration, Window/Wall Unit',\n",
       "       'Central A/C (Electric), Central Heat (Gas), Panel/Floor/Wall',\n",
       "       'Central, Other, Refrigeration',\n",
       "       'Central Air, Wall/Window Unit(s), Electric, Gas',\n",
       "       'Central Air Conditioning, Heat Pump, 90%+ High Efficiency',\n",
       "       'Electric Heat',\n",
       "       'Additional Water Heater(s), Central A/C (Electric), Other (See Remarks), Zoned',\n",
       "       'Additional Water Heater(s), Central A/C (Electric), Central Heat (Electric), Propane',\n",
       "       'Central Air/Evap',\n",
       "       'Baseboard Heat, Forced Air Heating, Wall Heat',\n",
       "       'Forced Air Heating, Wall Heat, Hot Water Recirc Pump',\n",
       "       'Central Air, Gas (Hot Air), Gas (Water Heater), Woodstove',\n",
       "       'Reversed Cycle Unit',\n",
       "       '2 or More Units, Central, Electric, Whole House Fan',\n",
       "       'Radiant Heat, Free-Standing Stove Heat',\n",
       "       'Central Electric, Exhaust Fan, Ridge Vent', 'Central A/C, Gas',\n",
       "       'Central A/C (Gas), Central Heat (Gas), Electrostatic Air Filter',\n",
       "       'Air Conditioning, Central A/C, Wall Unit(s)',\n",
       "       'Central A/C, Zoned A/C',\n",
       "       'Central Air, Heat Pump for A/C, Multi-Zone A/C',\n",
       "       'Central Air, Heat Pump - AC, Multizone A/C',\n",
       "       'Wall Heat, 90%+ High Efficiency, Ductless HP-Mini Split, Tankless Water Heater',\n",
       "       'Central A/C (Electric), Central Heat (Gas), Geotherm',\n",
       "       'Additional Water Heater(s), Central A/C (Gas), Central Heat (Gas)',\n",
       "       'Ceiling Fan, Wall/Window Unit',\n",
       "       'Ceiling Fans, Central Electric, Heat Pump',\n",
       "       'Baseboard Heat, Radiant Heat', 'Baseboard, Electric',\n",
       "       'Central Air, Wall/Window Unit(s), Electric',\n",
       "       'Heat Pump, Other Cooling',\n",
       "       'Central A/C (Electric), Heat Pump, Zoned',\n",
       "       'Central A/C (Electric), Central Heat (Electric), Panel/Floor/Wall',\n",
       "       'Central Air, ENERGY STAR Qualified Equipment, High Efficiency',\n",
       "       'Wall Heat, 90%+ High Efficiency, Ductless HP-Mini Split',\n",
       "       'Multi-Zone A/C, Multi-Zone Heat, g-Radiant Heated Floors',\n",
       "       'Baseboard Heat, Radiator Heat',\n",
       "       'Ceiling Fans, Central Electric, Humidistat, Zoned',\n",
       "       'Baseboard, Hot Water, Natural Gas', 'High Efficiency',\n",
       "       'Evaporative, Other', 'Central, Electric, Window Unit',\n",
       "       'Additional Water Heater(s), Central A/C (Electric), Central Heat (Gas), Humidifier',\n",
       "       'Baseboard Heat, Ductless HP-Mini Split',\n",
       "       'Air Conditioning, Ceiling Fan(s), Central A/C, Zoned A/C',\n",
       "       'Wall Heat, Ductless HP-Mini Split, Tankless Water Heater',\n",
       "       'Evaporative, None', 'g-Sealed Combustion Fireplace/Woodstove',\n",
       "       'Central Heat (Gas), Other (See Remarks)',\n",
       "       'Heat Pump, Wall Heat, Ductless HP-Mini Split',\n",
       "       'Electric, Forced Air, Natural Gas', 'Ceiling Fans, Exhaust Fan',\n",
       "       'Central Air, Gas (Hot Air), Wall-Unit A/C, Wall-Unit Heat, Window Unit',\n",
       "       'Additional Water Heater(s), Central Heat (Electric)',\n",
       "       'Central Heating, Central Air',\n",
       "       'Central Air, g-Energy Star HVAC, g-Fresh Air Ventilation, Gas (Hot Air), Multi-Zone A/C, Multi-Zone Heat, Natural Gas',\n",
       "       'Central, Wall, Refrigeration', 'Wall, Refrigeration',\n",
       "       'Ceiling Fan(s), Window Unit(s)',\n",
       "       'Air Conditioning, Central A/C, Gas',\n",
       "       'Additional Water Heater(s), Window Unit',\n",
       "       'Central A/C (Electric), Central Heat (Electric), Solar, Zoned',\n",
       "       'Ceiling Fans, Central Electric, Humidistat, Window Unit',\n",
       "       'Refrigeration, Programmable Thmstat, ENERGY STAR Qualified Equipment',\n",
       "       'Room Refrig Air',\n",
       "       'Additional Water Heater(s), Central A/C (Gas), Central Heat (Gas), Zoned',\n",
       "       'Gas (Hot Air), Multi-Zone A/C, Multi-Zone Heat',\n",
       "       'Central Electric, Wall Heater',\n",
       "       'Central A/C (Electric), Central Heat (Electric), Central Heat (Gas), Zoned',\n",
       "       'Central Air, Electric Hot Air, Heat Pump for A/C',\n",
       "       'Ceiling Fan(s), Wall Unit(s)',\n",
       "       'Central Electric, Central Gas, Wall Heater',\n",
       "       'Additional Water Heater(s), Central A/C (Electric), Central Heat (Gas), Space Heater, Window Unit, Zoned',\n",
       "       'Central Air, Gas (Hot Air), Heat Pump for Heat, Natural Gas',\n",
       "       'Wall Heat, Window Unit Air Conditioning',\n",
       "       'Central Air, Gas (Hot Air), Heat Pump for A/C, Multi-Zone A/C, Multi-Zone Heat, Natural Gas',\n",
       "       'High Efficiency, Radiant Heat', 'Other, None',\n",
       "       'Central Air Conditioning, 90%+ High Efficiency',\n",
       "       'Radiant Heating', 'Central Electric, Window Units, Zoned',\n",
       "       'Central Air Conditioning, Forced Air Heating, Ductless HP-Mini Split, Tankless Water Heater',\n",
       "       'Wall Insert Heat', 'See Remarks', '2 Units, Central AC',\n",
       "       'Heat Pump for A/C, Natural Gas', 'Other, Refrigeration',\n",
       "       'Room Air Conditioner', 'Central Air, Dual, Zoned', 'Hot Water',\n",
       "       'Central A/C (Electric), Central Heat (Gas), Space Heater',\n",
       "       'Both Refrig & Evap, Evaporative, Refrigeration, Ceiling Fan(s)',\n",
       "       'Radiant Heat, HRV/ERV System',\n",
       "       'Radiant Heat, Radiator Heat, Hot Water Recirc Pump',\n",
       "       'Central Air, Electric Hot Air, Gas (Hot Air), Heat Pump for A/C, Heat Pump for Heat, Multi-Zone A/C, Multi-Zone Heat, Natural Gas',\n",
       "       '90%+ High Efficiency, Ductless HP-Mini Split, Tankless Water Heater'],\n",
       "      dtype=object)"
      ]
     },
     "execution_count": 622,
     "metadata": {},
     "output_type": "execute_result"
    }
   ],
   "source": [
    "estate_data['cooling'].unique()"
   ]
  },
  {
   "cell_type": "code",
   "execution_count": 623,
   "metadata": {},
   "outputs": [
    {
     "data": {
      "text/plain": [
       "0"
      ]
     },
     "execution_count": 623,
     "metadata": {},
     "output_type": "execute_result"
    }
   ],
   "source": [
    "estate_data['cooling'].isna().sum()"
   ]
  },
  {
   "cell_type": "code",
   "execution_count": 624,
   "metadata": {},
   "outputs": [
    {
     "data": {
      "text/plain": [
       "Central                                                        147986\n",
       "                                                                63459\n",
       "Central Air                                                      6381\n",
       "Central Electric                                                 5433\n",
       "None                                                             5267\n",
       "Central Gas                                                      3429\n",
       "No Data                                                          2791\n",
       "Wall                                                             2143\n",
       "Central A/C (Electric), Central Heat (Gas)                       1336\n",
       "Other                                                            1286\n",
       "Central A/C (Electric), Central Heat (Electric)                  1013\n",
       "Evaporative                                                       841\n",
       "Electric                                                          662\n",
       "Central, Wall                                                     577\n",
       "Solar, Refrigeration                                              404\n",
       "Refrigeration                                                     396\n",
       "Air Conditioning-Central                                          372\n",
       "Central Electric, Zoned                                           365\n",
       "Ceiling Fan, Central Electric                                     360\n",
       "Central, Other                                                    354\n",
       "Central Cooling                                                   332\n",
       "Central A/C                                                       312\n",
       "Heat Pump                                                         303\n",
       "Central, Electric                                                 276\n",
       "Central A/C (Electric), Central Heat (Gas), Zoned                 276\n",
       "Refrigeration, Ceiling Fan(s)                                     261\n",
       "Central Electric, Heat Pump                                       239\n",
       "2 or More Units, Central, Electric                                208\n",
       "Central Air, Gas (Hot Air)                                        188\n",
       "Heat Pump - AC                                                    171\n",
       "Central Electric, Central Gas                                     130\n",
       "Ceiling Fans, Central Electric                                    108\n",
       "Central, Solar                                                     95\n",
       "Central, Solar, Refrigeration                                      93\n",
       "Ceiling Fan, Central Electric, Heat Pump                           85\n",
       "Central Air, Zoned                                                 78\n",
       "Forced Air Heating                                                 76\n",
       "Refrigeration, Ceiling Fan(s), Programmable Thmstat                73\n",
       "Window Units                                                       72\n",
       "Air Conditioning-Central, Ceiling Fan                              66\n",
       "Central, Evaporative                                               64\n",
       "Central Air, Heat Pump - AC                                        63\n",
       "Central A/C (Electric), Central Heat (Electric), Heat Pump         61\n",
       "Central Air, Gas (Hot Air), Multi-Zone A/C, Multi-Zone Heat        59\n",
       "Central Air Conditioning                                           56\n",
       "Baseboard Heat                                                     52\n",
       "Central A/C (Gas), Central Heat (Gas)                              51\n",
       "Window Unit(s)                                                     49\n",
       "Central A/C (Electric), Central Heat (Electric), Zoned             49\n",
       "Wall/Window Unit(s)                                                47\n",
       "Name: cooling, dtype: int64"
      ]
     },
     "execution_count": 624,
     "metadata": {},
     "output_type": "execute_result"
    }
   ],
   "source": [
    "estate_data['cooling'].value_counts()[:50]"
   ]
  },
  {
   "cell_type": "code",
   "execution_count": 625,
   "metadata": {},
   "outputs": [],
   "source": [
    "estate_data['cooling'] = estate_data['cooling'].fillna('no_provided')"
   ]
  },
  {
   "cell_type": "code",
   "execution_count": 626,
   "metadata": {},
   "outputs": [],
   "source": [
    "estate_data['cooling'] = estate_data['cooling'].apply(lambda x: str(x).lower())"
   ]
  },
  {
   "cell_type": "code",
   "execution_count": 627,
   "metadata": {},
   "outputs": [
    {
     "data": {
      "text/plain": [
       "central                                                        147986\n",
       "                                                                63459\n",
       "central air                                                      6381\n",
       "central electric                                                 5433\n",
       "none                                                             5267\n",
       "central gas                                                      3429\n",
       "no data                                                          2791\n",
       "wall                                                             2143\n",
       "central a/c (electric), central heat (gas)                       1336\n",
       "other                                                            1286\n",
       "central a/c (electric), central heat (electric)                  1013\n",
       "evaporative                                                       841\n",
       "electric                                                          662\n",
       "central, wall                                                     577\n",
       "solar, refrigeration                                              404\n",
       "refrigeration                                                     396\n",
       "air conditioning-central                                          372\n",
       "central electric, zoned                                           365\n",
       "ceiling fan, central electric                                     360\n",
       "central, other                                                    354\n",
       "central cooling                                                   332\n",
       "central a/c                                                       312\n",
       "heat pump                                                         303\n",
       "central, electric                                                 276\n",
       "central a/c (electric), central heat (gas), zoned                 276\n",
       "refrigeration, ceiling fan(s)                                     261\n",
       "central electric, heat pump                                       239\n",
       "2 or more units, central, electric                                208\n",
       "central air, gas (hot air)                                        188\n",
       "heat pump - ac                                                    171\n",
       "central electric, central gas                                     130\n",
       "ceiling fans, central electric                                    108\n",
       "central, solar                                                     95\n",
       "central, solar, refrigeration                                      93\n",
       "ceiling fan, central electric, heat pump                           85\n",
       "central air, zoned                                                 78\n",
       "forced air heating                                                 76\n",
       "refrigeration, ceiling fan(s), programmable thmstat                73\n",
       "window units                                                       72\n",
       "air conditioning-central, ceiling fan                              66\n",
       "central, evaporative                                               64\n",
       "central air, heat pump - ac                                        63\n",
       "central a/c (electric), central heat (electric), heat pump         61\n",
       "central air, gas (hot air), multi-zone a/c, multi-zone heat        59\n",
       "central air conditioning                                           56\n",
       "baseboard heat                                                     52\n",
       "central a/c (gas), central heat (gas)                              51\n",
       "window unit(s)                                                     49\n",
       "central a/c (electric), central heat (electric), zoned             49\n",
       "wall/window unit(s)                                                47\n",
       "Name: cooling, dtype: int64"
      ]
     },
     "execution_count": 627,
     "metadata": {},
     "output_type": "execute_result"
    }
   ],
   "source": [
    "estate_data['cooling'].value_counts()[:50]"
   ]
  },
  {
   "cell_type": "code",
   "execution_count": 628,
   "metadata": {},
   "outputs": [],
   "source": [
    "# Данные сложно очистить, поэтому удалим столбец\n",
    "estate_data.drop('cooling', axis=1, inplace=True)"
   ]
  },
  {
   "cell_type": "code",
   "execution_count": 629,
   "metadata": {},
   "outputs": [
    {
     "data": {
      "text/plain": [
       "{'atAGlanceFacts': [{'factValue': '2019', 'factLabel': 'Year built'},\n",
       "  {'factValue': '', 'factLabel': 'Remodeled year'},\n",
       "  {'factValue': '', 'factLabel': 'Heating'},\n",
       "  {'factValue': '', 'factLabel': 'Cooling'},\n",
       "  {'factValue': '', 'factLabel': 'Parking'},\n",
       "  {'factValue': '5828 sqft', 'factLabel': 'lotsize'},\n",
       "  {'factValue': '$159/sqft', 'factLabel': 'Price/sqft'}]}"
      ]
     },
     "execution_count": 629,
     "metadata": {},
     "output_type": "execute_result"
    }
   ],
   "source": [
    "estate_data['homeFacts'][0]"
   ]
  },
  {
   "cell_type": "code",
   "execution_count": 630,
   "metadata": {},
   "outputs": [],
   "source": [
    "# извлечем следующий признак из словаря - 'Parking'\n",
    "estate_data['Parking'] = estate_data['homeFacts'].apply(lambda x: x['atAGlanceFacts'][4]['factValue'])"
   ]
  },
  {
   "cell_type": "code",
   "execution_count": 631,
   "metadata": {},
   "outputs": [
    {
     "data": {
      "text/plain": [
       "0"
      ]
     },
     "execution_count": 631,
     "metadata": {},
     "output_type": "execute_result"
    }
   ],
   "source": [
    "estate_data['Parking'].isna().sum()"
   ]
  },
  {
   "cell_type": "code",
   "execution_count": 632,
   "metadata": {},
   "outputs": [
    {
     "data": {
      "text/plain": [
       "                                             86497\n",
       "Attached Garage                              66719\n",
       "2 spaces                                     22828\n",
       "Detached Garage                              11790\n",
       "1 space                                      11696\n",
       "No Data                                       8744\n",
       "Carport                                       6956\n",
       "3 spaces                                      3861\n",
       "Off Street                                    3066\n",
       "Carport, Attached Garage                      2581\n",
       "4 spaces                                      2489\n",
       "1                                             2331\n",
       "2                                             2277\n",
       "None                                          1997\n",
       "Attached Garage, Detached Garage              1244\n",
       "Off street                                    1222\n",
       "Attached Garage, Carport                       851\n",
       "Parking Desc                                   840\n",
       "On Street                                      822\n",
       "Detached Garage, Attached Garage               697\n",
       "6 spaces                                       637\n",
       "5 spaces                                       554\n",
       "4                                              507\n",
       "Off street parking                             425\n",
       "Off Street, Attached Garage                    410\n",
       "Carport, Detached Garage                       360\n",
       "3                                              341\n",
       "On street                                      341\n",
       "Parking Type                                   318\n",
       "Driveway                                       255\n",
       "Attached Garage, Off Street                    219\n",
       "Detached Garage, Carport                       200\n",
       "Parking YN                                     194\n",
       "Off Street, On Street                          172\n",
       "0                                              171\n",
       "8 spaces                                       167\n",
       "6                                              165\n",
       "Off Street, Detached Garage                    163\n",
       "7 spaces                                       129\n",
       "Garage Door Opener                             128\n",
       "On Street, Off Street                          127\n",
       "Driveway, Garage Door Opener                   122\n",
       "Off Street, Carport                            115\n",
       "Off street, On street                          114\n",
       "5                                              112\n",
       "Carport, Attached Garage, Detached Garage      103\n",
       "Electric Door Opener                           100\n",
       "On Street, Attached Garage                      95\n",
       "Garage Lot                                      95\n",
       "Garage-Attached                                 87\n",
       "Name: Parking, dtype: int64"
      ]
     },
     "execution_count": 632,
     "metadata": {},
     "output_type": "execute_result"
    }
   ],
   "source": [
    "estate_data['Parking'].value_counts()[:50]"
   ]
  },
  {
   "cell_type": "code",
   "execution_count": 633,
   "metadata": {},
   "outputs": [],
   "source": [
    "# Приведем все значения к нижнему регистру\n",
    "estate_data['Parking'] = estate_data['Parking'].apply(lambda x: str(x).lower())"
   ]
  },
  {
   "cell_type": "code",
   "execution_count": 634,
   "metadata": {},
   "outputs": [
    {
     "data": {
      "text/plain": [
       "                                             86497\n",
       "attached garage                              66719\n",
       "2 spaces                                     22828\n",
       "detached garage                              11790\n",
       "1 space                                      11696\n",
       "no data                                       8744\n",
       "carport                                       6956\n",
       "off street                                    4288\n",
       "3 spaces                                      3861\n",
       "carport, attached garage                      2581\n",
       "4 spaces                                      2489\n",
       "1                                             2331\n",
       "2                                             2277\n",
       "none                                          1997\n",
       "attached garage, detached garage              1244\n",
       "on street                                     1163\n",
       "attached garage, carport                       851\n",
       "parking desc                                   840\n",
       "detached garage, attached garage               697\n",
       "6 spaces                                       637\n",
       "5 spaces                                       554\n",
       "4                                              507\n",
       "off street, attached garage                    484\n",
       "off street parking                             460\n",
       "carport, detached garage                       360\n",
       "3                                              341\n",
       "parking type                                   318\n",
       "off street, on street                          286\n",
       "driveway                                       255\n",
       "attached garage, off street                    219\n",
       "detached garage, carport                       200\n",
       "parking yn                                     194\n",
       "off street, detached garage                    193\n",
       "0                                              171\n",
       "8 spaces                                       167\n",
       "6                                              165\n",
       "7 spaces                                       129\n",
       "garage door opener                             128\n",
       "on street, off street                          127\n",
       "driveway, garage door opener                   122\n",
       "off street, carport                            115\n",
       "on street, attached garage                     113\n",
       "5                                              112\n",
       "carport, attached garage, detached garage      103\n",
       "electric door opener                           100\n",
       "garage lot                                      95\n",
       "carport, off street                             92\n",
       "garage-attached                                 87\n",
       "attached garage, garage - 2 car                 85\n",
       "slab parking spaces                             73\n",
       "Name: Parking, dtype: int64"
      ]
     },
     "execution_count": 634,
     "metadata": {},
     "output_type": "execute_result"
    }
   ],
   "source": [
    "estate_data['Parking'].value_counts()[:50]"
   ]
  },
  {
   "cell_type": "code",
   "execution_count": 635,
   "metadata": {},
   "outputs": [
    {
     "data": {
      "text/plain": [
       "1450"
      ]
     },
     "execution_count": 635,
     "metadata": {},
     "output_type": "execute_result"
    }
   ],
   "source": [
    "estate_data['Parking'].nunique()"
   ]
  },
  {
   "cell_type": "code",
   "execution_count": 636,
   "metadata": {},
   "outputs": [
    {
     "data": {
      "text/plain": [
       "array(['', 'attached garage', 'detached garage', ...,\n",
       "       \"attch'd gar cabinets, electric door opener, extnded lngth garage, separate strge area, rv gate, temp controlled, dir entry frm garage, carport spaces\",\n",
       "       'deed restrictions, fitness, gated community, golf carts ok, no truck/rv/motorcycle parking, pool, special community restrictions',\n",
       "       'driveway, under building'], dtype=object)"
      ]
     },
     "execution_count": 636,
     "metadata": {},
     "output_type": "execute_result"
    }
   ],
   "source": [
    "estate_data['Parking'].unique()"
   ]
  },
  {
   "cell_type": "code",
   "execution_count": 637,
   "metadata": {},
   "outputs": [
    {
     "data": {
      "text/plain": [
       "0                        \n",
       "1         attached garage\n",
       "2         detached garage\n",
       "3                        \n",
       "4                        \n",
       "               ...       \n",
       "251142            1 space\n",
       "251143            1 space\n",
       "251144           2 spaces\n",
       "251145                  2\n",
       "251146            no data\n",
       "Name: Parking, Length: 251147, dtype: object"
      ]
     },
     "execution_count": 637,
     "metadata": {},
     "output_type": "execute_result"
    }
   ],
   "source": [
    "# заполним нулевые значения на 'no_provided'\n",
    "estate_data['Parking'].fillna('no_provided')"
   ]
  },
  {
   "cell_type": "code",
   "execution_count": 638,
   "metadata": {},
   "outputs": [],
   "source": [
    "# Заменим значения ' ', 'no data', и 'none' на 'no_info', значения 'drvwy' и 'driveway paved' на 'driveway',\n",
    "# значение '1' на '1_space', значение '2' на '2_spaces', значения 'carport', 'off street', 'off street parking', \n",
    "# 'on street', 'driveway' на 'other'.\n",
    "\n",
    "estate_data['Parking'] = estate_data['Parking'].apply(lambda x: 'no_provided' if (x == '') | (x == 'no_provided') | (x == 'none') else x)\n",
    "estate_data['Parking'] = estate_data['Parking'].apply(lambda x: '1_space' if (x == '1') else x)\n",
    "estate_data['Parking'] = estate_data['Parking'].apply(lambda x: '2_space' if (x == '2') else x)\n",
    "estate_data['Parking'] = estate_data['Parking'].apply(lambda x: 'other' if (x == 'carport') | (x == 'off street') | (x == 'off street parking') | \n",
    "                                    (x == 'on street') | (x == 'driveway') | (x == 'drvwy') | (x == 'driveway paved') else x)"
   ]
  },
  {
   "cell_type": "code",
   "execution_count": 639,
   "metadata": {},
   "outputs": [],
   "source": [
    "# Создадим столбец с числом парковочных мест. Заменим значения, где количество парковочных мест больше двух\n",
    "# на 'more_than_2_spaces'\n",
    "\n",
    "pattern = re.compile('\\d+')"
   ]
  },
  {
   "cell_type": "code",
   "execution_count": 640,
   "metadata": {},
   "outputs": [],
   "source": [
    "estate_data['n_spaces'] = estate_data['Parking'].apply(lambda x: int(pattern.findall(x)[0]) if len(pattern.findall(x)) > 0 else 0)"
   ]
  },
  {
   "cell_type": "code",
   "execution_count": 641,
   "metadata": {},
   "outputs": [
    {
     "name": "stderr",
     "output_type": "stream",
     "text": [
      "C:\\Users\\User\\anaconda3\\lib\\site-packages\\pandas\\core\\indexing.py:671: SettingWithCopyWarning: \n",
      "A value is trying to be set on a copy of a slice from a DataFrame\n",
      "\n",
      "See the caveats in the documentation: https://pandas.pydata.org/pandas-docs/stable/user_guide/indexing.html#returning-a-view-versus-a-copy\n",
      "  self._setitem_with_indexer(indexer, value)\n"
     ]
    }
   ],
   "source": [
    "for i in estate_data.index:\n",
    "    if estate_data['n_spaces'].loc[i] > 2:\n",
    "        estate_data['Parking'].loc[i] = 'more_than_2_spaces'\n",
    "    else:\n",
    "        continue"
   ]
  },
  {
   "cell_type": "code",
   "execution_count": 642,
   "metadata": {},
   "outputs": [],
   "source": [
    "estate_data.drop('n_spaces', axis = 1, inplace = True)"
   ]
  },
  {
   "cell_type": "code",
   "execution_count": 643,
   "metadata": {},
   "outputs": [
    {
     "data": {
      "text/plain": [
       "no_provided                                                        88494\n",
       "attached garage                                                    66719\n",
       "2 spaces                                                           22828\n",
       "other                                                              13158\n",
       "detached garage                                                    11790\n",
       "1 space                                                            11696\n",
       "more_than_2_spaces                                                  9652\n",
       "no data                                                             8744\n",
       "carport, attached garage                                            2581\n",
       "1_space                                                             2331\n",
       "2_space                                                             2277\n",
       "attached garage, detached garage                                    1244\n",
       "attached garage, carport                                             851\n",
       "parking desc                                                         840\n",
       "detached garage, attached garage                                     697\n",
       "off street, attached garage                                          484\n",
       "carport, detached garage                                             360\n",
       "parking type                                                         318\n",
       "off street, on street                                                286\n",
       "attached garage, off street                                          219\n",
       "detached garage, carport                                             200\n",
       "parking yn                                                           194\n",
       "off street, detached garage                                          193\n",
       "0                                                                    171\n",
       "garage door opener                                                   128\n",
       "on street, off street                                                127\n",
       "driveway, garage door opener                                         122\n",
       "off street, carport                                                  115\n",
       "on street, attached garage                                           113\n",
       "carport, attached garage, detached garage                            103\n",
       "electric door opener                                                 100\n",
       "garage lot                                                            95\n",
       "carport, off street                                                   92\n",
       "garage-attached                                                       87\n",
       "attached garage, garage - 2 car                                       85\n",
       "slab parking spaces                                                   73\n",
       "garage - 2 car                                                        61\n",
       "electric door opener, slab parking spaces                             58\n",
       "off street, on street, attached garage                                56\n",
       "on street, attached garage, off street                                46\n",
       "parking under building                                                41\n",
       "parkingtype                                                           41\n",
       "electric door opener, dir entry frm garage, slab parking spaces       41\n",
       "detached parking                                                      40\n",
       "2 car garage                                                          40\n",
       "open                                                                  39\n",
       "electric door opener, dir entry frm garage                            38\n",
       "attached garage, on street                                            37\n",
       "carport spaces                                                        37\n",
       "detached garage, off street                                           32\n",
       "Name: Parking, dtype: int64"
      ]
     },
     "execution_count": 643,
     "metadata": {},
     "output_type": "execute_result"
    }
   ],
   "source": [
    "estate_data.Parking.value_counts()[:50]"
   ]
  },
  {
   "cell_type": "code",
   "execution_count": null,
   "metadata": {},
   "outputs": [],
   "source": []
  },
  {
   "cell_type": "code",
   "execution_count": 644,
   "metadata": {},
   "outputs": [
    {
     "data": {
      "text/plain": [
       "8"
      ]
     },
     "execution_count": 644,
     "metadata": {},
     "output_type": "execute_result"
    }
   ],
   "source": [
    "# Определим самые популярные значения в столбце, которые занимают 90%\n",
    "freqs_parkingTypes = list(estate_data['Parking'].value_counts())\n",
    "top_parkingTypes_count = int(np.percentile(freqs_parkingTypes, 90))\n",
    "top_parkingTypes_count"
   ]
  },
  {
   "cell_type": "code",
   "execution_count": 645,
   "metadata": {},
   "outputs": [],
   "source": [
    "all_parking = set(estate_data['Parking'].value_counts().index)\n",
    "main_parkingTypes = set(estate_data['Parking'].value_counts().index[:7])\n",
    "parkingTypes_to_drop = list(all_parking - main_parkingTypes)\n",
    "estate_data.drop(estate_data.loc[estate_data['Parking'].isin(parkingTypes_to_drop), 'Parking'].index, inplace = True)\n",
    "\n",
    "estate_data.reset_index(inplace = True, drop = True)"
   ]
  },
  {
   "cell_type": "code",
   "execution_count": 646,
   "metadata": {},
   "outputs": [],
   "source": [
    "# Следующий признак в homeFacts отвечает за размер участка (lotsize)\n",
    "\n",
    "estate_data['lotsize'] = estate_data['homeFacts'].apply(lambda x: x['atAGlanceFacts'][5]['factValue'])"
   ]
  },
  {
   "cell_type": "code",
   "execution_count": 647,
   "metadata": {},
   "outputs": [
    {
     "data": {
      "text/plain": [
       "25190"
      ]
     },
     "execution_count": 647,
     "metadata": {},
     "output_type": "execute_result"
    }
   ],
   "source": [
    "estate_data.lotsize.nunique()"
   ]
  },
  {
   "cell_type": "code",
   "execution_count": 648,
   "metadata": {},
   "outputs": [
    {
     "data": {
      "text/plain": [
       "12969"
      ]
     },
     "execution_count": 648,
     "metadata": {},
     "output_type": "execute_result"
    }
   ],
   "source": [
    "estate_data.lotsize.isna().sum()"
   ]
  },
  {
   "cell_type": "code",
   "execution_count": 649,
   "metadata": {},
   "outputs": [
    {
     "data": {
      "text/plain": [
       "               26548\n",
       "—               4852\n",
       "-- sqft lot     3583\n",
       "0.26 acres      1846\n",
       "No Data         1712\n",
       "0.28 acres      1561\n",
       "0.25 acres      1517\n",
       "0.27 acres      1488\n",
       "0.29 acres      1386\n",
       "0.34 acres      1186\n",
       "0.3 acres       1170\n",
       "6,098 sqft      1138\n",
       "10,000 sqft     1074\n",
       "4,356 sqft      1024\n",
       "7,405 sqft       984\n",
       "6,534 sqft       984\n",
       "0.31 acres       978\n",
       "0.32 acres       945\n",
       "5,227 sqft       910\n",
       "5,000 sqft       842\n",
       "0.33 acres       824\n",
       "0.35 acres       815\n",
       "8,712 sqft       785\n",
       "3,920 sqft       745\n",
       "8,276 sqft       744\n",
       "0.36 acres       722\n",
       "0.37 acres       683\n",
       "0.46 acres       668\n",
       "10000            649\n",
       "4,792 sqft       632\n",
       "0.38 acres       606\n",
       "0.4 acres        593\n",
       "1 acre           584\n",
       "0.39 acres       574\n",
       "10,019 sqft      562\n",
       "9,583 sqft       558\n",
       "10,454 sqft      537\n",
       "0.41 acres       528\n",
       "2,500 sqft       504\n",
       "3,049 sqft       497\n",
       "6,970 sqft       491\n",
       "4,791 sqft       487\n",
       "0.5 acres        485\n",
       "7,500 sqft       482\n",
       "7,840 sqft       480\n",
       "2,000 sqft       473\n",
       "0.44 acres       457\n",
       "6,969 sqft       451\n",
       "6,000 sqft       444\n",
       "0.43 acres       444\n",
       "Name: lotsize, dtype: int64"
      ]
     },
     "execution_count": 649,
     "metadata": {},
     "output_type": "execute_result"
    }
   ],
   "source": [
    "estate_data.lotsize.value_counts()[:50]"
   ]
  },
  {
   "cell_type": "code",
   "execution_count": 650,
   "metadata": {},
   "outputs": [],
   "source": [
    "pattern = re.compile('\\d+[.]?[,]?\\d+')"
   ]
  },
  {
   "cell_type": "code",
   "execution_count": 651,
   "metadata": {},
   "outputs": [],
   "source": [
    "#Отфильтруем все значения, которые считаются пропусками.\n",
    "sub_df = estate_data[(estate_data.lotsize != '') & (estate_data.lotsize != '—') & (estate_data.lotsize != 'No Data') & (estate_data.lotsize != '-- sqft lot') & \\\n",
    "            (pd.isna(estate_data.lotsize) != True)]\n"
   ]
  },
  {
   "cell_type": "code",
   "execution_count": 652,
   "metadata": {},
   "outputs": [
    {
     "name": "stderr",
     "output_type": "stream",
     "text": [
      "<ipython-input-652-ebed26add07a>:5: SettingWithCopyWarning: \n",
      "A value is trying to be set on a copy of a slice from a DataFrame\n",
      "\n",
      "See the caveats in the documentation: https://pandas.pydata.org/pandas-docs/stable/user_guide/indexing.html#returning-a-view-versus-a-copy\n",
      "  sub_df['lotsize'].loc[i] = pattern.findall(sub_df.lotsize.loc[i])[0]\n",
      "C:\\Users\\User\\anaconda3\\lib\\site-packages\\pandas\\core\\frame.py:3990: SettingWithCopyWarning: \n",
      "A value is trying to be set on a copy of a slice from a DataFrame\n",
      "\n",
      "See the caveats in the documentation: https://pandas.pydata.org/pandas-docs/stable/user_guide/indexing.html#returning-a-view-versus-a-copy\n",
      "  return super().drop(\n"
     ]
    }
   ],
   "source": [
    "# Выделим числовое значение\n",
    "\n",
    "for i in sub_df.index:\n",
    "    if len(pattern.findall(sub_df.lotsize.loc[i])) != 0:\n",
    "        sub_df['lotsize'].loc[i] = pattern.findall(sub_df.lotsize.loc[i])[0]\n",
    "    else:\n",
    "        sub_df.drop(i, axis = 0, inplace = True)"
   ]
  },
  {
   "cell_type": "code",
   "execution_count": 653,
   "metadata": {},
   "outputs": [
    {
     "name": "stderr",
     "output_type": "stream",
     "text": [
      "<ipython-input-653-b81853f7be1b>:3: SettingWithCopyWarning: \n",
      "A value is trying to be set on a copy of a slice from a DataFrame.\n",
      "Try using .loc[row_indexer,col_indexer] = value instead\n",
      "\n",
      "See the caveats in the documentation: https://pandas.pydata.org/pandas-docs/stable/user_guide/indexing.html#returning-a-view-versus-a-copy\n",
      "  sub_df['lotsize'] = sub_df['lotsize'].apply(lambda x: x.replace(',', ''))\n"
     ]
    }
   ],
   "source": [
    "# Убирем запятые\n",
    "\n",
    "sub_df['lotsize'] = sub_df['lotsize'].apply(lambda x: x.replace(',', ''))"
   ]
  },
  {
   "cell_type": "code",
   "execution_count": 654,
   "metadata": {},
   "outputs": [
    {
     "name": "stderr",
     "output_type": "stream",
     "text": [
      "<ipython-input-654-e004faec48da>:3: SettingWithCopyWarning: \n",
      "A value is trying to be set on a copy of a slice from a DataFrame.\n",
      "Try using .loc[row_indexer,col_indexer] = value instead\n",
      "\n",
      "See the caveats in the documentation: https://pandas.pydata.org/pandas-docs/stable/user_guide/indexing.html#returning-a-view-versus-a-copy\n",
      "  sub_df['lotsize'] = sub_df['lotsize'].apply(lambda x: float(x))\n"
     ]
    }
   ],
   "source": [
    "# Переведем в числовой формат\n",
    "\n",
    "sub_df['lotsize'] = sub_df['lotsize'].apply(lambda x: float(x))"
   ]
  },
  {
   "cell_type": "code",
   "execution_count": 655,
   "metadata": {},
   "outputs": [
    {
     "name": "stderr",
     "output_type": "stream",
     "text": [
      "<ipython-input-655-73c3d49a7acf>:2: SettingWithCopyWarning: \n",
      "A value is trying to be set on a copy of a slice from a DataFrame.\n",
      "Try using .loc[row_indexer,col_indexer] = value instead\n",
      "\n",
      "See the caveats in the documentation: https://pandas.pydata.org/pandas-docs/stable/user_guide/indexing.html#returning-a-view-versus-a-copy\n",
      "  sub_df['lotsize'] = sub_df['lotsize'].apply(lambda x: round(x/10.764) if x > 1 else round(x*4047))\n"
     ]
    }
   ],
   "source": [
    "# Приводим всё к размерности [кв.м.]\n",
    "sub_df['lotsize'] = sub_df['lotsize'].apply(lambda x: round(x/10.764) if x > 1 else round(x*4047))"
   ]
  },
  {
   "cell_type": "code",
   "execution_count": 656,
   "metadata": {},
   "outputs": [
    {
     "data": {
      "text/plain": [
       "7180"
      ]
     },
     "execution_count": 656,
     "metadata": {},
     "output_type": "execute_result"
    }
   ],
   "source": [
    "round(sub_df['lotsize'].median()*10.764)"
   ]
  },
  {
   "cell_type": "code",
   "execution_count": 657,
   "metadata": {},
   "outputs": [],
   "source": [
    "estate_data['lotsize'] = estate_data['lotsize'].apply(lambda x: '7104' if (x=='') | (x=='—') | (x=='No Data') | (x=='-- sqft lot') | \\\n",
    "                                    (pd.isna(x) == True) else x)"
   ]
  },
  {
   "cell_type": "code",
   "execution_count": 658,
   "metadata": {},
   "outputs": [],
   "source": [
    "# Для получения размерности m^2, снова проделаем данную операцию \n",
    "\n",
    "pattern = re.compile('\\d+[.]?[,]?\\d+')\n",
    "\n",
    "estate_data['lotsize'] = estate_data['lotsize'].apply(lambda x: '7406' if len(pattern.findall(x)) == 0 else pattern.findall(x)[0])\n",
    "\n",
    "estate_data['lotsize'] = estate_data['lotsize'].apply(lambda x: x.replace(',', ''))\n",
    "\n",
    "estate_data['lotsize'] = estate_data['lotsize'].apply(lambda x: float(x))\n",
    "\n",
    "estate_data['lotsize'] = estate_data['lotsize'].apply(lambda x: round(x/10.764) if x > 1 else round(x*4047))"
   ]
  },
  {
   "cell_type": "code",
   "execution_count": 659,
   "metadata": {},
   "outputs": [
    {
     "data": {
      "text/plain": [
       "<matplotlib.axes._subplots.AxesSubplot at 0x22704a011c0>"
      ]
     },
     "execution_count": 659,
     "metadata": {},
     "output_type": "execute_result"
    },
    {
     "data": {
      "image/png": "[encoded data removed]",
      "text/plain": [
       "<Figure size 864x504 with 1 Axes>"
      ]
     },
     "metadata": {
      "needs_background": "light"
     },
     "output_type": "display_data"
    }
   ],
   "source": [
    "# Построим гистограмму распределения признака:\n",
    "plt.figure(figsize=(12, 7))\n",
    "estate_data['lotsize'].hist()"
   ]
  },
  {
   "cell_type": "code",
   "execution_count": 660,
   "metadata": {},
   "outputs": [
    {
     "data": {
      "text/plain": [
       "175755        1505\n",
       "84307         1505\n",
       "42133         1505\n",
       "44365         1507\n",
       "191036        1507\n",
       "            ...   \n",
       "37486      4135853\n",
       "64828      4297726\n",
       "48239      5544147\n",
       "213882     8101739\n",
       "181634    26441940\n",
       "Name: lotsize, Length: 20960, dtype: int64"
      ]
     },
     "execution_count": 660,
     "metadata": {},
     "output_type": "execute_result"
    }
   ],
   "source": [
    "# Отфильтруем выбросы.\n",
    "\n",
    "estate_data.lotsize.loc[outliers_iqr(estate_data.lotsize)].sort_values()"
   ]
  },
  {
   "cell_type": "code",
   "execution_count": 661,
   "metadata": {},
   "outputs": [],
   "source": [
    "# удалим выбросы\n",
    "\n",
    "estate_data.drop(outliers_iqr(estate_data.lotsize), inplace = True)\n",
    "estate_data.reset_index(inplace = True, drop = True)"
   ]
  },
  {
   "cell_type": "code",
   "execution_count": 662,
   "metadata": {},
   "outputs": [
    {
     "data": {
      "image/png": "[encoded data removed]",
      "text/plain": [
       "<Figure size 864x504 with 1 Axes>"
      ]
     },
     "metadata": {
      "needs_background": "light"
     },
     "output_type": "display_data"
    }
   ],
   "source": [
    "# Построим гистограмму распределения признака:\n",
    "\n",
    "plt.figure(figsize = (12,7))\n",
    "estate_data.lotsize.hist(bins=20);"
   ]
  },
  {
   "cell_type": "code",
   "execution_count": null,
   "metadata": {},
   "outputs": [],
   "source": []
  },
  {
   "cell_type": "code",
   "execution_count": 663,
   "metadata": {},
   "outputs": [],
   "source": [
    "# Извлечем следующий признак 'price/sqft'\n",
    "estate_data['price/sqft'] = estate_data['homeFacts'].apply(lambda x: x['atAGlanceFacts'][6]['factValue'])"
   ]
  },
  {
   "cell_type": "code",
   "execution_count": 664,
   "metadata": {},
   "outputs": [
    {
     "data": {
      "text/plain": [
       "5253"
      ]
     },
     "execution_count": 664,
     "metadata": {},
     "output_type": "execute_result"
    }
   ],
   "source": [
    "estate_data['price/sqft'].nunique()"
   ]
  },
  {
   "cell_type": "code",
   "execution_count": 665,
   "metadata": {},
   "outputs": [
    {
     "data": {
      "text/plain": [
       "8194"
      ]
     },
     "execution_count": 665,
     "metadata": {},
     "output_type": "execute_result"
    }
   ],
   "source": [
    "estate_data['price/sqft'].isna().sum()"
   ]
  },
  {
   "cell_type": "code",
   "execution_count": 666,
   "metadata": {},
   "outputs": [
    {
     "data": {
      "text/plain": [
       "             2174\n",
       "$115/sqft     670\n",
       "$125/sqft     666\n",
       "$1/sqft       649\n",
       "$132/sqft     648\n",
       "$119/sqft     635\n",
       "$122/sqft     633\n",
       "$121/sqft     628\n",
       "$128/sqft     628\n",
       "$139/sqft     627\n",
       "$117/sqft     625\n",
       "$120/sqft     624\n",
       "$130/sqft     620\n",
       "$136/sqft     614\n",
       "$127/sqft     610\n",
       "$140/sqft     609\n",
       "$124/sqft     605\n",
       "$134/sqft     605\n",
       "$123/sqft     603\n",
       "$116/sqft     602\n",
       "$133/sqft     600\n",
       "$135/sqft     600\n",
       "$118/sqft     599\n",
       "$131/sqft     597\n",
       "$114/sqft     594\n",
       "$113/sqft     592\n",
       "$141/sqft     592\n",
       "$129/sqft     588\n",
       "$138/sqft     586\n",
       "$126/sqft     585\n",
       "$110/sqft     582\n",
       "$143/sqft     581\n",
       "$111/sqft     576\n",
       "$146/sqft     571\n",
       "$137/sqft     562\n",
       "$148/sqft     562\n",
       "$145/sqft     560\n",
       "$100/sqft     556\n",
       "$108/sqft     550\n",
       "$150/sqft     548\n",
       "$142/sqft     541\n",
       "$109/sqft     541\n",
       "$147/sqft     540\n",
       "$112/sqft     530\n",
       "$149/sqft     528\n",
       "$107/sqft     526\n",
       "$144/sqft     523\n",
       "$152/sqft     522\n",
       "$105/sqft     522\n",
       "$103/sqft     510\n",
       "Name: price/sqft, dtype: int64"
      ]
     },
     "execution_count": 666,
     "metadata": {},
     "output_type": "execute_result"
    }
   ],
   "source": [
    "estate_data['price/sqft'].value_counts()[:50]"
   ]
  },
  {
   "cell_type": "code",
   "execution_count": 667,
   "metadata": {},
   "outputs": [],
   "source": [
    "pattern = re.compile('\\d+[.]?[,]?\\d+')"
   ]
  },
  {
   "cell_type": "code",
   "execution_count": 668,
   "metadata": {},
   "outputs": [],
   "source": [
    "# Отфильтруем все значения, которые считаются пропусками \n",
    "sub_df = estate_data[(estate_data['price/sqft'] != '') & (estate_data['price/sqft'] != 'No Data') & (estate_data['price/sqft'] != 'No Info') & \\\n",
    "            (pd.isna(estate_data['price/sqft']) != True)]"
   ]
  },
  {
   "cell_type": "code",
   "execution_count": 669,
   "metadata": {},
   "outputs": [
    {
     "name": "stderr",
     "output_type": "stream",
     "text": [
      "<ipython-input-669-0033a34cee03>:4: SettingWithCopyWarning: \n",
      "A value is trying to be set on a copy of a slice from a DataFrame\n",
      "\n",
      "See the caveats in the documentation: https://pandas.pydata.org/pandas-docs/stable/user_guide/indexing.html#returning-a-view-versus-a-copy\n",
      "  sub_df['price/sqft'].loc[i] = pattern.findall(sub_df['price/sqft'].loc[i])[0]\n"
     ]
    }
   ],
   "source": [
    "# выделим числовые значения\n",
    "for i in sub_df.index:\n",
    "    if len(pattern.findall(sub_df['price/sqft'].loc[i])) != 0:\n",
    "        sub_df['price/sqft'].loc[i] = pattern.findall(sub_df['price/sqft'].loc[i])[0]\n",
    "    else:\n",
    "        sub_df.drop(i, axis = 0, inplace = True)"
   ]
  },
  {
   "cell_type": "code",
   "execution_count": 670,
   "metadata": {},
   "outputs": [
    {
     "name": "stderr",
     "output_type": "stream",
     "text": [
      "<ipython-input-670-e45264d10320>:3: SettingWithCopyWarning: \n",
      "A value is trying to be set on a copy of a slice from a DataFrame.\n",
      "Try using .loc[row_indexer,col_indexer] = value instead\n",
      "\n",
      "See the caveats in the documentation: https://pandas.pydata.org/pandas-docs/stable/user_guide/indexing.html#returning-a-view-versus-a-copy\n",
      "  sub_df['price/sqft'] = sub_df['price/sqft'].apply(lambda x: x.replace(',', ''))\n"
     ]
    }
   ],
   "source": [
    "# Убираем запятые\n",
    "\n",
    "sub_df['price/sqft'] = sub_df['price/sqft'].apply(lambda x: x.replace(',', ''))"
   ]
  },
  {
   "cell_type": "code",
   "execution_count": 671,
   "metadata": {},
   "outputs": [
    {
     "name": "stderr",
     "output_type": "stream",
     "text": [
      "<ipython-input-671-1bc80ae535f1>:3: SettingWithCopyWarning: \n",
      "A value is trying to be set on a copy of a slice from a DataFrame.\n",
      "Try using .loc[row_indexer,col_indexer] = value instead\n",
      "\n",
      "See the caveats in the documentation: https://pandas.pydata.org/pandas-docs/stable/user_guide/indexing.html#returning-a-view-versus-a-copy\n",
      "  sub_df['price/sqft'] = sub_df['price/sqft'].apply(lambda x: int(x))\n"
     ]
    }
   ],
   "source": [
    "# Переводим в числовой формат\n",
    "\n",
    "sub_df['price/sqft'] = sub_df['price/sqft'].apply(lambda x: int(x))"
   ]
  },
  {
   "cell_type": "code",
   "execution_count": 672,
   "metadata": {},
   "outputs": [
    {
     "data": {
      "text/plain": [
       "172"
      ]
     },
     "execution_count": 672,
     "metadata": {},
     "output_type": "execute_result"
    }
   ],
   "source": [
    "# Считаем среднее арифметическое\n",
    "round(sub_df['price/sqft'].median())"
   ]
  },
  {
   "cell_type": "code",
   "execution_count": 673,
   "metadata": {},
   "outputs": [],
   "source": [
    "# Заменим '', 'No Data', 'No Info' на среднее значение\n",
    "\n",
    "estate_data['price/sqft'] = estate_data['price/sqft'].apply(lambda x: '172' if (x == '') | (x == 'No Data') | (x == 'No Info') | \\\n",
    "                                          (pd.isna(x) == True) else x)"
   ]
  },
  {
   "cell_type": "code",
   "execution_count": 674,
   "metadata": {},
   "outputs": [],
   "source": [
    "#  Чтобы получить числовой формат 'price/sqm' снова проделаем данную операцию. \n",
    "pattern = re.compile('\\d+[.]?[,]?\\d+')"
   ]
  },
  {
   "cell_type": "code",
   "execution_count": 675,
   "metadata": {},
   "outputs": [],
   "source": [
    "# Выделим цифровые значения\n",
    "estate_data['price/sqft'] = estate_data['price/sqft'].apply(lambda x: '177' if len(pattern.findall(x)) == 0 else pattern.findall(x)[0])"
   ]
  },
  {
   "cell_type": "code",
   "execution_count": 676,
   "metadata": {},
   "outputs": [],
   "source": [
    "# Убираем запятые\n",
    "estate_data['price/sqft'] = estate_data['price/sqft'].apply(lambda x: x.replace(',', ''))"
   ]
  },
  {
   "cell_type": "code",
   "execution_count": 677,
   "metadata": {},
   "outputs": [],
   "source": [
    "# Переводим в числовой формат\n",
    "estate_data['price/sqft'] = estate_data['price/sqft'].apply(lambda x: int(x))"
   ]
  },
  {
   "cell_type": "code",
   "execution_count": 678,
   "metadata": {},
   "outputs": [],
   "source": [
    "# Переводим цены за кв. фут в цены за кв. м.\n",
    "estate_data['price/sqm'] = estate_data['price/sqft'].apply(lambda x: round(x*10.764))"
   ]
  },
  {
   "cell_type": "code",
   "execution_count": 679,
   "metadata": {},
   "outputs": [],
   "source": [
    "#estate_data['price/sqm'] = estate_data['price/sqft'].apply(lambda x: round(x*10.764))"
   ]
  },
  {
   "cell_type": "code",
   "execution_count": 680,
   "metadata": {},
   "outputs": [],
   "source": [
    "# Удаляем столбец 'price/sqft'\n",
    "estate_data.drop('price/sqft', axis = 1, inplace = True)"
   ]
  },
  {
   "cell_type": "code",
   "execution_count": 681,
   "metadata": {},
   "outputs": [
    {
     "data": {
      "image/png": "[encoded data removed]",
      "text/plain": [
       "<Figure size 864x504 with 1 Axes>"
      ]
     },
     "metadata": {
      "needs_background": "light"
     },
     "output_type": "display_data"
    }
   ],
   "source": [
    "# Построим гистограмму\n",
    "\n",
    "plt.figure(figsize = (12,7))\n",
    "estate_data['price/sqm'].hist();"
   ]
  },
  {
   "cell_type": "code",
   "execution_count": 682,
   "metadata": {},
   "outputs": [
    {
     "data": {
      "text/plain": [
       "36267         5264\n",
       "165885        5264\n",
       "137119        5264\n",
       "21995         5264\n",
       "5796          5264\n",
       "            ...   \n",
       "105273     9461556\n",
       "158040     9569196\n",
       "130421     9686524\n",
       "33798     10225800\n",
       "174113    53820000\n",
       "Name: price/sqm, Length: 20164, dtype: int64"
      ]
     },
     "execution_count": 682,
     "metadata": {},
     "output_type": "execute_result"
    }
   ],
   "source": [
    "# Отфильтруем выбросы\n",
    "\n",
    "estate_data['price/sqm'].loc[outliers_iqr(estate_data['price/sqm'])].sort_values()"
   ]
  },
  {
   "cell_type": "code",
   "execution_count": 683,
   "metadata": {},
   "outputs": [],
   "source": [
    "estate_data.drop(outliers_iqr(estate_data['price/sqm']), inplace = True)\n",
    "estate_data.reset_index(inplace = True, drop = True)"
   ]
  },
  {
   "cell_type": "code",
   "execution_count": null,
   "metadata": {},
   "outputs": [],
   "source": []
  },
  {
   "cell_type": "code",
   "execution_count": 684,
   "metadata": {},
   "outputs": [
    {
     "data": {
      "image/png": "[encoded data removed]",
      "text/plain": [
       "<Figure size 864x504 with 1 Axes>"
      ]
     },
     "metadata": {
      "needs_background": "light"
     },
     "output_type": "display_data"
    }
   ],
   "source": [
    "# Построим гистограмму распределения\n",
    "plt.figure(figsize = (12,7))\n",
    "estate_data['price/sqm'].hist(bins=20);"
   ]
  },
  {
   "cell_type": "code",
   "execution_count": null,
   "metadata": {},
   "outputs": [],
   "source": []
  },
  {
   "cell_type": "code",
   "execution_count": 685,
   "metadata": {},
   "outputs": [],
   "source": [
    "estate_data.drop('homeFacts', axis = 1, inplace = True)"
   ]
  },
  {
   "cell_type": "markdown",
   "metadata": {},
   "source": [
    "### Fireplace"
   ]
  },
  {
   "cell_type": "code",
   "execution_count": 686,
   "metadata": {},
   "outputs": [
    {
     "data": {
      "text/plain": [
       "281"
      ]
     },
     "execution_count": 686,
     "metadata": {},
     "output_type": "execute_result"
    }
   ],
   "source": [
    "# найдем количество уникальных значений Fireplace\n",
    "\n",
    "estate_data.fireplace.nunique()"
   ]
  },
  {
   "cell_type": "code",
   "execution_count": 687,
   "metadata": {},
   "outputs": [
    {
     "data": {
      "text/plain": [
       "125402"
      ]
     },
     "execution_count": 687,
     "metadata": {},
     "output_type": "execute_result"
    }
   ],
   "source": [
    "estate_data.fireplace.isna().sum()"
   ]
  },
  {
   "cell_type": "code",
   "execution_count": 688,
   "metadata": {},
   "outputs": [
    {
     "data": {
      "text/plain": [
       "yes                                33409\n",
       "Yes                                12490\n",
       "1                                   7695\n",
       "Not Applicable                      1342\n",
       "2                                    894\n",
       "No                                   248\n",
       "3                                    156\n",
       "Fireplace YN                         140\n",
       "Gas/Gas Logs                         132\n",
       "Wood Burning                          95\n",
       "Wood                                  94\n",
       "0                                     72\n",
       "Living Room                           60\n",
       "1 Fireplace                           54\n",
       "Special Features                      53\n",
       "Living Room, Wood Burning             44\n",
       "Family Room                           44\n",
       "Gas                                   34\n",
       "Family Room, Wood Burning             34\n",
       "Gas Logs, In Great Room               34\n",
       "Fireplace Features                    32\n",
       "4                                     29\n",
       "N/K                                   26\n",
       "Gas Logs, In Living Room              23\n",
       "Electric                              23\n",
       "Gas Logs, In Den/Family Room          18\n",
       "Fireplace                             18\n",
       "Decorative                            16\n",
       "Gas Fireplace                         14\n",
       "1 Fireplace, Gas Fireplace            13\n",
       "Other (See Remarks)                   12\n",
       "5                                     10\n",
       "Gas Logs                              10\n",
       "Gas, Living Room                      10\n",
       "1 Fireplace, Wood Burning Frplc        9\n",
       "One                                    9\n",
       "Gas, Family Room                       9\n",
       "4+                                     8\n",
       "In Living Room                         8\n",
       "Electric, Living Room                  8\n",
       "See Agent                              7\n",
       "Gas/Gas Logs, Wood                     6\n",
       "Electric, Family Room                  6\n",
       "Decorative, 1 Fireplace                5\n",
       "Log Wood-Burning, 1 Fireplace          5\n",
       "Gas, Ventless                          5\n",
       "Gas Log, 1 Fireplace                   5\n",
       "1 Fireplace, Family Room               5\n",
       "In Den/Family Room                     5\n",
       "Decorative, Living Room                5\n",
       "Name: fireplace, dtype: int64"
      ]
     },
     "execution_count": 688,
     "metadata": {},
     "output_type": "execute_result"
    }
   ],
   "source": [
    "estate_data.fireplace.value_counts()[:50]"
   ]
  },
  {
   "cell_type": "code",
   "execution_count": 689,
   "metadata": {},
   "outputs": [],
   "source": [
    "# Заполним все пропуски значением 'no'\n",
    "estate_data.fireplace = estate_data.fireplace.fillna('no')"
   ]
  },
  {
   "cell_type": "code",
   "execution_count": 690,
   "metadata": {},
   "outputs": [
    {
     "data": {
      "text/plain": [
       "no                                 125650\n",
       "yes                                 45899\n",
       "1                                    7695\n",
       "not applicable                       1342\n",
       "2                                     894\n",
       "3                                     156\n",
       "fireplace yn                          140\n",
       "gas/gas logs                          132\n",
       "wood burning                           95\n",
       "wood                                   94\n",
       "0                                      72\n",
       "living room                            60\n",
       "1 fireplace                            54\n",
       "special features                       53\n",
       "family room                            44\n",
       "living room, wood burning              44\n",
       "gas logs, in great room                34\n",
       "family room, wood burning              34\n",
       "gas                                    34\n",
       "fireplace features                     32\n",
       "4                                      29\n",
       "n/k                                    26\n",
       "gas logs, in living room               23\n",
       "electric                               23\n",
       "gas logs, in den/family room           18\n",
       "fireplace                              18\n",
       "decorative                             16\n",
       "gas fireplace                          14\n",
       "1 fireplace, gas fireplace             13\n",
       "other (see remarks)                    12\n",
       "gas logs                               10\n",
       "gas, living room                       10\n",
       "5                                      10\n",
       "1 fireplace, wood burning frplc         9\n",
       "gas, family room                        9\n",
       "one                                     9\n",
       "in living room                          8\n",
       "electric, living room                   8\n",
       "4+                                      8\n",
       "see agent                               7\n",
       "electric, family room                   6\n",
       "gas/gas logs, wood                      6\n",
       "in den/family room                      5\n",
       "decorative, 1 fireplace                 5\n",
       "decorative, living room                 5\n",
       "1 fireplace, family room                5\n",
       "log wood-burning, 1 fireplace           5\n",
       "gas log, 1 fireplace                    5\n",
       "gas, ventless                           5\n",
       "1 fireplace, gas burning                4\n",
       "Name: fireplace, dtype: int64"
      ]
     },
     "execution_count": 690,
     "metadata": {},
     "output_type": "execute_result"
    }
   ],
   "source": [
    "# Приведем все значения к нижнему регистру\n",
    "estate_data['fireplace'] = estate_data['fireplace'].apply(lambda x: str(x).lower())\n",
    "estate_data.fireplace.value_counts()[:50]"
   ]
  },
  {
   "cell_type": "code",
   "execution_count": 691,
   "metadata": {},
   "outputs": [],
   "source": [
    "# Заменим значение 'no' на 0\n",
    "estate_data['fireplace'] = estate_data['fireplace'].apply(lambda x: 'no' if x=='0' else x)"
   ]
  },
  {
   "cell_type": "code",
   "execution_count": 692,
   "metadata": {},
   "outputs": [],
   "source": [
    "# Приведем весь столбец к бинарному признаку, заменим все значения, которые != 'no' на 'yes'\n",
    "estate_data['fireplace'] = estate_data['fireplace'].apply(lambda x: 'yes' if x!='no' else x)"
   ]
  },
  {
   "cell_type": "markdown",
   "metadata": {},
   "source": [
    "### City"
   ]
  },
  {
   "cell_type": "code",
   "execution_count": 693,
   "metadata": {},
   "outputs": [
    {
     "data": {
      "text/plain": [
       "1402"
      ]
     },
     "execution_count": 693,
     "metadata": {},
     "output_type": "execute_result"
    }
   ],
   "source": [
    "# посмотрим сколько уникальных значений в столбце 'City'\n",
    "estate_data.city.nunique()"
   ]
  },
  {
   "cell_type": "code",
   "execution_count": 694,
   "metadata": {},
   "outputs": [
    {
     "data": {
      "text/plain": [
       "1"
      ]
     },
     "execution_count": 694,
     "metadata": {},
     "output_type": "execute_result"
    }
   ],
   "source": [
    "estate_data.city.isna().sum()"
   ]
  },
  {
   "cell_type": "code",
   "execution_count": 695,
   "metadata": {},
   "outputs": [
    {
     "data": {
      "text/plain": [
       "Houston              16235\n",
       "San Antonio           7659\n",
       "Dallas                5949\n",
       "Miami                 5087\n",
       "Jacksonville          4844\n",
       "Chicago               4575\n",
       "Las Vegas             4567\n",
       "Fort Worth            3904\n",
       "Orlando               3419\n",
       "Tampa                 3276\n",
       "Philadelphia          3175\n",
       "Austin                3166\n",
       "Atlanta               2513\n",
       "Detroit               2348\n",
       "Charlotte             2336\n",
       "Cleveland             2173\n",
       "Fort Lauderdale       2172\n",
       "Kissimmee             1994\n",
       "Nashville             1964\n",
       "Saint Petersburg      1847\n",
       "Indianapolis          1758\n",
       "El Paso               1658\n",
       "Ocala                 1648\n",
       "Raleigh               1408\n",
       "Denver                1382\n",
       "Portland              1374\n",
       "Palm Coast            1363\n",
       "Washington            1198\n",
       "Cape Coral            1186\n",
       "Brooklyn              1168\n",
       "Port Charlotte        1167\n",
       "Reno                  1141\n",
       "Sacramento            1000\n",
       "Memphis               1000\n",
       "Durham                 987\n",
       "Fresno                 980\n",
       "Seattle                920\n",
       "Cincinnati             908\n",
       "McKinney               828\n",
       "College Station        783\n",
       "Staten Island          778\n",
       "Clarksville            775\n",
       "Hollywood              772\n",
       "Laredo                 742\n",
       "Vancouver              715\n",
       "Bonita Springs         706\n",
       "Panama City Beach      698\n",
       "West Palm Beach        692\n",
       "San Diego              687\n",
       "Knoxville              684\n",
       "Name: city, dtype: int64"
      ]
     },
     "execution_count": 695,
     "metadata": {},
     "output_type": "execute_result"
    }
   ],
   "source": [
    "estate_data.city.value_counts()[:50]"
   ]
  },
  {
   "cell_type": "code",
   "execution_count": 696,
   "metadata": {},
   "outputs": [
    {
     "data": {
      "text/plain": [
       "Houston         16236\n",
       "San Antonio      7659\n",
       "Dallas           5949\n",
       "Miami            5087\n",
       "Jacksonville     4844\n",
       "Chicago          4575\n",
       "Las Vegas        4567\n",
       "Fort Worth       3904\n",
       "Orlando          3419\n",
       "Tampa            3276\n",
       "Name: city, dtype: int64"
      ]
     },
     "execution_count": 696,
     "metadata": {},
     "output_type": "execute_result"
    }
   ],
   "source": [
    "# Заполним пропуски самым популярным городом 'Houston'\n",
    "\n",
    "estate_data['city'] = estate_data['city'].fillna('Houston')\n",
    "estate_data.city.value_counts()[:10]"
   ]
  },
  {
   "cell_type": "code",
   "execution_count": null,
   "metadata": {},
   "outputs": [],
   "source": []
  },
  {
   "cell_type": "code",
   "execution_count": 697,
   "metadata": {},
   "outputs": [
    {
     "data": {
      "text/plain": [
       "Houston         16236\n",
       "San Antonio      7659\n",
       "Dallas           5949\n",
       "Miami            5087\n",
       "Jacksonville     4844\n",
       "Chicago          4575\n",
       "Las Vegas        4567\n",
       "Fort Worth       3904\n",
       "Orlando          3419\n",
       "Tampa            3276\n",
       "Name: city, dtype: int64"
      ]
     },
     "execution_count": 697,
     "metadata": {},
     "output_type": "execute_result"
    }
   ],
   "source": [
    "estate_data.city.value_counts()[:10]"
   ]
  },
  {
   "cell_type": "code",
   "execution_count": null,
   "metadata": {},
   "outputs": [],
   "source": []
  },
  {
   "cell_type": "code",
   "execution_count": null,
   "metadata": {},
   "outputs": [],
   "source": []
  },
  {
   "cell_type": "code",
   "execution_count": 698,
   "metadata": {},
   "outputs": [
    {
     "data": {
      "text/plain": [
       "11"
      ]
     },
     "execution_count": 698,
     "metadata": {},
     "output_type": "execute_result"
    }
   ],
   "source": [
    "cities_with_freqs = list(estate_data.city.value_counts())\n",
    "top_cities_count = int(np.percentile(cities_with_freqs, 50))\n",
    "top_cities_count"
   ]
  },
  {
   "cell_type": "code",
   "execution_count": 699,
   "metadata": {},
   "outputs": [],
   "source": [
    "# Выделим 11 самых популярных городов, которые описывают около 50% примеров. \n",
    "all_cities = set(estate_data.city.value_counts().index)\n",
    "main_cities = set(estate_data.city.value_counts().index[:11])\n",
    "cities_to_drop = list(all_cities - main_cities)\n",
    "estate_data.loc[estate_data['city'].isin(cities_to_drop), 'city'] = 'other'"
   ]
  },
  {
   "cell_type": "code",
   "execution_count": null,
   "metadata": {},
   "outputs": [],
   "source": []
  },
  {
   "cell_type": "markdown",
   "metadata": {},
   "source": [
    "### Stories"
   ]
  },
  {
   "cell_type": "code",
   "execution_count": 700,
   "metadata": {},
   "outputs": [],
   "source": [
    "# Удалим признак stories, так как он является слишком грязным\n",
    "\n",
    "estate_data = estate_data.drop('stories', axis=1)"
   ]
  },
  {
   "cell_type": "code",
   "execution_count": 701,
   "metadata": {},
   "outputs": [
    {
     "data": {
      "text/html": [
       "<div>\n",
       "<style scoped>\n",
       "    .dataframe tbody tr th:only-of-type {\n",
       "        vertical-align: middle;\n",
       "    }\n",
       "\n",
       "    .dataframe tbody tr th {\n",
       "        vertical-align: top;\n",
       "    }\n",
       "\n",
       "    .dataframe thead th {\n",
       "        text-align: right;\n",
       "    }\n",
       "</style>\n",
       "<table border=\"1\" class=\"dataframe\">\n",
       "  <thead>\n",
       "    <tr style=\"text-align: right;\">\n",
       "      <th></th>\n",
       "      <th>status</th>\n",
       "      <th>propertyType</th>\n",
       "      <th>baths</th>\n",
       "      <th>fireplace</th>\n",
       "      <th>city</th>\n",
       "      <th>schools</th>\n",
       "      <th>sqft</th>\n",
       "      <th>beds</th>\n",
       "      <th>target</th>\n",
       "      <th>Pool</th>\n",
       "      <th>Year_built</th>\n",
       "      <th>remodeled</th>\n",
       "      <th>heating</th>\n",
       "      <th>Parking</th>\n",
       "      <th>lotsize</th>\n",
       "      <th>price/sqm</th>\n",
       "    </tr>\n",
       "  </thead>\n",
       "  <tbody>\n",
       "    <tr>\n",
       "      <th>0</th>\n",
       "      <td>for sale</td>\n",
       "      <td>single-family home</td>\n",
       "      <td>3 Baths</td>\n",
       "      <td>no</td>\n",
       "      <td>other</td>\n",
       "      <td>[{'rating': ['4/10', 'None/10', '4/10'], 'data...</td>\n",
       "      <td>1,947 sqft</td>\n",
       "      <td>3 Beds</td>\n",
       "      <td>$310,000</td>\n",
       "      <td>No</td>\n",
       "      <td>2019.0</td>\n",
       "      <td>no</td>\n",
       "      <td>no_info</td>\n",
       "      <td>no_provided</td>\n",
       "      <td>541</td>\n",
       "      <td>1711</td>\n",
       "    </tr>\n",
       "    <tr>\n",
       "      <th>1</th>\n",
       "      <td>for sale</td>\n",
       "      <td>single-family home</td>\n",
       "      <td>8 Baths</td>\n",
       "      <td>yes</td>\n",
       "      <td>Dallas</td>\n",
       "      <td>[{'rating': ['9/10', '9/10', '10/10', '9/10'],...</td>\n",
       "      <td>6,457 sqft</td>\n",
       "      <td>5 Beds</td>\n",
       "      <td>$2,395,000</td>\n",
       "      <td>No</td>\n",
       "      <td>2006.0</td>\n",
       "      <td>yes</td>\n",
       "      <td>forced air</td>\n",
       "      <td>detached garage</td>\n",
       "      <td>764</td>\n",
       "      <td>3993</td>\n",
       "    </tr>\n",
       "    <tr>\n",
       "      <th>2</th>\n",
       "      <td>for sale</td>\n",
       "      <td>townhouse</td>\n",
       "      <td>NaN</td>\n",
       "      <td>no</td>\n",
       "      <td>Philadelphia</td>\n",
       "      <td>[{'rating': [], 'data': {'Distance': [], 'Grad...</td>\n",
       "      <td>897 sqft</td>\n",
       "      <td>2 Beds</td>\n",
       "      <td>$209,000</td>\n",
       "      <td>No</td>\n",
       "      <td>1920.0</td>\n",
       "      <td>no</td>\n",
       "      <td>forced air</td>\n",
       "      <td>no_provided</td>\n",
       "      <td>63</td>\n",
       "      <td>2508</td>\n",
       "    </tr>\n",
       "    <tr>\n",
       "      <th>3</th>\n",
       "      <td>no_provided</td>\n",
       "      <td>Single Family</td>\n",
       "      <td>3</td>\n",
       "      <td>no</td>\n",
       "      <td>Houston</td>\n",
       "      <td>[{'rating': ['4/10', '3/10', '2/10'], 'data': ...</td>\n",
       "      <td>1,930</td>\n",
       "      <td>3</td>\n",
       "      <td>$311,995</td>\n",
       "      <td>No</td>\n",
       "      <td>2019.0</td>\n",
       "      <td>no</td>\n",
       "      <td>gas</td>\n",
       "      <td>attached garage</td>\n",
       "      <td>191</td>\n",
       "      <td>1744</td>\n",
       "    </tr>\n",
       "    <tr>\n",
       "      <th>4</th>\n",
       "      <td>active</td>\n",
       "      <td>English</td>\n",
       "      <td>NaN</td>\n",
       "      <td>no</td>\n",
       "      <td>Houston</td>\n",
       "      <td>[{'rating': ['6', '3', '6', '1', '5'], 'data':...</td>\n",
       "      <td>3,130</td>\n",
       "      <td>NaN</td>\n",
       "      <td>260,000</td>\n",
       "      <td>No</td>\n",
       "      <td>2015.0</td>\n",
       "      <td>yes</td>\n",
       "      <td>electric</td>\n",
       "      <td>no_provided</td>\n",
       "      <td>531</td>\n",
       "      <td>893</td>\n",
       "    </tr>\n",
       "    <tr>\n",
       "      <th>...</th>\n",
       "      <td>...</td>\n",
       "      <td>...</td>\n",
       "      <td>...</td>\n",
       "      <td>...</td>\n",
       "      <td>...</td>\n",
       "      <td>...</td>\n",
       "      <td>...</td>\n",
       "      <td>...</td>\n",
       "      <td>...</td>\n",
       "      <td>...</td>\n",
       "      <td>...</td>\n",
       "      <td>...</td>\n",
       "      <td>...</td>\n",
       "      <td>...</td>\n",
       "      <td>...</td>\n",
       "      <td>...</td>\n",
       "    </tr>\n",
       "    <tr>\n",
       "      <th>183208</th>\n",
       "      <td>for sale</td>\n",
       "      <td>Single Family</td>\n",
       "      <td>Bathrooms: 2</td>\n",
       "      <td>no</td>\n",
       "      <td>other</td>\n",
       "      <td>[{'rating': ['2/10', '6/10', '4/10'], 'data': ...</td>\n",
       "      <td>Total interior livable area: 1,907 sqft</td>\n",
       "      <td>3 bd</td>\n",
       "      <td>$287,999</td>\n",
       "      <td>No</td>\n",
       "      <td>1969.0</td>\n",
       "      <td>yes</td>\n",
       "      <td>forced air</td>\n",
       "      <td>1 space</td>\n",
       "      <td>658</td>\n",
       "      <td>1625</td>\n",
       "    </tr>\n",
       "    <tr>\n",
       "      <th>183209</th>\n",
       "      <td>for sale</td>\n",
       "      <td>single-family home</td>\n",
       "      <td>3 Baths</td>\n",
       "      <td>yes</td>\n",
       "      <td>other</td>\n",
       "      <td>[{'rating': ['6/10', '5/10', '6/10'], 'data': ...</td>\n",
       "      <td>2,505 sqft</td>\n",
       "      <td>5 Beds</td>\n",
       "      <td>$384,900</td>\n",
       "      <td>No</td>\n",
       "      <td>1950.0</td>\n",
       "      <td>yes</td>\n",
       "      <td>forced air</td>\n",
       "      <td>detached garage</td>\n",
       "      <td>904</td>\n",
       "      <td>1658</td>\n",
       "    </tr>\n",
       "    <tr>\n",
       "      <th>183210</th>\n",
       "      <td>for sale</td>\n",
       "      <td>single-family home</td>\n",
       "      <td>3 Baths</td>\n",
       "      <td>yes</td>\n",
       "      <td>Houston</td>\n",
       "      <td>[{'rating': ['2/10', '3/10', '3/10'], 'data': ...</td>\n",
       "      <td>1,792 sqft</td>\n",
       "      <td>4 Beds</td>\n",
       "      <td>$280,000</td>\n",
       "      <td>No</td>\n",
       "      <td>1970.0</td>\n",
       "      <td>yes</td>\n",
       "      <td>other</td>\n",
       "      <td>detached garage</td>\n",
       "      <td>613</td>\n",
       "      <td>1679</td>\n",
       "    </tr>\n",
       "    <tr>\n",
       "      <th>183211</th>\n",
       "      <td>no_provided</td>\n",
       "      <td>Single Family</td>\n",
       "      <td>2.0</td>\n",
       "      <td>yes</td>\n",
       "      <td>Orlando</td>\n",
       "      <td>[{'rating': ['3/10', '1/10', '3/10'], 'data': ...</td>\n",
       "      <td>1,829 sqft</td>\n",
       "      <td>3</td>\n",
       "      <td>$171,306</td>\n",
       "      <td>No</td>\n",
       "      <td>1962.0</td>\n",
       "      <td>yes</td>\n",
       "      <td>forced air</td>\n",
       "      <td>1 space</td>\n",
       "      <td>716</td>\n",
       "      <td>1851</td>\n",
       "    </tr>\n",
       "    <tr>\n",
       "      <th>183212</th>\n",
       "      <td>no_provided</td>\n",
       "      <td>Single Family</td>\n",
       "      <td>6.0</td>\n",
       "      <td>no</td>\n",
       "      <td>Miami</td>\n",
       "      <td>[{'rating': ['10/10', '5/10'], 'data': {'Dista...</td>\n",
       "      <td>4,017</td>\n",
       "      <td>5</td>\n",
       "      <td>$1,249,000</td>\n",
       "      <td>Yes</td>\n",
       "      <td>1990.0</td>\n",
       "      <td>yes</td>\n",
       "      <td>other</td>\n",
       "      <td>2 spaces</td>\n",
       "      <td>790</td>\n",
       "      <td>3348</td>\n",
       "    </tr>\n",
       "  </tbody>\n",
       "</table>\n",
       "<p>183213 rows × 16 columns</p>\n",
       "</div>"
      ],
      "text/plain": [
       "             status        propertyType         baths fireplace          city  \\\n",
       "0          for sale  single-family home       3 Baths        no         other   \n",
       "1          for sale  single-family home       8 Baths       yes        Dallas   \n",
       "2          for sale           townhouse           NaN        no  Philadelphia   \n",
       "3       no_provided       Single Family             3        no       Houston   \n",
       "4            active             English           NaN        no       Houston   \n",
       "...             ...                 ...           ...       ...           ...   \n",
       "183208     for sale       Single Family  Bathrooms: 2        no         other   \n",
       "183209     for sale  single-family home       3 Baths       yes         other   \n",
       "183210     for sale  single-family home       3 Baths       yes       Houston   \n",
       "183211  no_provided       Single Family           2.0       yes       Orlando   \n",
       "183212  no_provided       Single Family           6.0        no         Miami   \n",
       "\n",
       "                                                  schools  \\\n",
       "0       [{'rating': ['4/10', 'None/10', '4/10'], 'data...   \n",
       "1       [{'rating': ['9/10', '9/10', '10/10', '9/10'],...   \n",
       "2       [{'rating': [], 'data': {'Distance': [], 'Grad...   \n",
       "3       [{'rating': ['4/10', '3/10', '2/10'], 'data': ...   \n",
       "4       [{'rating': ['6', '3', '6', '1', '5'], 'data':...   \n",
       "...                                                   ...   \n",
       "183208  [{'rating': ['2/10', '6/10', '4/10'], 'data': ...   \n",
       "183209  [{'rating': ['6/10', '5/10', '6/10'], 'data': ...   \n",
       "183210  [{'rating': ['2/10', '3/10', '3/10'], 'data': ...   \n",
       "183211  [{'rating': ['3/10', '1/10', '3/10'], 'data': ...   \n",
       "183212  [{'rating': ['10/10', '5/10'], 'data': {'Dista...   \n",
       "\n",
       "                                           sqft    beds      target Pool  \\\n",
       "0                                    1,947 sqft  3 Beds    $310,000   No   \n",
       "1                                    6,457 sqft  5 Beds  $2,395,000   No   \n",
       "2                                      897 sqft  2 Beds    $209,000   No   \n",
       "3                                         1,930       3    $311,995   No   \n",
       "4                                         3,130     NaN     260,000   No   \n",
       "...                                         ...     ...         ...  ...   \n",
       "183208  Total interior livable area: 1,907 sqft    3 bd    $287,999   No   \n",
       "183209                               2,505 sqft  5 Beds    $384,900   No   \n",
       "183210                               1,792 sqft  4 Beds    $280,000   No   \n",
       "183211                               1,829 sqft       3    $171,306   No   \n",
       "183212                                    4,017       5  $1,249,000  Yes   \n",
       "\n",
       "        Year_built remodeled     heating          Parking  lotsize  price/sqm  \n",
       "0           2019.0        no     no_info      no_provided      541       1711  \n",
       "1           2006.0       yes  forced air  detached garage      764       3993  \n",
       "2           1920.0        no  forced air      no_provided       63       2508  \n",
       "3           2019.0        no         gas  attached garage      191       1744  \n",
       "4           2015.0       yes    electric      no_provided      531        893  \n",
       "...            ...       ...         ...              ...      ...        ...  \n",
       "183208      1969.0       yes  forced air          1 space      658       1625  \n",
       "183209      1950.0       yes  forced air  detached garage      904       1658  \n",
       "183210      1970.0       yes       other  detached garage      613       1679  \n",
       "183211      1962.0       yes  forced air          1 space      716       1851  \n",
       "183212      1990.0       yes       other         2 spaces      790       3348  \n",
       "\n",
       "[183213 rows x 16 columns]"
      ]
     },
     "execution_count": 701,
     "metadata": {},
     "output_type": "execute_result"
    }
   ],
   "source": [
    "estate_data"
   ]
  },
  {
   "cell_type": "code",
   "execution_count": null,
   "metadata": {},
   "outputs": [],
   "source": []
  },
  {
   "cell_type": "markdown",
   "metadata": {},
   "source": [
    "### Schools"
   ]
  },
  {
   "cell_type": "code",
   "execution_count": 702,
   "metadata": {},
   "outputs": [
    {
     "data": {
      "text/plain": [
       "150564"
      ]
     },
     "execution_count": 702,
     "metadata": {},
     "output_type": "execute_result"
    }
   ],
   "source": [
    "# schools    \n",
    "estate_data.schools.nunique()"
   ]
  },
  {
   "cell_type": "code",
   "execution_count": 703,
   "metadata": {},
   "outputs": [
    {
     "data": {
      "text/plain": [
       "0"
      ]
     },
     "execution_count": 703,
     "metadata": {},
     "output_type": "execute_result"
    }
   ],
   "source": [
    "estate_data.schools.isna().sum()"
   ]
  },
  {
   "cell_type": "code",
   "execution_count": 704,
   "metadata": {},
   "outputs": [
    {
     "data": {
      "text/plain": [
       "\"[{'rating': ['4/10', 'None/10', '4/10'], 'data': {'Distance': ['1.65mi', '1.32mi', '1.01mi'], 'Grades': ['9-12', '3-8', 'PK-8']}, 'name': ['East Valley High School&Extension', 'Eastvalley Middle School', 'Trentwood Elementary School']}]\""
      ]
     },
     "execution_count": 704,
     "metadata": {},
     "output_type": "execute_result"
    }
   ],
   "source": [
    "estate_data.schools.loc[0]"
   ]
  },
  {
   "cell_type": "code",
   "execution_count": null,
   "metadata": {},
   "outputs": [],
   "source": []
  },
  {
   "cell_type": "code",
   "execution_count": 705,
   "metadata": {},
   "outputs": [],
   "source": [
    "# Применим функцию eval для раскодировки списка, в котором заключен словарь.\n",
    "estate_data.schools = estate_data.schools.apply(eval)"
   ]
  },
  {
   "cell_type": "code",
   "execution_count": 706,
   "metadata": {},
   "outputs": [],
   "source": [
    "#В данной колонке содержаться данные о школах, расположенных рядом с домом, такие как:\n",
    "#rating - рейтинги школ, \n",
    "#Distance - расстояния до школ, \n",
    "#Grades - возрастной уровень школ и \n",
    "#name - названия школ. "
   ]
  },
  {
   "cell_type": "code",
   "execution_count": 707,
   "metadata": {},
   "outputs": [
    {
     "data": {
      "text/plain": [
       "[{'rating': ['4/10', 'None/10', '4/10'],\n",
       "  'data': {'Distance': ['1.65mi', '1.32mi', '1.01mi'],\n",
       "   'Grades': ['9-12', '3-8', 'PK-8']},\n",
       "  'name': ['East Valley High School&Extension',\n",
       "   'Eastvalley Middle School',\n",
       "   'Trentwood Elementary School']}]"
      ]
     },
     "execution_count": 707,
     "metadata": {},
     "output_type": "execute_result"
    }
   ],
   "source": [
    "estate_data.schools.loc[0]"
   ]
  },
  {
   "cell_type": "code",
   "execution_count": 708,
   "metadata": {},
   "outputs": [],
   "source": [
    "# Извлечём показатели рейтингов школ в столбец average_school_rating."
   ]
  },
  {
   "cell_type": "code",
   "execution_count": 709,
   "metadata": {},
   "outputs": [],
   "source": [
    "estate_data['average_school_rating'] = estate_data['schools'].apply(lambda x: x[0]['rating'])"
   ]
  },
  {
   "cell_type": "code",
   "execution_count": 710,
   "metadata": {},
   "outputs": [
    {
     "data": {
      "text/plain": [
       "0"
      ]
     },
     "execution_count": 710,
     "metadata": {},
     "output_type": "execute_result"
    }
   ],
   "source": [
    "estate_data['average_school_rating'].isna().sum()"
   ]
  },
  {
   "cell_type": "code",
   "execution_count": 711,
   "metadata": {},
   "outputs": [
    {
     "name": "stdout",
     "output_type": "stream",
     "text": [
      "['4/10', 'None/10', '4/10']\n",
      "['9/10', '9/10', '10/10', '9/10']\n",
      "[]\n",
      "['4/10', '3/10', '2/10']\n",
      "['6', '3', '6', '1', '5']\n"
     ]
    }
   ],
   "source": [
    "for i in range(5):\n",
    "    print(estate_data['average_school_rating'].loc[i])"
   ]
  },
  {
   "cell_type": "code",
   "execution_count": 712,
   "metadata": {},
   "outputs": [],
   "source": [
    "# Извлечем числовой показатель и посчитаем средний рейтинг\n",
    "pattern = re.compile('\\d+')"
   ]
  },
  {
   "cell_type": "code",
   "execution_count": 713,
   "metadata": {},
   "outputs": [
    {
     "name": "stderr",
     "output_type": "stream",
     "text": [
      "C:\\Users\\User\\anaconda3\\lib\\site-packages\\pandas\\core\\indexing.py:671: SettingWithCopyWarning: \n",
      "A value is trying to be set on a copy of a slice from a DataFrame\n",
      "\n",
      "See the caveats in the documentation: https://pandas.pydata.org/pandas-docs/stable/user_guide/indexing.html#returning-a-view-versus-a-copy\n",
      "  self._setitem_with_indexer(indexer, value)\n"
     ]
    }
   ],
   "source": [
    "for i in estate_data.index:\n",
    "    sum_ratings = 0\n",
    "    count = 0\n",
    "    for item in estate_data['average_school_rating'].loc[i]:\n",
    "        if (len(pattern.findall(item)) != 0) & ('None' not in item):\n",
    "            sum_ratings += int(pattern.findall(item)[0])\n",
    "            count += 1\n",
    "        else:\n",
    "            continue\n",
    "    if count == 0:\n",
    "        estate_data['average_school_rating'].loc[i] = 0\n",
    "    else:\n",
    "        estate_data['average_school_rating'].loc[i] = round(sum_ratings/count, 1)"
   ]
  },
  {
   "cell_type": "code",
   "execution_count": 714,
   "metadata": {},
   "outputs": [
    {
     "data": {
      "text/plain": [
       "4.0    10772\n",
       "6.0     9962\n",
       "5.0     9919\n",
       "3.0     9502\n",
       "3.3     8379\n",
       "       ...  \n",
       "8.6        8\n",
       "1.4        7\n",
       "1.2        1\n",
       "6.9        1\n",
       "3.9        1\n",
       "Name: average_school_rating, Length: 82, dtype: int64"
      ]
     },
     "execution_count": 714,
     "metadata": {},
     "output_type": "execute_result"
    }
   ],
   "source": [
    "estate_data['average_school_rating'].value_counts()"
   ]
  },
  {
   "cell_type": "code",
   "execution_count": 715,
   "metadata": {},
   "outputs": [
    {
     "data": {
      "text/plain": [
       "1401"
      ]
     },
     "execution_count": 715,
     "metadata": {},
     "output_type": "execute_result"
    }
   ],
   "source": [
    "# Посмотрим сколько в столбце нулевых значений\n",
    "len(estate_data[estate_data['average_school_rating'] == 0])"
   ]
  },
  {
   "cell_type": "code",
   "execution_count": 716,
   "metadata": {},
   "outputs": [
    {
     "data": {
      "text/plain": [
       "5.0"
      ]
     },
     "execution_count": 716,
     "metadata": {},
     "output_type": "execute_result"
    }
   ],
   "source": [
    "# Подсчитаем среднее значение\n",
    "round(estate_data[estate_data['average_school_rating'] != 0]['average_school_rating'].median())"
   ]
  },
  {
   "cell_type": "code",
   "execution_count": 717,
   "metadata": {},
   "outputs": [],
   "source": [
    "# Заменим средним арифметическим нулевые значения\n",
    "estate_data['average_school_rating'] = estate_data['average_school_rating'].apply(lambda x: 5 if x == 0 else x)"
   ]
  },
  {
   "cell_type": "code",
   "execution_count": 718,
   "metadata": {},
   "outputs": [
    {
     "data": {
      "image/png": "[encoded data removed]",
      "text/plain": [
       "<Figure size 864x504 with 1 Axes>"
      ]
     },
     "metadata": {
      "needs_background": "light"
     },
     "output_type": "display_data"
    }
   ],
   "source": [
    "# Посмотрим гистограмму распределения\n",
    "\n",
    "plt.figure(figsize = (12,7))\n",
    "estate_data['average_school_rating'].hist(bins=20);"
   ]
  },
  {
   "cell_type": "code",
   "execution_count": 719,
   "metadata": {},
   "outputs": [],
   "source": [
    "# Количество рядом расположенных школ - 'number_of_schools\n",
    "\n",
    "estate_data['number_of_schools'] = estate_data['schools'].apply(lambda x: len(x[0]['rating']))"
   ]
  },
  {
   "cell_type": "code",
   "execution_count": 720,
   "metadata": {},
   "outputs": [
    {
     "data": {
      "text/plain": [
       "numpy.int64"
      ]
     },
     "execution_count": 720,
     "metadata": {},
     "output_type": "execute_result"
    }
   ],
   "source": [
    "type(estate_data['number_of_schools'][0])"
   ]
  },
  {
   "cell_type": "code",
   "execution_count": 721,
   "metadata": {},
   "outputs": [
    {
     "data": {
      "text/plain": [
       "3     114792\n",
       "2      18689\n",
       "8      13743\n",
       "4      10596\n",
       "5       8250\n",
       "1       4346\n",
       "6       4071\n",
       "7       1610\n",
       "24      1485\n",
       "0       1035\n",
       "13       839\n",
       "63       645\n",
       "12       559\n",
       "11       468\n",
       "15       406\n",
       "10       351\n",
       "14       339\n",
       "22       329\n",
       "65       312\n",
       "49       200\n",
       "61        97\n",
       "16        19\n",
       "9         16\n",
       "21         9\n",
       "17         5\n",
       "19         2\n",
       "Name: number_of_schools, dtype: int64"
      ]
     },
     "execution_count": 721,
     "metadata": {},
     "output_type": "execute_result"
    }
   ],
   "source": [
    "estate_data['number_of_schools'].value_counts()"
   ]
  },
  {
   "cell_type": "code",
   "execution_count": null,
   "metadata": {},
   "outputs": [],
   "source": []
  },
  {
   "cell_type": "code",
   "execution_count": 722,
   "metadata": {},
   "outputs": [
    {
     "data": {
      "text/plain": [
       "3"
      ]
     },
     "execution_count": 722,
     "metadata": {},
     "output_type": "execute_result"
    }
   ],
   "source": [
    "round(estate_data['number_of_schools'].median())"
   ]
  },
  {
   "cell_type": "code",
   "execution_count": 723,
   "metadata": {},
   "outputs": [
    {
     "data": {
      "text/plain": [
       "3     115827\n",
       "2      18689\n",
       "8      13743\n",
       "4      10596\n",
       "5       8250\n",
       "1       4346\n",
       "6       4071\n",
       "7       1610\n",
       "24      1485\n",
       "13       839\n",
       "63       645\n",
       "12       559\n",
       "11       468\n",
       "15       406\n",
       "10       351\n",
       "14       339\n",
       "22       329\n",
       "65       312\n",
       "49       200\n",
       "61        97\n",
       "16        19\n",
       "9         16\n",
       "21         9\n",
       "17         5\n",
       "19         2\n",
       "Name: number_of_schools, dtype: int64"
      ]
     },
     "execution_count": 723,
     "metadata": {},
     "output_type": "execute_result"
    }
   ],
   "source": [
    "# Заменим нулевые значения на медианное\n",
    "\n",
    "estate_data['number_of_schools'] = estate_data['number_of_schools'].apply(lambda x: 3 if x == 0 else x)\n",
    "estate_data['number_of_schools'].value_counts()"
   ]
  },
  {
   "cell_type": "code",
   "execution_count": 724,
   "metadata": {},
   "outputs": [
    {
     "data": {
      "image/png": "[encoded data removed]",
      "text/plain": [
       "<Figure size 864x504 with 1 Axes>"
      ]
     },
     "metadata": {
      "needs_background": "light"
     },
     "output_type": "display_data"
    }
   ],
   "source": [
    "# Посмотрим на гистограмму распределения\n",
    "plt.figure(figsize = (12,7))\n",
    "estate_data['number_of_schools'].hist(bins = 20);"
   ]
  },
  {
   "cell_type": "code",
   "execution_count": 725,
   "metadata": {},
   "outputs": [
    {
     "data": {
      "text/plain": [
       "173455    16\n",
       "176474    16\n",
       "51394     16\n",
       "176227    16\n",
       "48848     16\n",
       "          ..\n",
       "168121    65\n",
       "22957     65\n",
       "167978    65\n",
       "58490     65\n",
       "97546     65\n",
       "Name: number_of_schools, Length: 3103, dtype: int64"
      ]
     },
     "execution_count": 725,
     "metadata": {},
     "output_type": "execute_result"
    }
   ],
   "source": [
    "# Визуально заметны выбросы; отфильтруем их функцией outliers_z_score\n",
    "estate_data['number_of_schools'].loc[outliers_z_score(estate_data['number_of_schools'], threshold = 2)].sort_values()"
   ]
  },
  {
   "cell_type": "code",
   "execution_count": 726,
   "metadata": {},
   "outputs": [],
   "source": [
    "# Удалим выбросы\n",
    "\n",
    "estate_data.drop(outliers_z_score(estate_data['number_of_schools'], threshold = 2), inplace = True)\n",
    "estate_data.reset_index(inplace = True, drop = True)"
   ]
  },
  {
   "cell_type": "code",
   "execution_count": 727,
   "metadata": {},
   "outputs": [
    {
     "data": {
      "image/png": "[encoded data removed]",
      "text/plain": [
       "<Figure size 864x504 with 1 Axes>"
      ]
     },
     "metadata": {
      "needs_background": "light"
     },
     "output_type": "display_data"
    }
   ],
   "source": [
    "# Построим гистограмму\n",
    "\n",
    "plt.figure(figsize = (12,7))\n",
    "estate_data['number_of_schools'].hist(bins = 20);"
   ]
  },
  {
   "cell_type": "code",
   "execution_count": null,
   "metadata": {},
   "outputs": [],
   "source": []
  },
  {
   "cell_type": "code",
   "execution_count": 728,
   "metadata": {},
   "outputs": [],
   "source": [
    "# Среднее расстояние до школ в милях - 'average_distance_to_school'.\n",
    "\n",
    "estate_data['average_distance_to_school'] = estate_data['schools'].apply(lambda x: x[0]['data']['Distance'])"
   ]
  },
  {
   "cell_type": "code",
   "execution_count": 729,
   "metadata": {},
   "outputs": [
    {
     "data": {
      "text/plain": [
       "0"
      ]
     },
     "execution_count": 729,
     "metadata": {},
     "output_type": "execute_result"
    }
   ],
   "source": [
    "estate_data['average_distance_to_school'].isna().sum()"
   ]
  },
  {
   "cell_type": "code",
   "execution_count": 730,
   "metadata": {},
   "outputs": [
    {
     "name": "stdout",
     "output_type": "stream",
     "text": [
      "['1.65mi', '1.32mi', '1.01mi']\n",
      "['1.05mi', '0.1mi', '1.05mi', '0.81mi']\n",
      "[]\n",
      "['0.7 mi', '0.6 mi', '1.9 mi']\n",
      "['0.4 mi', '0.4 mi', '3.0 mi', '3.2 mi', '7.4 mi']\n"
     ]
    }
   ],
   "source": [
    "for i in range(5):\n",
    "    print(estate_data['average_distance_to_school'].loc[i])"
   ]
  },
  {
   "cell_type": "code",
   "execution_count": 731,
   "metadata": {},
   "outputs": [],
   "source": [
    "# Извлечем числовой показатель и посчитаем среднее растояние до окружающих школ.\n",
    "\n",
    "pattern = re.compile('\\d+[.]\\d+')"
   ]
  },
  {
   "cell_type": "code",
   "execution_count": 732,
   "metadata": {},
   "outputs": [],
   "source": [
    "for i in estate_data.index:\n",
    "    sum_distances = 0\n",
    "    count = 0\n",
    "    for item in estate_data['average_distance_to_school'].loc[i]:\n",
    "        if len(pattern.findall(item)) != 0:\n",
    "            sum_distances += float(pattern.findall(item)[0])\n",
    "            count += 1\n",
    "        else:\n",
    "            continue\n",
    "    if count == 0:\n",
    "        estate_data['average_distance_to_school'].loc[i] = 0\n",
    "    else:\n",
    "        estate_data['average_distance_to_school'].loc[i] = round(sum_distances/count, 1)"
   ]
  },
  {
   "cell_type": "code",
   "execution_count": 733,
   "metadata": {},
   "outputs": [
    {
     "data": {
      "text/plain": [
       "1.1     8537\n",
       "0.9     7890\n",
       "1.2     7888\n",
       "1.0     7880\n",
       "0.8     7355\n",
       "        ... \n",
       "23.0       1\n",
       "40.3       1\n",
       "36.3       1\n",
       "33.3       1\n",
       "26.2       1\n",
       "Name: average_distance_to_school, Length: 293, dtype: int64"
      ]
     },
     "execution_count": 733,
     "metadata": {},
     "output_type": "execute_result"
    }
   ],
   "source": [
    "estate_data['average_distance_to_school'].value_counts()"
   ]
  },
  {
   "cell_type": "code",
   "execution_count": 734,
   "metadata": {},
   "outputs": [
    {
     "data": {
      "text/plain": [
       "1229"
      ]
     },
     "execution_count": 734,
     "metadata": {},
     "output_type": "execute_result"
    }
   ],
   "source": [
    "# Посмотрим сколько в столбце нулевых значений.\n",
    "\n",
    "len(estate_data[estate_data['average_distance_to_school'] == 0])"
   ]
  },
  {
   "cell_type": "code",
   "execution_count": 735,
   "metadata": {},
   "outputs": [
    {
     "data": {
      "text/plain": [
       "2.0"
      ]
     },
     "execution_count": 735,
     "metadata": {},
     "output_type": "execute_result"
    }
   ],
   "source": [
    "# Отфильтруем нули в столбце и посчитаем среднее\n",
    "round(estate_data[estate_data['average_distance_to_school'] != 0]['average_distance_to_school'].median())"
   ]
  },
  {
   "cell_type": "code",
   "execution_count": 736,
   "metadata": {},
   "outputs": [],
   "source": [
    "estate_data['average_distance_to_school'] = estate_data['average_distance_to_school'].apply(lambda x: 2 if x == 0 else x)"
   ]
  },
  {
   "cell_type": "code",
   "execution_count": 737,
   "metadata": {},
   "outputs": [],
   "source": [
    "# Переводим мили в км.\n",
    "\n",
    "estate_data['average_distance_to_school'] = estate_data['average_distance_to_school'].apply(lambda x: x*1.6)"
   ]
  },
  {
   "cell_type": "code",
   "execution_count": 738,
   "metadata": {},
   "outputs": [
    {
     "data": {
      "image/png": "[encoded data removed]",
      "text/plain": [
       "<Figure size 864x504 with 1 Axes>"
      ]
     },
     "metadata": {
      "needs_background": "light"
     },
     "output_type": "display_data"
    }
   ],
   "source": [
    "# Построим гистограмму распределения\n",
    "plt.figure(figsize = (12,7))\n",
    "estate_data['average_distance_to_school'].hist(bins=20);"
   ]
  },
  {
   "cell_type": "code",
   "execution_count": 739,
   "metadata": {},
   "outputs": [
    {
     "data": {
      "text/plain": [
       "55411        9.12\n",
       "104203       9.12\n",
       "104008       9.12\n",
       "177292       9.12\n",
       "127594       9.12\n",
       "           ...   \n",
       "110299    1160.80\n",
       "177624    1160.80\n",
       "170743    1160.80\n",
       "170474    2545.28\n",
       "52392     2545.28\n",
       "Name: average_distance_to_school, Length: 16050, dtype: float64"
      ]
     },
     "execution_count": 739,
     "metadata": {},
     "output_type": "execute_result"
    }
   ],
   "source": [
    "# Отфильтруем выбросы при помощи outliers_igr\n",
    "estate_data['average_distance_to_school'].loc[outliers_iqr(estate_data['average_distance_to_school'])].sort_values()"
   ]
  },
  {
   "cell_type": "code",
   "execution_count": 740,
   "metadata": {},
   "outputs": [],
   "source": [
    "# Удалим выбросы\n",
    "\n",
    "estate_data = estate_data.drop(outliers_iqr(estate_data['average_distance_to_school']))\n",
    "estate_data.reset_index(inplace = True, drop = True)"
   ]
  },
  {
   "cell_type": "code",
   "execution_count": 741,
   "metadata": {},
   "outputs": [
    {
     "data": {
      "image/png": "[encoded data removed]",
      "text/plain": [
       "<Figure size 864x504 with 1 Axes>"
      ]
     },
     "metadata": {
      "needs_background": "light"
     },
     "output_type": "display_data"
    }
   ],
   "source": [
    "# Построим гистограмму\n",
    "plt.figure(figsize = (12,7))\n",
    "estate_data['average_distance_to_school'].hist(bins=20);"
   ]
  },
  {
   "cell_type": "code",
   "execution_count": 742,
   "metadata": {},
   "outputs": [],
   "source": [
    "# На основе гистограммы выяснилось, что распределение имеет правый хвост. "
   ]
  },
  {
   "cell_type": "code",
   "execution_count": 743,
   "metadata": {},
   "outputs": [],
   "source": [
    "\n",
    "estate_data.drop('schools', axis = 1, inplace = True)"
   ]
  },
  {
   "cell_type": "markdown",
   "metadata": {},
   "source": [
    "### Sqrt"
   ]
  },
  {
   "cell_type": "code",
   "execution_count": 744,
   "metadata": {},
   "outputs": [
    {
     "data": {
      "text/plain": [
       "17544"
      ]
     },
     "execution_count": 744,
     "metadata": {},
     "output_type": "execute_result"
    }
   ],
   "source": [
    "# Определим количество уникальных значений\n",
    "estate_data.sqft.nunique()"
   ]
  },
  {
   "cell_type": "code",
   "execution_count": 745,
   "metadata": {},
   "outputs": [
    {
     "data": {
      "text/plain": [
       "0             2259\n",
       "1,200 sqft     461\n",
       "1,000 sqft     340\n",
       "1,800 sqft     338\n",
       "1,500 sqft     329\n",
       "1,100 sqft     321\n",
       "2,000 sqft     308\n",
       "1,400 sqft     298\n",
       "1,600 sqft     284\n",
       "1,440 sqft     249\n",
       "1,300 sqft     243\n",
       "960 sqft       235\n",
       "2,400 sqft     228\n",
       "2,200 sqft     224\n",
       "-- sqft        217\n",
       "2,100 sqft     195\n",
       "800 sqft       195\n",
       "3,000 sqft     194\n",
       "900 sqft       194\n",
       "1,152 sqft     191\n",
       "1,120 sqft     189\n",
       "1,344 sqft     188\n",
       "1,320 sqft     181\n",
       "1,700 sqft     175\n",
       "2,500 sqft     174\n",
       "1,250 sqft     170\n",
       "1,900 sqft     166\n",
       "1,056 sqft     163\n",
       "1,080 sqft     156\n",
       "1,350 sqft     156\n",
       "2,300 sqft     155\n",
       "1,248 sqft     151\n",
       "1,296 sqft     150\n",
       "1,260 sqft     150\n",
       "1,450 sqft     147\n",
       "1,650 sqft     144\n",
       "1,050 sqft     143\n",
       "850 sqft       142\n",
       "1,680 sqft     142\n",
       "1,008 sqft     136\n",
       "2,600 sqft     133\n",
       "840 sqft       130\n",
       "950 sqft       129\n",
       "1,170 sqft     128\n",
       "1,040 sqft     127\n",
       "1,560 sqft     126\n",
       "1,512 sqft     119\n",
       "1,280 sqft     119\n",
       "--             118\n",
       "1,750 sqft     118\n",
       "Name: sqft, dtype: int64"
      ]
     },
     "execution_count": 745,
     "metadata": {},
     "output_type": "execute_result"
    }
   ],
   "source": [
    "estate_data.sqft.value_counts()[:50]"
   ]
  },
  {
   "cell_type": "code",
   "execution_count": 746,
   "metadata": {},
   "outputs": [],
   "source": [
    "#Преобразуем столбец в числовой тип данных и заполним пропуски и значения, которые будем считать пропусками, \n",
    "#средним арифметическим. Пропусками также будем считать значения '0', '--' и '-- sqft'. \n",
    "#Сначала отфильтруем пропуски и все значения, которые считаем пропусками, затем преобразуем столбец в числовой формат,\n",
    "#переведём все значения в квадратные метры (m^2) и посчитаем медиану.\n",
    "\n",
    "\n",
    "pattern = re.compile('\\d+[,]?\\d+')"
   ]
  },
  {
   "cell_type": "code",
   "execution_count": 747,
   "metadata": {},
   "outputs": [],
   "source": [
    "# Отфильтруем все значения, которые считаются пропусками\n",
    "\n",
    "sub_df = estate_data[(estate_data.sqft != '0') & (estate_data.sqft != '--') & (estate_data.sqft != '-- sqft') & (pd.isna(estate_data.sqft) != True)]"
   ]
  },
  {
   "cell_type": "code",
   "execution_count": 748,
   "metadata": {},
   "outputs": [
    {
     "name": "stderr",
     "output_type": "stream",
     "text": [
      "<ipython-input-748-cf96bfde7c39>:5: SettingWithCopyWarning: \n",
      "A value is trying to be set on a copy of a slice from a DataFrame\n",
      "\n",
      "See the caveats in the documentation: https://pandas.pydata.org/pandas-docs/stable/user_guide/indexing.html#returning-a-view-versus-a-copy\n",
      "  sub_df['sqft'].loc[i] = pattern.findall(sub_df.sqft.loc[i])[0]\n",
      "C:\\Users\\User\\anaconda3\\lib\\site-packages\\pandas\\core\\frame.py:3990: SettingWithCopyWarning: \n",
      "A value is trying to be set on a copy of a slice from a DataFrame\n",
      "\n",
      "See the caveats in the documentation: https://pandas.pydata.org/pandas-docs/stable/user_guide/indexing.html#returning-a-view-versus-a-copy\n",
      "  return super().drop(\n"
     ]
    }
   ],
   "source": [
    "# Выделим числовое значение\n",
    "\n",
    "for i in sub_df.index:\n",
    "    if len(pattern.findall(sub_df.sqft.loc[i])) != 0:\n",
    "        sub_df['sqft'].loc[i] = pattern.findall(sub_df.sqft.loc[i])[0]\n",
    "    else:\n",
    "        sub_df.drop(i, axis = 0, inplace = True)"
   ]
  },
  {
   "cell_type": "code",
   "execution_count": 749,
   "metadata": {},
   "outputs": [
    {
     "name": "stderr",
     "output_type": "stream",
     "text": [
      "<ipython-input-749-bfe2b6654c6c>:3: SettingWithCopyWarning: \n",
      "A value is trying to be set on a copy of a slice from a DataFrame.\n",
      "Try using .loc[row_indexer,col_indexer] = value instead\n",
      "\n",
      "See the caveats in the documentation: https://pandas.pydata.org/pandas-docs/stable/user_guide/indexing.html#returning-a-view-versus-a-copy\n",
      "  sub_df['sqft'] = sub_df['sqft'].apply(lambda x: x.replace(',', ''))\n"
     ]
    }
   ],
   "source": [
    "# Удаляем запятые\n",
    "\n",
    "sub_df['sqft'] = sub_df['sqft'].apply(lambda x: x.replace(',', ''))"
   ]
  },
  {
   "cell_type": "code",
   "execution_count": 750,
   "metadata": {},
   "outputs": [
    {
     "name": "stderr",
     "output_type": "stream",
     "text": [
      "<ipython-input-750-4fde386a8d43>:3: SettingWithCopyWarning: \n",
      "A value is trying to be set on a copy of a slice from a DataFrame.\n",
      "Try using .loc[row_indexer,col_indexer] = value instead\n",
      "\n",
      "See the caveats in the documentation: https://pandas.pydata.org/pandas-docs/stable/user_guide/indexing.html#returning-a-view-versus-a-copy\n",
      "  sub_df['sqft'] = sub_df['sqft'].apply(lambda x: int(x))\n"
     ]
    }
   ],
   "source": [
    "# Переводим в числовой формат\n",
    "\n",
    "sub_df['sqft'] = sub_df['sqft'].apply(lambda x: int(x))"
   ]
  },
  {
   "cell_type": "code",
   "execution_count": 751,
   "metadata": {},
   "outputs": [
    {
     "data": {
      "text/plain": [
       "1888"
      ]
     },
     "execution_count": 751,
     "metadata": {},
     "output_type": "execute_result"
    }
   ],
   "source": [
    "# Считаем среднее по столбцу\n",
    "round(sub_df['sqft'].median())"
   ]
  },
  {
   "cell_type": "code",
   "execution_count": 752,
   "metadata": {},
   "outputs": [],
   "source": [
    "# Заменим пропуски и значения '0', '--', '--sqrt' на среднее значение по столбцу\n",
    "\n",
    "estate_data['sqft'] = estate_data['sqft'].apply(lambda x: '1888' if (x == '0') | (x == '--') | (x == '-- sqft') | (pd.isna(x) == True) else x)"
   ]
  },
  {
   "cell_type": "code",
   "execution_count": 753,
   "metadata": {},
   "outputs": [],
   "source": [
    "# Производим те же операции для получения числового формата с размерностью m^2\n",
    "pattern = re.compile('\\d+[,]?\\d+')"
   ]
  },
  {
   "cell_type": "code",
   "execution_count": 754,
   "metadata": {},
   "outputs": [],
   "source": [
    "# Выделяем числовые значения\n",
    "\n",
    "estate_data['sqft'] = estate_data['sqft'].apply(lambda x: '1888' if len(pattern.findall(x)) == 0 else pattern.findall(x)[0])"
   ]
  },
  {
   "cell_type": "code",
   "execution_count": 755,
   "metadata": {},
   "outputs": [],
   "source": [
    "# Убираем запятые\n",
    "estate_data['sqft'] = estate_data['sqft'].apply(lambda x: x.replace(',', ''))"
   ]
  },
  {
   "cell_type": "code",
   "execution_count": 756,
   "metadata": {},
   "outputs": [],
   "source": [
    "# Переводим в числовой формат\n",
    "estate_data['sqft'] = estate_data['sqft'].apply(lambda x: int(x))"
   ]
  },
  {
   "cell_type": "code",
   "execution_count": 757,
   "metadata": {},
   "outputs": [],
   "source": [
    "# Переводим все к размерности [кв.м.]\n",
    "\n",
    "estate_data['sqm'] = estate_data['sqft'].apply(lambda x: round(x/10.764))"
   ]
  },
  {
   "cell_type": "code",
   "execution_count": 758,
   "metadata": {},
   "outputs": [],
   "source": [
    "# Удаляем столбец sqft\n",
    "estate_data.drop('sqft', axis = 1, inplace = True)"
   ]
  },
  {
   "cell_type": "code",
   "execution_count": 759,
   "metadata": {},
   "outputs": [
    {
     "data": {
      "image/png": "[encoded data removed]",
      "text/plain": [
       "<Figure size 864x504 with 1 Axes>"
      ]
     },
     "metadata": {
      "needs_background": "light"
     },
     "output_type": "display_data"
    }
   ],
   "source": [
    "# Строим гистограмму распределения\n",
    "plt.figure(figsize = (12,7))\n",
    "estate_data.sqm.hist();"
   ]
  },
  {
   "cell_type": "code",
   "execution_count": 760,
   "metadata": {},
   "outputs": [
    {
     "data": {
      "text/plain": [
       "10157       398\n",
       "109360      398\n",
       "95102       398\n",
       "159249      398\n",
       "134370      398\n",
       "          ...  \n",
       "148245    66741\n",
       "89990     66741\n",
       "37622     66741\n",
       "53484     73774\n",
       "155566    84998\n",
       "Name: sqm, Length: 7132, dtype: int64"
      ]
     },
     "execution_count": 760,
     "metadata": {},
     "output_type": "execute_result"
    }
   ],
   "source": [
    "# Отфильтруем выбросы.\n",
    "\n",
    "estate_data.sqm.loc[outliers_iqr(estate_data.sqm)].sort_values()"
   ]
  },
  {
   "cell_type": "code",
   "execution_count": 761,
   "metadata": {},
   "outputs": [],
   "source": [
    "# Удаление выбросов\n",
    "\n",
    "estate_data.drop(outliers_iqr(estate_data.sqm), inplace = True)\n",
    "estate_data.reset_index(inplace = True, drop = True)"
   ]
  },
  {
   "cell_type": "code",
   "execution_count": 762,
   "metadata": {},
   "outputs": [
    {
     "data": {
      "image/png": "[encoded data removed]",
      "text/plain": [
       "<Figure size 864x504 with 1 Axes>"
      ]
     },
     "metadata": {
      "needs_background": "light"
     },
     "output_type": "display_data"
    }
   ],
   "source": [
    "plt.figure(figsize = (12,7))\n",
    "estate_data.sqm.hist(bins=20);"
   ]
  },
  {
   "cell_type": "code",
   "execution_count": 763,
   "metadata": {},
   "outputs": [
    {
     "data": {
      "text/plain": [
       "3 Beds        35704\n",
       "4 Beds        22640\n",
       "2 Beds        14546\n",
       "3             13995\n",
       "4              8762\n",
       "3 bd           8683\n",
       "Baths          6394\n",
       "4 bd           5421\n",
       "5 Beds         5218\n",
       "2              5135\n",
       "2 bd           3444\n",
       "3.0            3010\n",
       "5              2020\n",
       "4.0            1793\n",
       "6 Beds         1376\n",
       "5 bd           1298\n",
       "1               933\n",
       "2.0             674\n",
       "1 bd            611\n",
       "7 Beds          361\n",
       "-- bd           360\n",
       "6               331\n",
       "8 Beds          311\n",
       "5.0             266\n",
       "6 bd            232\n",
       "Bath            203\n",
       "0               196\n",
       "9 Beds          134\n",
       "6.0              79\n",
       "7                63\n",
       "                 62\n",
       "1.0              61\n",
       "10 Beds          56\n",
       "8                45\n",
       "7 bd             39\n",
       "8 bd             34\n",
       "12 Beds          29\n",
       "0.0              21\n",
       "11 Beds          20\n",
       "9                11\n",
       "9 bd             11\n",
       "8.0               9\n",
       "7.0               6\n",
       "10 bd             6\n",
       "10                5\n",
       "16 Beds           3\n",
       "8,276 sqft        3\n",
       "11 bd             3\n",
       "12                2\n",
       "10.0              2\n",
       "Name: beds, dtype: int64"
      ]
     },
     "execution_count": 763,
     "metadata": {},
     "output_type": "execute_result"
    }
   ],
   "source": [
    "estate_data.beds.value_counts()[:50]"
   ]
  },
  {
   "cell_type": "markdown",
   "metadata": {},
   "source": [
    "Признак beds является слишком грязным с большим количеством пропуском, поэтому его стоит удалить"
   ]
  },
  {
   "cell_type": "code",
   "execution_count": 764,
   "metadata": {},
   "outputs": [],
   "source": [
    "estate_data.drop('beds', axis = 1, inplace = True)"
   ]
  },
  {
   "cell_type": "markdown",
   "metadata": {},
   "source": [
    "### Target"
   ]
  },
  {
   "cell_type": "code",
   "execution_count": null,
   "metadata": {},
   "outputs": [],
   "source": []
  },
  {
   "cell_type": "code",
   "execution_count": 765,
   "metadata": {},
   "outputs": [
    {
     "data": {
      "text/plain": [
       "22885"
      ]
     },
     "execution_count": 765,
     "metadata": {},
     "output_type": "execute_result"
    }
   ],
   "source": [
    "# число уникальных значений в target \n",
    "\n",
    "estate_data.target.nunique()"
   ]
  },
  {
   "cell_type": "code",
   "execution_count": 766,
   "metadata": {},
   "outputs": [
    {
     "data": {
      "text/plain": [
       "707"
      ]
     },
     "execution_count": 766,
     "metadata": {},
     "output_type": "execute_result"
    }
   ],
   "source": [
    "estate_data.target.isna().sum()"
   ]
  },
  {
   "cell_type": "code",
   "execution_count": 767,
   "metadata": {},
   "outputs": [
    {
     "data": {
      "text/plain": [
       "$225,000    781\n",
       "$275,000    715\n",
       "$249,900    711\n",
       "$299,900    705\n",
       "$199,900    695\n",
       "$325,000    657\n",
       "$250,000    650\n",
       "$350,000    619\n",
       "$399,000    605\n",
       "$215,000    588\n",
       "$299,000    579\n",
       "$235,000    577\n",
       "$375,000    574\n",
       "$175,000    574\n",
       "$425,000    567\n",
       "$399,900    552\n",
       "$265,000    551\n",
       "$239,900    542\n",
       "$165,000    537\n",
       "$185,000    536\n",
       "$285,000    533\n",
       "$349,900    529\n",
       "$179,900    518\n",
       "$315,000    518\n",
       "$169,900    513\n",
       "$450,000    505\n",
       "$189,900    499\n",
       "$499,000    498\n",
       "$149,900    497\n",
       "$269,900    493\n",
       "$259,900    489\n",
       "$245,000    487\n",
       "$159,900    473\n",
       "$295,000    458\n",
       "$210,000    457\n",
       "$220,000    454\n",
       "$229,900    443\n",
       "$279,900    432\n",
       "$289,900    427\n",
       "$195,000    425\n",
       "$150,000    425\n",
       "$219,900    424\n",
       "$139,900    421\n",
       "$599,000    409\n",
       "$145,000    406\n",
       "$1,000      404\n",
       "$125,000    396\n",
       "$300,000    394\n",
       "$525,000    392\n",
       "$475,000    391\n",
       "Name: target, dtype: int64"
      ]
     },
     "execution_count": 767,
     "metadata": {},
     "output_type": "execute_result"
    }
   ],
   "source": [
    "estate_data.target.value_counts()[:50]"
   ]
  },
  {
   "cell_type": "code",
   "execution_count": 768,
   "metadata": {},
   "outputs": [],
   "source": [
    "# Преобразуем столбец в числовой тип данных и заполним пропуски медианой. \n",
    "# Сначала отфильтруем пропуски, затем преобразуем столбец в числовой формат и посчитаем среднее арифметическое.\n",
    "\n",
    "pattern = re.compile('\\d+[,]?\\d+')"
   ]
  },
  {
   "cell_type": "code",
   "execution_count": 769,
   "metadata": {},
   "outputs": [],
   "source": [
    "# Отфильтруем пропуски\n",
    "sub_df = estate_data[pd.isna(estate_data.target) != True]"
   ]
  },
  {
   "cell_type": "code",
   "execution_count": 770,
   "metadata": {},
   "outputs": [
    {
     "name": "stderr",
     "output_type": "stream",
     "text": [
      "<ipython-input-770-0e40447c8c5b>:4: SettingWithCopyWarning: \n",
      "A value is trying to be set on a copy of a slice from a DataFrame\n",
      "\n",
      "See the caveats in the documentation: https://pandas.pydata.org/pandas-docs/stable/user_guide/indexing.html#returning-a-view-versus-a-copy\n",
      "  sub_df['target'].loc[i] = pattern.findall(sub_df.target.loc[i])[0]\n"
     ]
    }
   ],
   "source": [
    "# Выделим числовое значение\n",
    "for i in sub_df.index:\n",
    "    if len(pattern.findall(sub_df.target.loc[i])) != 0:\n",
    "        sub_df['target'].loc[i] = pattern.findall(sub_df.target.loc[i])[0]\n",
    "    else:\n",
    "        sub_df.drop(i, axis = 0, inplace = True)"
   ]
  },
  {
   "cell_type": "code",
   "execution_count": 771,
   "metadata": {},
   "outputs": [
    {
     "name": "stderr",
     "output_type": "stream",
     "text": [
      "<ipython-input-771-90c05b1dbaab>:2: SettingWithCopyWarning: \n",
      "A value is trying to be set on a copy of a slice from a DataFrame.\n",
      "Try using .loc[row_indexer,col_indexer] = value instead\n",
      "\n",
      "See the caveats in the documentation: https://pandas.pydata.org/pandas-docs/stable/user_guide/indexing.html#returning-a-view-versus-a-copy\n",
      "  sub_df['target'] = sub_df['target'].apply(lambda x: x.replace(',', ''))\n"
     ]
    }
   ],
   "source": [
    "# Убираем запятые\n",
    "sub_df['target'] = sub_df['target'].apply(lambda x: x.replace(',', ''))\n"
   ]
  },
  {
   "cell_type": "code",
   "execution_count": 772,
   "metadata": {},
   "outputs": [
    {
     "name": "stderr",
     "output_type": "stream",
     "text": [
      "<ipython-input-772-d404f2e5ad37>:2: SettingWithCopyWarning: \n",
      "A value is trying to be set on a copy of a slice from a DataFrame.\n",
      "Try using .loc[row_indexer,col_indexer] = value instead\n",
      "\n",
      "See the caveats in the documentation: https://pandas.pydata.org/pandas-docs/stable/user_guide/indexing.html#returning-a-view-versus-a-copy\n",
      "  sub_df['target'] = sub_df['target'].apply(lambda x: int(x))\n"
     ]
    }
   ],
   "source": [
    "# Переводим в числовой формат\n",
    "sub_df['target'] = sub_df['target'].apply(lambda x: int(x))"
   ]
  },
  {
   "cell_type": "code",
   "execution_count": 773,
   "metadata": {},
   "outputs": [
    {
     "data": {
      "text/plain": [
       "279000"
      ]
     },
     "execution_count": 773,
     "metadata": {},
     "output_type": "execute_result"
    }
   ],
   "source": [
    "# Подсчитаем среднее значение по столбцу\n",
    "round(sub_df['target'].median())"
   ]
  },
  {
   "cell_type": "code",
   "execution_count": 774,
   "metadata": {},
   "outputs": [],
   "source": [
    "# Заполним пропуски на '279000'\n",
    "estate_data['target'] = estate_data['target'].fillna('279000')"
   ]
  },
  {
   "cell_type": "code",
   "execution_count": 775,
   "metadata": {},
   "outputs": [],
   "source": [
    "# Проделаем операции для получения числового формата\n",
    "\n",
    "pattern = re.compile('\\d+[,]?\\d+')"
   ]
  },
  {
   "cell_type": "code",
   "execution_count": 776,
   "metadata": {},
   "outputs": [],
   "source": [
    "# Выделяем цифровой показатель\n",
    "estate_data['target'] = estate_data['target'].apply(lambda x: '279000' if len(pattern.findall(x)) == 0 else pattern.findall(x)[0])"
   ]
  },
  {
   "cell_type": "code",
   "execution_count": 777,
   "metadata": {},
   "outputs": [],
   "source": [
    "# Убираем запятые\n",
    "estate_data['target'] = estate_data['target'].apply(lambda x: x.replace(',', ''))"
   ]
  },
  {
   "cell_type": "code",
   "execution_count": 778,
   "metadata": {},
   "outputs": [],
   "source": [
    "# Переводим в числовой формат\n",
    "estate_data['target'] = estate_data['target'].apply(lambda x: int(x))"
   ]
  },
  {
   "cell_type": "code",
   "execution_count": 779,
   "metadata": {},
   "outputs": [
    {
     "data": {
      "image/png": "[encoded data removed]",
      "text/plain": [
       "<Figure size 864x504 with 1 Axes>"
      ]
     },
     "metadata": {
      "needs_background": "light"
     },
     "output_type": "display_data"
    }
   ],
   "source": [
    "# Гистограмму распределения признака:\n",
    "\n",
    "plt.figure(figsize = (12,7))\n",
    "estate_data.target.hist();"
   ]
  },
  {
   "cell_type": "code",
   "execution_count": 780,
   "metadata": {},
   "outputs": [
    {
     "data": {
      "text/plain": [
       "22262     767690\n",
       "136342    767932\n",
       "57175     768000\n",
       "138121    768000\n",
       "53874     768000\n",
       "           ...  \n",
       "70770     999999\n",
       "129216    999999\n",
       "67312     999999\n",
       "119708    999999\n",
       "152006    999999\n",
       "Name: target, Length: 6225, dtype: int64"
      ]
     },
     "execution_count": 780,
     "metadata": {},
     "output_type": "execute_result"
    }
   ],
   "source": [
    "# Отфильтруем выбросы\n",
    "\n",
    "estate_data.target.loc[outliers_iqr(estate_data.target)].sort_values()"
   ]
  },
  {
   "cell_type": "code",
   "execution_count": 781,
   "metadata": {},
   "outputs": [],
   "source": [
    "# Удалим выбросы\n",
    "estate_data = estate_data.drop(outliers_iqr(estate_data.target))\n",
    "estate_data.reset_index(inplace = True, drop = True)"
   ]
  },
  {
   "cell_type": "code",
   "execution_count": 782,
   "metadata": {},
   "outputs": [
    {
     "data": {
      "text/plain": [
       "<matplotlib.axes._subplots.AxesSubplot at 0x22891157370>"
      ]
     },
     "execution_count": 782,
     "metadata": {},
     "output_type": "execute_result"
    },
    {
     "data": {
      "image/png": "[encoded data removed]",
      "text/plain": [
       "<Figure size 864x504 with 1 Axes>"
      ]
     },
     "metadata": {
      "needs_background": "light"
     },
     "output_type": "display_data"
    }
   ],
   "source": [
    "# Построим гистограмму\n",
    "\n",
    "plt.figure(figsize = (12,7))\n",
    "estate_data.target.hist()"
   ]
  },
  {
   "cell_type": "code",
   "execution_count": 783,
   "metadata": {},
   "outputs": [
    {
     "data": {
      "text/plain": [
       "(150703, 17)"
      ]
     },
     "execution_count": 783,
     "metadata": {},
     "output_type": "execute_result"
    }
   ],
   "source": [
    "estate_data.shape"
   ]
  },
  {
   "cell_type": "code",
   "execution_count": 784,
   "metadata": {},
   "outputs": [
    {
     "data": {
      "text/plain": [
       "(150703, 17)"
      ]
     },
     "execution_count": 784,
     "metadata": {},
     "output_type": "execute_result"
    }
   ],
   "source": [
    "estate_data.shape"
   ]
  },
  {
   "cell_type": "code",
   "execution_count": null,
   "metadata": {},
   "outputs": [],
   "source": []
  },
  {
   "cell_type": "markdown",
   "metadata": {},
   "source": [
    "### baths"
   ]
  },
  {
   "cell_type": "code",
   "execution_count": 785,
   "metadata": {},
   "outputs": [
    {
     "data": {
      "text/plain": [
       "2 Baths         32603\n",
       "3 Baths         22303\n",
       "2                8381\n",
       "4 Baths          7305\n",
       "Bathrooms: 2     6567\n",
       "2.0              6201\n",
       "3                4642\n",
       "Bathrooms: 3     4610\n",
       "3.0              4431\n",
       "2.5 Baths        3747\n",
       "2.5              2765\n",
       "1                2033\n",
       "Bathrooms: 1     2028\n",
       "2 ba             1982\n",
       "0                1974\n",
       "1.0              1717\n",
       "4.0              1670\n",
       "4                1427\n",
       "3.5 Baths        1358\n",
       "3 ba             1350\n",
       "Bathrooms: 4     1330\n",
       "5 Baths          1247\n",
       "3.5              1000\n",
       "3,000             957\n",
       "1,500             950\n",
       "2,000             796\n",
       "1,750             700\n",
       "2,250             671\n",
       "1,250             611\n",
       "1.5               602\n",
       "1 ba              511\n",
       "4 ba              397\n",
       "2,750             345\n",
       "2,500             313\n",
       "6 Baths           312\n",
       "-- baths          274\n",
       "5                 244\n",
       "5.0               228\n",
       "Bathrooms: 5      225\n",
       "1,000             223\n",
       "3,500             202\n",
       "4.5 Baths         178\n",
       "4.5               159\n",
       "1.5 Baths         137\n",
       "750               132\n",
       "~                 101\n",
       "7 Baths            99\n",
       "5,000              70\n",
       "1.75 Baths         69\n",
       "5 ba               67\n",
       "Name: baths, dtype: int64"
      ]
     },
     "execution_count": 785,
     "metadata": {},
     "output_type": "execute_result"
    }
   ],
   "source": [
    "estate_data.baths.value_counts()[:50]"
   ]
  },
  {
   "cell_type": "code",
   "execution_count": 786,
   "metadata": {},
   "outputs": [
    {
     "data": {
      "text/plain": [
       "array(['3 Baths', nan, '3', 'Bathrooms: 2', '1,750', '4 Baths', '2 ba',\n",
       "       '2 Baths', '3.0', 'Bathrooms: 1', '2.1 Baths', '2.5 Baths', '1',\n",
       "       'Bathrooms: 3', '2.0', 'Bathrooms: 4', '2', '3 ba', '5.5 Baths',\n",
       "       '1.0', '1.5', '6 Baths', '2.5', '3.5 Baths', '8 Baths', '3.5 ba',\n",
       "       '0', '2,000', '1,500', '1,250', '3.5', '1 ba', '2,250', '4.0',\n",
       "       '1.5 Baths', '2,750', '4', '~', '3,000', '4.5 Baths', '750',\n",
       "       '1.5 ba', 'Bathrooms: 6', '4 ba', '2.5+', '4.5', '5 Baths',\n",
       "       '0 / 0', '1,000', 'Sq. Ft. ', '-- baths', '5', 'Bathrooms: 5', '6',\n",
       "       '5,000', '5.0', '3,500', '1.1 Baths', '2,500', '19 Baths',\n",
       "       '13 Baths', 'Bathrooms: 7', '1.75 Baths', '12 Baths', '2.5 ba',\n",
       "       'Bathrooms: 241', '6.0', '7 Baths', '8.0', '6.5', '5 ba', '1.5+',\n",
       "       '7,500+', '7', '7 ba', '4,000', '5.5', '2.75 Baths', '4.5+',\n",
       "       '2.25 Baths', '3.1 Baths', '0.00', '24 Baths', '3.5+', '10 Baths',\n",
       "       '0.0', '10', 'Bathrooms: 8', '2 baths', '3.75 Baths', '6 ba',\n",
       "       '5.5+', '12 ba', 'Bathrooms: 11', 'Bathrooms: SemiMod', '2.25 ba',\n",
       "       '7.0', '3.3 Baths', '1.25 Baths', '8', '20', '3.25 Baths',\n",
       "       '3 baths', '11 Baths', '14 Baths', '18.0', '4.1 Baths', '4.5 ba',\n",
       "       '9 Baths', '1.8 Baths', '30 Baths', '6.5 Baths', '4.25 Baths',\n",
       "       '15 Baths', '2.8 Baths', 'Bathrooms: 9', '0.75 Baths', '1.75 ba',\n",
       "       'Bathrooms: 12', 'Bathrooms: 16', '20 Baths'], dtype=object)"
      ]
     },
     "execution_count": 786,
     "metadata": {},
     "output_type": "execute_result"
    }
   ],
   "source": [
    "# Посмотрим уникальные значения в столбце\n",
    "estate_data['baths'].unique()"
   ]
  },
  {
   "cell_type": "code",
   "execution_count": 787,
   "metadata": {},
   "outputs": [],
   "source": [
    "# Преобразование данных о ванной\n",
    "\n",
    "estate_data['baths'] = estate_data['baths'].fillna('1000')"
   ]
  },
  {
   "cell_type": "code",
   "execution_count": 788,
   "metadata": {},
   "outputs": [],
   "source": [
    "#Преобразуем данный признак в числовой. Он будет содержать количество полных ванных комнат в доме. \n",
    "#Для этого сначала обработаем пропуски и значения '-- baths', '—', 'Sq. Ft. ', '~', которые не содержат цифр и фактически означают пропущенные значения. \n",
    "#Заменим эти значения на '1000', и пропуски так же заполним значением '1000'. \n",
    "#Затем удалим непонятные значения, представленные в малом количестве, такие как: '2-1 / 2-1 / 1-1 / 1-1', '1 / 1-0 / 1-0 / 1-0', '1 / 1 / 1 / 1', '3-1 / 2-2', 'Bathrooms: SemiMod', 'Bathrooms: 241', '1-0 / 1-0 / 1', '116 / 116 / 116', '750'.\n",
    "\n",
    "estate_data['baths'] = estate_data['baths'].apply(lambda x: '1000' if (x=='-- baths') | (x=='—') | (x=='Sq. Ft. ') | (x=='~') else x)\n",
    "estate_data = estate_data.drop(estate_data[(estate_data.baths=='2-1 / 2-1 / 1-1 / 1-1') | (estate_data.baths=='1 / 1-0 / 1-0 / 1-0') | (estate_data.baths=='1 / 1 / 1 / 1') | \\\n",
    "                (estate_data.baths=='3-1 / 2-2') | (estate_data.baths=='Bathrooms: SemiMod') | (estate_data.baths=='Bathrooms: 241') | \\\n",
    "                (estate_data.baths=='1-0 / 1-0 / 1') | (estate_data.baths=='116 / 116 / 116') | (estate_data.baths=='750')].index)\n"
   ]
  },
  {
   "cell_type": "code",
   "execution_count": 789,
   "metadata": {},
   "outputs": [],
   "source": [
    "estate_data.reset_index(inplace = True, drop = True)"
   ]
  },
  {
   "cell_type": "code",
   "execution_count": 790,
   "metadata": {},
   "outputs": [
    {
     "data": {
      "text/plain": [
       "array(['3 Baths', '1000', '3', 'Bathrooms: 2', '1,750', '4 Baths', '2 ba',\n",
       "       '2 Baths', '3.0', 'Bathrooms: 1', '2.1 Baths', '2.5 Baths', '1',\n",
       "       'Bathrooms: 3', '2.0', 'Bathrooms: 4', '2', '3 ba', '5.5 Baths',\n",
       "       '1.0', '1.5', '6 Baths', '2.5', '3.5 Baths', '8 Baths', '3.5 ba',\n",
       "       '0', '2,000', '1,500', '1,250', '3.5', '1 ba', '2,250', '4.0',\n",
       "       '1.5 Baths', '2,750', '4', '3,000', '4.5 Baths', '1.5 ba',\n",
       "       'Bathrooms: 6', '4 ba', '2.5+', '4.5', '5 Baths', '0 / 0', '1,000',\n",
       "       '5', 'Bathrooms: 5', '6', '5,000', '5.0', '3,500', '1.1 Baths',\n",
       "       '2,500', '19 Baths', '13 Baths', 'Bathrooms: 7', '1.75 Baths',\n",
       "       '12 Baths', '2.5 ba', '6.0', '7 Baths', '8.0', '6.5', '5 ba',\n",
       "       '1.5+', '7,500+', '7', '7 ba', '4,000', '5.5', '2.75 Baths',\n",
       "       '4.5+', '2.25 Baths', '3.1 Baths', '0.00', '24 Baths', '3.5+',\n",
       "       '10 Baths', '0.0', '10', 'Bathrooms: 8', '2 baths', '3.75 Baths',\n",
       "       '6 ba', '5.5+', '12 ba', 'Bathrooms: 11', '2.25 ba', '7.0',\n",
       "       '3.3 Baths', '1.25 Baths', '8', '20', '3.25 Baths', '3 baths',\n",
       "       '11 Baths', '14 Baths', '18.0', '4.1 Baths', '4.5 ba', '9 Baths',\n",
       "       '1.8 Baths', '30 Baths', '6.5 Baths', '4.25 Baths', '15 Baths',\n",
       "       '2.8 Baths', 'Bathrooms: 9', '0.75 Baths', '1.75 ba',\n",
       "       'Bathrooms: 12', 'Bathrooms: 16', '20 Baths'], dtype=object)"
      ]
     },
     "execution_count": 790,
     "metadata": {},
     "output_type": "execute_result"
    }
   ],
   "source": [
    "estate_data.baths.unique()"
   ]
  },
  {
   "cell_type": "code",
   "execution_count": 791,
   "metadata": {},
   "outputs": [],
   "source": [
    "# Создадим признак bathrooms, который будет содержать количество полных ванных комнат.\n",
    "\n",
    "pattern = re.compile('\\d+')\n",
    "estate_data['bathrooms'] = estate_data['baths'].apply(lambda x: int(pattern.findall(x)[0]))"
   ]
  },
  {
   "cell_type": "code",
   "execution_count": 792,
   "metadata": {},
   "outputs": [
    {
     "data": {
      "text/plain": [
       "Int64Index([   0,    1,    2,    3,    4,    5,    6,    7,    8,    9,   10,\n",
       "              11,   12,   13,   14,   15,   16,   18,   19,   20,   24,   30,\n",
       "            1000],\n",
       "           dtype='int64')"
      ]
     },
     "execution_count": 792,
     "metadata": {},
     "output_type": "execute_result"
    }
   ],
   "source": [
    "estate_data['bathrooms'].value_counts().index.sort_values()"
   ]
  },
  {
   "cell_type": "code",
   "execution_count": 793,
   "metadata": {},
   "outputs": [],
   "source": [
    "# сделаем данный признак категориальным, разбив количество ванных комнат по диапазону.\n",
    "# отсутствующие значения закодируем значением 'no_provided'\n",
    "for i in estate_data.index:\n",
    "    if estate_data['bathrooms'].loc[i] == 0:\n",
    "        estate_data['bathrooms'].loc[i] = 'no'\n",
    "    elif estate_data['bathrooms'].loc[i]  == 1:\n",
    "        estate_data['bathrooms'].loc[i] = '1'\n",
    "    elif estate_data['bathrooms'].loc[i] == 2:\n",
    "        estate_data['bathrooms'].loc[i] = '2'\n",
    "    elif (estate_data['bathrooms'].loc[i] > 2) & (estate_data['bathrooms'].loc[i] < 1000):\n",
    "        estate_data['bathrooms'].loc[i] = 'more_than_2'\n",
    "    elif estate_data['bathrooms'].loc[i] == 1000:\n",
    "        estate_data['bathrooms'].loc[i] = 'no_provided'"
   ]
  },
  {
   "cell_type": "code",
   "execution_count": 794,
   "metadata": {},
   "outputs": [],
   "source": [
    "# Удалим столбец baths\n",
    "estate_data.drop('baths', axis = 1, inplace = True)"
   ]
  },
  {
   "cell_type": "code",
   "execution_count": 795,
   "metadata": {},
   "outputs": [
    {
     "data": {
      "text/plain": [
       "458"
      ]
     },
     "execution_count": 795,
     "metadata": {},
     "output_type": "execute_result"
    }
   ],
   "source": [
    "estate_data['propertyType'].nunique()"
   ]
  },
  {
   "cell_type": "code",
   "execution_count": 796,
   "metadata": {},
   "outputs": [
    {
     "data": {
      "text/plain": [
       "2625"
      ]
     },
     "execution_count": 796,
     "metadata": {},
     "output_type": "execute_result"
    }
   ],
   "source": [
    "estate_data['propertyType'].isna().sum()"
   ]
  },
  {
   "cell_type": "code",
   "execution_count": 797,
   "metadata": {},
   "outputs": [
    {
     "data": {
      "text/plain": [
       "single-family home                      55717\n",
       "Single Family                           32231\n",
       "Single Family Home                      10385\n",
       "condo                                   10058\n",
       "townhouse                                8682\n",
       "Condo                                    5126\n",
       "Townhouse                                3605\n",
       "Traditional                              3406\n",
       "multi-family                             2915\n",
       "Land                                     2050\n",
       "Condo/Townhome/Row Home/Co-Op            1611\n",
       "lot/land                                 1473\n",
       "mobile/manufactured                      1029\n",
       "Single Detached, Traditional              941\n",
       "Multi Family                              916\n",
       "coop                                      707\n",
       "Mobile / Manufactured                     648\n",
       "Contemporary/Modern                       638\n",
       "Ranch                                     463\n",
       "Contemporary                              446\n",
       "Single Detached                           416\n",
       "Multi-Family Home                         358\n",
       "Mfd/Mobile Home                           251\n",
       "Transitional                              210\n",
       "Florida                                   181\n",
       "Colonial                                  162\n",
       "SingleFamilyResidence                     159\n",
       "Other Style                               150\n",
       "Condo/Townhome, Traditional               143\n",
       "Condo/Townhome                            118\n",
       "Bungalow                                  110\n",
       "Contemporary/Modern, Traditional          104\n",
       "Cooperative                                98\n",
       "Condo/Townhome, Contemporary/Modern        90\n",
       "Craftsman                                  89\n",
       "Ranch, Traditional                         74\n",
       "Single Detached, Contemporary/Modern       73\n",
       "apartment                                  67\n",
       "Apartment                                  67\n",
       "Spanish/Mediterranean                      64\n",
       "Residential (<1 Acre)                      61\n",
       "Single Detached, Ranch                     58\n",
       "Traditional, Transitional                  57\n",
       "Mediterranean                              56\n",
       "Multiple Occupancy                         45\n",
       "2 Story                                    44\n",
       "Single Detached, Craftsman                 43\n",
       "1 Story                                    37\n",
       "Federal                                    35\n",
       "                                           34\n",
       "Name: propertyType, dtype: int64"
      ]
     },
     "execution_count": 797,
     "metadata": {},
     "output_type": "execute_result"
    }
   ],
   "source": [
    "estate_data['propertyType'].fillna('no_provided')\n",
    "estate_data['propertyType'].value_counts()[:50]"
   ]
  },
  {
   "cell_type": "markdown",
   "metadata": {},
   "source": [
    "### propertyType "
   ]
  },
  {
   "cell_type": "code",
   "execution_count": null,
   "metadata": {},
   "outputs": [],
   "source": []
  },
  {
   "cell_type": "code",
   "execution_count": 798,
   "metadata": {},
   "outputs": [],
   "source": [
    "# приведем значения столбца к нижнему регистру\n",
    "estate_data['propertyType'] = estate_data['propertyType'].apply(lambda x: str(x).lower())"
   ]
  },
  {
   "cell_type": "code",
   "execution_count": 799,
   "metadata": {},
   "outputs": [
    {
     "data": {
      "text/plain": [
       "single-family home                      55717\n",
       "single family                           32231\n",
       "condo                                   15184\n",
       "townhouse                               12287\n",
       "single family home                      10385\n",
       "traditional                              3406\n",
       "multi-family                             2925\n",
       "nan                                      2625\n",
       "land                                     2050\n",
       "condo/townhome/row home/co-op            1611\n",
       "lot/land                                 1473\n",
       "mobile/manufactured                      1029\n",
       "single detached, traditional              941\n",
       "multi family                              916\n",
       "coop                                      707\n",
       "mobile / manufactured                     648\n",
       "contemporary/modern                       638\n",
       "ranch                                     463\n",
       "contemporary                              446\n",
       "single detached                           416\n",
       "multi-family home                         358\n",
       "mfd/mobile home                           251\n",
       "transitional                              210\n",
       "florida                                   181\n",
       "colonial                                  162\n",
       "singlefamilyresidence                     159\n",
       "other style                               150\n",
       "condo/townhome, traditional               143\n",
       "apartment                                 134\n",
       "condo/townhome                            118\n",
       "bungalow                                  110\n",
       "contemporary/modern, traditional          104\n",
       "cooperative                                98\n",
       "condo/townhome, contemporary/modern        90\n",
       "craftsman                                  89\n",
       "ranch, traditional                         74\n",
       "single detached, contemporary/modern       73\n",
       "spanish/mediterranean                      64\n",
       "residential (<1 acre)                      61\n",
       "single detached, ranch                     58\n",
       "traditional, transitional                  57\n",
       "mediterranean                              56\n",
       "multiple occupancy                         45\n",
       "2 story                                    44\n",
       "single detached, craftsman                 43\n",
       "1 story                                    37\n",
       "federal                                    35\n",
       "                                           34\n",
       "other                                      29\n",
       "cape cod                                   28\n",
       "Name: propertyType, dtype: int64"
      ]
     },
     "execution_count": 799,
     "metadata": {},
     "output_type": "execute_result"
    }
   ],
   "source": [
    "estate_data['propertyType'].value_counts()[:50]"
   ]
  },
  {
   "cell_type": "code",
   "execution_count": 800,
   "metadata": {},
   "outputs": [],
   "source": [
    "# Приведем к единообразию некоторые значения.\n",
    "\n",
    "estate_data['propertyType'] = estate_data['propertyType'].apply(lambda x: 'single-family' if (x=='single family') | (x=='single family home') |\n",
    "                                             (x == 'single-family home') else x)\n",
    "estate_data['propertyType'] = estate_data['propertyType'].apply(lambda x: 'multi-family' if (x=='multi family') | (x == 'multi-family home') else x)\n",
    "estate_data['propertyType'] = estate_data['propertyType'].apply(lambda x: '1 story' if x=='one story' else x)\n",
    "estate_data['propertyType'] = estate_data['propertyType'].apply(lambda x: '2 stories' if (x=='2 story') | (x=='two story')  else x)\n",
    "estate_data['propertyType'] = estate_data['propertyType'].apply(lambda x: 'land' if x=='lot/land'  else x)"
   ]
  },
  {
   "cell_type": "code",
   "execution_count": 801,
   "metadata": {},
   "outputs": [
    {
     "data": {
      "text/plain": [
       "single-family                           98333\n",
       "condo                                   15184\n",
       "townhouse                               12287\n",
       "multi-family                             4199\n",
       "land                                     3523\n",
       "traditional                              3406\n",
       "nan                                      2625\n",
       "condo/townhome/row home/co-op            1611\n",
       "mobile/manufactured                      1029\n",
       "single detached, traditional              941\n",
       "coop                                      707\n",
       "mobile / manufactured                     648\n",
       "contemporary/modern                       638\n",
       "ranch                                     463\n",
       "contemporary                              446\n",
       "single detached                           416\n",
       "mfd/mobile home                           251\n",
       "transitional                              210\n",
       "florida                                   181\n",
       "colonial                                  162\n",
       "singlefamilyresidence                     159\n",
       "other style                               150\n",
       "condo/townhome, traditional               143\n",
       "apartment                                 134\n",
       "condo/townhome                            118\n",
       "bungalow                                  110\n",
       "contemporary/modern, traditional          104\n",
       "cooperative                                98\n",
       "condo/townhome, contemporary/modern        90\n",
       "craftsman                                  89\n",
       "ranch, traditional                         74\n",
       "single detached, contemporary/modern       73\n",
       "spanish/mediterranean                      64\n",
       "residential (<1 acre)                      61\n",
       "single detached, ranch                     58\n",
       "traditional, transitional                  57\n",
       "mediterranean                              56\n",
       "multiple occupancy                         45\n",
       "2 stories                                  44\n",
       "single detached, craftsman                 43\n",
       "1 story                                    37\n",
       "federal                                    35\n",
       "                                           34\n",
       "other                                      29\n",
       "cottage                                    28\n",
       "cape cod                                   28\n",
       "split level                                25\n",
       "single detached, ranch, traditional        24\n",
       "victorian                                  23\n",
       "key west                                   22\n",
       "Name: propertyType, dtype: int64"
      ]
     },
     "execution_count": 801,
     "metadata": {},
     "output_type": "execute_result"
    }
   ],
   "source": [
    "estate_data['propertyType'].value_counts()[:50]"
   ]
  },
  {
   "cell_type": "code",
   "execution_count": 802,
   "metadata": {},
   "outputs": [],
   "source": [
    "# Приведем к единообразию некоторые значения.\n",
    "\n",
    "estate_data['propertyType'] = estate_data['propertyType'].replace(['condominium (single level), contemporary', 'condo/townhome, traditional', 'condominium (single level)', 'condo/townhome, contemporary/modern', 'condo/townhome/row home/co-op', 'condo/townhome'], 'condo')"
   ]
  },
  {
   "cell_type": "code",
   "execution_count": 803,
   "metadata": {},
   "outputs": [
    {
     "data": {
      "text/plain": [
       "single-family                           98333\n",
       "condo                                   17171\n",
       "townhouse                               12287\n",
       "multi-family                             4199\n",
       "land                                     3523\n",
       "traditional                              3406\n",
       "nan                                      2625\n",
       "mobile/manufactured                      1029\n",
       "single detached, traditional              941\n",
       "coop                                      707\n",
       "mobile / manufactured                     648\n",
       "contemporary/modern                       638\n",
       "ranch                                     463\n",
       "contemporary                              446\n",
       "single detached                           416\n",
       "mfd/mobile home                           251\n",
       "transitional                              210\n",
       "florida                                   181\n",
       "colonial                                  162\n",
       "singlefamilyresidence                     159\n",
       "other style                               150\n",
       "apartment                                 134\n",
       "bungalow                                  110\n",
       "contemporary/modern, traditional          104\n",
       "cooperative                                98\n",
       "craftsman                                  89\n",
       "ranch, traditional                         74\n",
       "single detached, contemporary/modern       73\n",
       "spanish/mediterranean                      64\n",
       "residential (<1 acre)                      61\n",
       "single detached, ranch                     58\n",
       "traditional, transitional                  57\n",
       "mediterranean                              56\n",
       "multiple occupancy                         45\n",
       "2 stories                                  44\n",
       "single detached, craftsman                 43\n",
       "1 story                                    37\n",
       "federal                                    35\n",
       "                                           34\n",
       "other                                      29\n",
       "cottage                                    28\n",
       "cape cod                                   28\n",
       "split level                                25\n",
       "single detached, ranch, traditional        24\n",
       "victorian                                  23\n",
       "key west                                   22\n",
       "single detached, other (see remarks)       22\n",
       "condo/unit                                 21\n",
       "other style, traditional                   21\n",
       "english                                    21\n",
       "Name: propertyType, dtype: int64"
      ]
     },
     "execution_count": 803,
     "metadata": {},
     "output_type": "execute_result"
    }
   ],
   "source": [
    "estate_data['propertyType'].value_counts()[:50]"
   ]
  },
  {
   "cell_type": "code",
   "execution_count": 804,
   "metadata": {},
   "outputs": [
    {
     "data": {
      "text/plain": [
       "5"
      ]
     },
     "execution_count": 804,
     "metadata": {},
     "output_type": "execute_result"
    }
   ],
   "source": [
    "freq_propertyTypes = list(estate_data.propertyType.value_counts())\n",
    "top_propertyTypes_count = int(np.percentile(freq_propertyTypes, 75))\n",
    "top_propertyTypes_count"
   ]
  },
  {
   "cell_type": "code",
   "execution_count": 805,
   "metadata": {},
   "outputs": [],
   "source": [
    "# Оставим только 5 самых популярных значений, которые описывают 75%, остальные удалим.\n",
    "\n",
    "fulllist_propertyTypes = set(estate_data['propertyType'].value_counts().index)\n",
    "main_Types = set(estate_data['propertyType'].value_counts().index[:5])\n",
    "drop_propertyTypes = list(fulllist_propertyTypes - main_Types)\n",
    "estate_data.drop(estate_data.loc[estate_data['propertyType'].isin(drop_propertyTypes), 'propertyType'].index, inplace = True)"
   ]
  },
  {
   "cell_type": "code",
   "execution_count": 806,
   "metadata": {},
   "outputs": [
    {
     "data": {
      "text/plain": [
       "single-family    98333\n",
       "condo            17171\n",
       "townhouse        12287\n",
       "multi-family      4199\n",
       "land              3523\n",
       "Name: propertyType, dtype: int64"
      ]
     },
     "execution_count": 806,
     "metadata": {},
     "output_type": "execute_result"
    }
   ],
   "source": [
    "estate_data['propertyType'].value_counts()[:10]"
   ]
  },
  {
   "cell_type": "markdown",
   "metadata": {},
   "source": [
    "### Feature engineering\n"
   ]
  },
  {
   "cell_type": "code",
   "execution_count": 807,
   "metadata": {},
   "outputs": [],
   "source": [
    "# создадим полиномиальные признаки на основе столбцов sqm и price/sqm.\n",
    "\n",
    "pf = PolynomialFeatures(2)\n",
    "\n",
    "poly_features = pf.fit_transform(estate_data[['sqm', 'price/sqm']])\n",
    "new_df = pd.DataFrame(poly_features, columns = ['1', 'sqm', 'price/sqm', 'sqm^2', 'sqm_price/sqm', 'price/sqm^2'])\n",
    "new_df.drop(['1', 'sqm', 'price/sqm'], axis = 1, inplace = True)\n",
    "estate_data = pd.concat([estate_data, new_df], axis = 1)"
   ]
  },
  {
   "cell_type": "code",
   "execution_count": 808,
   "metadata": {},
   "outputs": [],
   "source": [
    "# Мы получили еще 3 числовых признака"
   ]
  },
  {
   "cell_type": "code",
   "execution_count": 809,
   "metadata": {},
   "outputs": [
    {
     "data": {
      "text/plain": [
       "(149033, 20)"
      ]
     },
     "execution_count": 809,
     "metadata": {},
     "output_type": "execute_result"
    }
   ],
   "source": [
    "estate_data.shape"
   ]
  },
  {
   "cell_type": "code",
   "execution_count": null,
   "metadata": {},
   "outputs": [],
   "source": []
  },
  {
   "cell_type": "code",
   "execution_count": 810,
   "metadata": {},
   "outputs": [
    {
     "data": {
      "text/html": [
       "<div>\n",
       "<style scoped>\n",
       "    .dataframe tbody tr th:only-of-type {\n",
       "        vertical-align: middle;\n",
       "    }\n",
       "\n",
       "    .dataframe tbody tr th {\n",
       "        vertical-align: top;\n",
       "    }\n",
       "\n",
       "    .dataframe thead th {\n",
       "        text-align: right;\n",
       "    }\n",
       "</style>\n",
       "<table border=\"1\" class=\"dataframe\">\n",
       "  <thead>\n",
       "    <tr style=\"text-align: right;\">\n",
       "      <th></th>\n",
       "      <th>status</th>\n",
       "      <th>propertyType</th>\n",
       "      <th>fireplace</th>\n",
       "      <th>city</th>\n",
       "      <th>target</th>\n",
       "      <th>Pool</th>\n",
       "      <th>Year_built</th>\n",
       "      <th>remodeled</th>\n",
       "      <th>heating</th>\n",
       "      <th>Parking</th>\n",
       "      <th>lotsize</th>\n",
       "      <th>price/sqm</th>\n",
       "      <th>average_school_rating</th>\n",
       "      <th>number_of_schools</th>\n",
       "      <th>average_distance_to_school</th>\n",
       "      <th>sqm</th>\n",
       "      <th>bathrooms</th>\n",
       "      <th>sqm^2</th>\n",
       "      <th>sqm_price/sqm</th>\n",
       "      <th>price/sqm^2</th>\n",
       "    </tr>\n",
       "  </thead>\n",
       "  <tbody>\n",
       "    <tr>\n",
       "      <th>0</th>\n",
       "      <td>for sale</td>\n",
       "      <td>single-family</td>\n",
       "      <td>no</td>\n",
       "      <td>other</td>\n",
       "      <td>310000.0</td>\n",
       "      <td>No</td>\n",
       "      <td>2019.0</td>\n",
       "      <td>no</td>\n",
       "      <td>no_info</td>\n",
       "      <td>no_provided</td>\n",
       "      <td>541.0</td>\n",
       "      <td>1711.0</td>\n",
       "      <td>4.0</td>\n",
       "      <td>3.0</td>\n",
       "      <td>2.08</td>\n",
       "      <td>181.0</td>\n",
       "      <td>more_than_2</td>\n",
       "      <td>32761.0</td>\n",
       "      <td>309691.0</td>\n",
       "      <td>2927521.0</td>\n",
       "    </tr>\n",
       "    <tr>\n",
       "      <th>1</th>\n",
       "      <td>for sale</td>\n",
       "      <td>townhouse</td>\n",
       "      <td>no</td>\n",
       "      <td>Philadelphia</td>\n",
       "      <td>209000.0</td>\n",
       "      <td>No</td>\n",
       "      <td>1920.0</td>\n",
       "      <td>no</td>\n",
       "      <td>forced air</td>\n",
       "      <td>no_provided</td>\n",
       "      <td>63.0</td>\n",
       "      <td>2508.0</td>\n",
       "      <td>5.0</td>\n",
       "      <td>3.0</td>\n",
       "      <td>3.20</td>\n",
       "      <td>83.0</td>\n",
       "      <td>no_provided</td>\n",
       "      <td>6889.0</td>\n",
       "      <td>208164.0</td>\n",
       "      <td>6290064.0</td>\n",
       "    </tr>\n",
       "    <tr>\n",
       "      <th>2</th>\n",
       "      <td>no_provided</td>\n",
       "      <td>single-family</td>\n",
       "      <td>no</td>\n",
       "      <td>Houston</td>\n",
       "      <td>311995.0</td>\n",
       "      <td>No</td>\n",
       "      <td>2019.0</td>\n",
       "      <td>no</td>\n",
       "      <td>gas</td>\n",
       "      <td>attached garage</td>\n",
       "      <td>191.0</td>\n",
       "      <td>1744.0</td>\n",
       "      <td>3.0</td>\n",
       "      <td>3.0</td>\n",
       "      <td>1.76</td>\n",
       "      <td>179.0</td>\n",
       "      <td>more_than_2</td>\n",
       "      <td>32041.0</td>\n",
       "      <td>312176.0</td>\n",
       "      <td>3041536.0</td>\n",
       "    </tr>\n",
       "    <tr>\n",
       "      <th>3</th>\n",
       "      <td>NaN</td>\n",
       "      <td>NaN</td>\n",
       "      <td>NaN</td>\n",
       "      <td>NaN</td>\n",
       "      <td>NaN</td>\n",
       "      <td>NaN</td>\n",
       "      <td>NaN</td>\n",
       "      <td>NaN</td>\n",
       "      <td>NaN</td>\n",
       "      <td>NaN</td>\n",
       "      <td>NaN</td>\n",
       "      <td>NaN</td>\n",
       "      <td>NaN</td>\n",
       "      <td>NaN</td>\n",
       "      <td>NaN</td>\n",
       "      <td>NaN</td>\n",
       "      <td>NaN</td>\n",
       "      <td>28561.0</td>\n",
       "      <td>500240.0</td>\n",
       "      <td>8761600.0</td>\n",
       "    </tr>\n",
       "    <tr>\n",
       "      <th>4</th>\n",
       "      <td>new construction</td>\n",
       "      <td>single-family</td>\n",
       "      <td>no</td>\n",
       "      <td>other</td>\n",
       "      <td>499900.0</td>\n",
       "      <td>No</td>\n",
       "      <td>2019.0</td>\n",
       "      <td>yes</td>\n",
       "      <td>forced air</td>\n",
       "      <td>attached garage</td>\n",
       "      <td>650.0</td>\n",
       "      <td>2960.0</td>\n",
       "      <td>7.3</td>\n",
       "      <td>3.0</td>\n",
       "      <td>1.76</td>\n",
       "      <td>169.0</td>\n",
       "      <td>2</td>\n",
       "      <td>51984.0</td>\n",
       "      <td>169404.0</td>\n",
       "      <td>552049.0</td>\n",
       "    </tr>\n",
       "  </tbody>\n",
       "</table>\n",
       "</div>"
      ],
      "text/plain": [
       "             status   propertyType fireplace          city    target Pool  \\\n",
       "0          for sale  single-family        no         other  310000.0   No   \n",
       "1          for sale      townhouse        no  Philadelphia  209000.0   No   \n",
       "2       no_provided  single-family        no       Houston  311995.0   No   \n",
       "3               NaN            NaN       NaN           NaN       NaN  NaN   \n",
       "4  new construction  single-family        no         other  499900.0   No   \n",
       "\n",
       "   Year_built remodeled     heating          Parking  lotsize  price/sqm  \\\n",
       "0      2019.0        no     no_info      no_provided    541.0     1711.0   \n",
       "1      1920.0        no  forced air      no_provided     63.0     2508.0   \n",
       "2      2019.0        no         gas  attached garage    191.0     1744.0   \n",
       "3         NaN       NaN         NaN              NaN      NaN        NaN   \n",
       "4      2019.0       yes  forced air  attached garage    650.0     2960.0   \n",
       "\n",
       "   average_school_rating  number_of_schools  average_distance_to_school  \\\n",
       "0                    4.0                3.0                        2.08   \n",
       "1                    5.0                3.0                        3.20   \n",
       "2                    3.0                3.0                        1.76   \n",
       "3                    NaN                NaN                         NaN   \n",
       "4                    7.3                3.0                        1.76   \n",
       "\n",
       "     sqm    bathrooms    sqm^2  sqm_price/sqm  price/sqm^2  \n",
       "0  181.0  more_than_2  32761.0       309691.0    2927521.0  \n",
       "1   83.0  no_provided   6889.0       208164.0    6290064.0  \n",
       "2  179.0  more_than_2  32041.0       312176.0    3041536.0  \n",
       "3    NaN          NaN  28561.0       500240.0    8761600.0  \n",
       "4  169.0            2  51984.0       169404.0     552049.0  "
      ]
     },
     "execution_count": 810,
     "metadata": {},
     "output_type": "execute_result"
    }
   ],
   "source": [
    "estate_data.head()"
   ]
  },
  {
   "cell_type": "code",
   "execution_count": 811,
   "metadata": {},
   "outputs": [],
   "source": [
    "estate_data = estate_data.replace(('No', 'no'), 0).replace(('Yes', 'yes'), 1)"
   ]
  },
  {
   "cell_type": "code",
   "execution_count": null,
   "metadata": {},
   "outputs": [],
   "source": []
  },
  {
   "cell_type": "code",
   "execution_count": 812,
   "metadata": {},
   "outputs": [
    {
     "data": {
      "text/html": [
       "<div>\n",
       "<style scoped>\n",
       "    .dataframe tbody tr th:only-of-type {\n",
       "        vertical-align: middle;\n",
       "    }\n",
       "\n",
       "    .dataframe tbody tr th {\n",
       "        vertical-align: top;\n",
       "    }\n",
       "\n",
       "    .dataframe thead th {\n",
       "        text-align: right;\n",
       "    }\n",
       "</style>\n",
       "<table border=\"1\" class=\"dataframe\">\n",
       "  <thead>\n",
       "    <tr style=\"text-align: right;\">\n",
       "      <th></th>\n",
       "      <th>status</th>\n",
       "      <th>propertyType</th>\n",
       "      <th>fireplace</th>\n",
       "      <th>city</th>\n",
       "      <th>target</th>\n",
       "      <th>Pool</th>\n",
       "      <th>Year_built</th>\n",
       "      <th>remodeled</th>\n",
       "      <th>heating</th>\n",
       "      <th>Parking</th>\n",
       "      <th>lotsize</th>\n",
       "      <th>price/sqm</th>\n",
       "      <th>average_school_rating</th>\n",
       "      <th>number_of_schools</th>\n",
       "      <th>average_distance_to_school</th>\n",
       "      <th>sqm</th>\n",
       "      <th>bathrooms</th>\n",
       "      <th>sqm^2</th>\n",
       "      <th>sqm_price/sqm</th>\n",
       "      <th>price/sqm^2</th>\n",
       "    </tr>\n",
       "  </thead>\n",
       "  <tbody>\n",
       "    <tr>\n",
       "      <th>0</th>\n",
       "      <td>for sale</td>\n",
       "      <td>single-family</td>\n",
       "      <td>0.0</td>\n",
       "      <td>other</td>\n",
       "      <td>310000.0</td>\n",
       "      <td>0.0</td>\n",
       "      <td>2019.0</td>\n",
       "      <td>0.0</td>\n",
       "      <td>no_info</td>\n",
       "      <td>no_provided</td>\n",
       "      <td>541.0</td>\n",
       "      <td>1711.0</td>\n",
       "      <td>4.0</td>\n",
       "      <td>3.0</td>\n",
       "      <td>2.08</td>\n",
       "      <td>181.0</td>\n",
       "      <td>more_than_2</td>\n",
       "      <td>32761.0</td>\n",
       "      <td>309691.0</td>\n",
       "      <td>2927521.0</td>\n",
       "    </tr>\n",
       "    <tr>\n",
       "      <th>1</th>\n",
       "      <td>for sale</td>\n",
       "      <td>townhouse</td>\n",
       "      <td>0.0</td>\n",
       "      <td>Philadelphia</td>\n",
       "      <td>209000.0</td>\n",
       "      <td>0.0</td>\n",
       "      <td>1920.0</td>\n",
       "      <td>0.0</td>\n",
       "      <td>forced air</td>\n",
       "      <td>no_provided</td>\n",
       "      <td>63.0</td>\n",
       "      <td>2508.0</td>\n",
       "      <td>5.0</td>\n",
       "      <td>3.0</td>\n",
       "      <td>3.20</td>\n",
       "      <td>83.0</td>\n",
       "      <td>no_provided</td>\n",
       "      <td>6889.0</td>\n",
       "      <td>208164.0</td>\n",
       "      <td>6290064.0</td>\n",
       "    </tr>\n",
       "    <tr>\n",
       "      <th>2</th>\n",
       "      <td>no_provided</td>\n",
       "      <td>single-family</td>\n",
       "      <td>0.0</td>\n",
       "      <td>Houston</td>\n",
       "      <td>311995.0</td>\n",
       "      <td>0.0</td>\n",
       "      <td>2019.0</td>\n",
       "      <td>0.0</td>\n",
       "      <td>gas</td>\n",
       "      <td>attached garage</td>\n",
       "      <td>191.0</td>\n",
       "      <td>1744.0</td>\n",
       "      <td>3.0</td>\n",
       "      <td>3.0</td>\n",
       "      <td>1.76</td>\n",
       "      <td>179.0</td>\n",
       "      <td>more_than_2</td>\n",
       "      <td>32041.0</td>\n",
       "      <td>312176.0</td>\n",
       "      <td>3041536.0</td>\n",
       "    </tr>\n",
       "    <tr>\n",
       "      <th>3</th>\n",
       "      <td>NaN</td>\n",
       "      <td>NaN</td>\n",
       "      <td>NaN</td>\n",
       "      <td>NaN</td>\n",
       "      <td>NaN</td>\n",
       "      <td>NaN</td>\n",
       "      <td>NaN</td>\n",
       "      <td>NaN</td>\n",
       "      <td>NaN</td>\n",
       "      <td>NaN</td>\n",
       "      <td>NaN</td>\n",
       "      <td>NaN</td>\n",
       "      <td>NaN</td>\n",
       "      <td>NaN</td>\n",
       "      <td>NaN</td>\n",
       "      <td>NaN</td>\n",
       "      <td>NaN</td>\n",
       "      <td>28561.0</td>\n",
       "      <td>500240.0</td>\n",
       "      <td>8761600.0</td>\n",
       "    </tr>\n",
       "    <tr>\n",
       "      <th>4</th>\n",
       "      <td>new construction</td>\n",
       "      <td>single-family</td>\n",
       "      <td>0.0</td>\n",
       "      <td>other</td>\n",
       "      <td>499900.0</td>\n",
       "      <td>0.0</td>\n",
       "      <td>2019.0</td>\n",
       "      <td>1.0</td>\n",
       "      <td>forced air</td>\n",
       "      <td>attached garage</td>\n",
       "      <td>650.0</td>\n",
       "      <td>2960.0</td>\n",
       "      <td>7.3</td>\n",
       "      <td>3.0</td>\n",
       "      <td>1.76</td>\n",
       "      <td>169.0</td>\n",
       "      <td>2</td>\n",
       "      <td>51984.0</td>\n",
       "      <td>169404.0</td>\n",
       "      <td>552049.0</td>\n",
       "    </tr>\n",
       "  </tbody>\n",
       "</table>\n",
       "</div>"
      ],
      "text/plain": [
       "             status   propertyType  fireplace          city    target  Pool  \\\n",
       "0          for sale  single-family        0.0         other  310000.0   0.0   \n",
       "1          for sale      townhouse        0.0  Philadelphia  209000.0   0.0   \n",
       "2       no_provided  single-family        0.0       Houston  311995.0   0.0   \n",
       "3               NaN            NaN        NaN           NaN       NaN   NaN   \n",
       "4  new construction  single-family        0.0         other  499900.0   0.0   \n",
       "\n",
       "   Year_built  remodeled     heating          Parking  lotsize  price/sqm  \\\n",
       "0      2019.0        0.0     no_info      no_provided    541.0     1711.0   \n",
       "1      1920.0        0.0  forced air      no_provided     63.0     2508.0   \n",
       "2      2019.0        0.0         gas  attached garage    191.0     1744.0   \n",
       "3         NaN        NaN         NaN              NaN      NaN        NaN   \n",
       "4      2019.0        1.0  forced air  attached garage    650.0     2960.0   \n",
       "\n",
       "   average_school_rating  number_of_schools  average_distance_to_school  \\\n",
       "0                    4.0                3.0                        2.08   \n",
       "1                    5.0                3.0                        3.20   \n",
       "2                    3.0                3.0                        1.76   \n",
       "3                    NaN                NaN                         NaN   \n",
       "4                    7.3                3.0                        1.76   \n",
       "\n",
       "     sqm    bathrooms    sqm^2  sqm_price/sqm  price/sqm^2  \n",
       "0  181.0  more_than_2  32761.0       309691.0    2927521.0  \n",
       "1   83.0  no_provided   6889.0       208164.0    6290064.0  \n",
       "2  179.0  more_than_2  32041.0       312176.0    3041536.0  \n",
       "3    NaN          NaN  28561.0       500240.0    8761600.0  \n",
       "4  169.0            2  51984.0       169404.0     552049.0  "
      ]
     },
     "execution_count": 812,
     "metadata": {},
     "output_type": "execute_result"
    }
   ],
   "source": [
    "estate_data.head()"
   ]
  },
  {
   "cell_type": "code",
   "execution_count": 813,
   "metadata": {},
   "outputs": [
    {
     "data": {
      "text/plain": [
       "status                        13520\n",
       "propertyType                  13520\n",
       "fireplace                     13520\n",
       "city                          13520\n",
       "target                        13520\n",
       "Pool                          13520\n",
       "Year_built                    13520\n",
       "remodeled                     13520\n",
       "heating                       13520\n",
       "Parking                       13520\n",
       "lotsize                       13520\n",
       "price/sqm                     13520\n",
       "average_school_rating         13520\n",
       "number_of_schools             13520\n",
       "average_distance_to_school    13520\n",
       "sqm                           13520\n",
       "bathrooms                     13520\n",
       "sqm^2                         13520\n",
       "sqm_price/sqm                 13520\n",
       "price/sqm^2                   13520\n",
       "dtype: int64"
      ]
     },
     "execution_count": 813,
     "metadata": {},
     "output_type": "execute_result"
    }
   ],
   "source": [
    "estate_data.isna().sum()"
   ]
  },
  {
   "cell_type": "code",
   "execution_count": 814,
   "metadata": {},
   "outputs": [],
   "source": [
    "# Cтроки где нулевых значений больше 10-ти\n",
    "estate_data = estate_data[~(estate_data.isna().sum(axis=1) >= 10)]"
   ]
  },
  {
   "cell_type": "code",
   "execution_count": 815,
   "metadata": {},
   "outputs": [
    {
     "data": {
      "text/plain": [
       "status                            0\n",
       "propertyType                      0\n",
       "fireplace                         0\n",
       "city                              0\n",
       "target                            0\n",
       "Pool                              0\n",
       "Year_built                        0\n",
       "remodeled                         0\n",
       "heating                           0\n",
       "Parking                           0\n",
       "lotsize                           0\n",
       "price/sqm                         0\n",
       "average_school_rating             0\n",
       "number_of_schools                 0\n",
       "average_distance_to_school        0\n",
       "sqm                               0\n",
       "bathrooms                         0\n",
       "sqm^2                         13520\n",
       "sqm_price/sqm                 13520\n",
       "price/sqm^2                   13520\n",
       "dtype: int64"
      ]
     },
     "execution_count": 815,
     "metadata": {},
     "output_type": "execute_result"
    }
   ],
   "source": [
    "estate_data.isna().sum()"
   ]
  },
  {
   "cell_type": "code",
   "execution_count": 816,
   "metadata": {},
   "outputs": [],
   "source": [
    "# Заполним нулевые позиции средним значеним \n",
    "\n",
    "estate_data['sqm^2'] = estate_data['sqm^2'].fillna(estate_data['sqm^2'].mean())"
   ]
  },
  {
   "cell_type": "code",
   "execution_count": 817,
   "metadata": {},
   "outputs": [],
   "source": [
    "# Заполним нулевые позиции средним значенем \n",
    "\n",
    "estate_data['price/sqm^2'] = estate_data['price/sqm^2'].fillna(estate_data['price/sqm^2'].mean())"
   ]
  },
  {
   "cell_type": "code",
   "execution_count": 818,
   "metadata": {},
   "outputs": [],
   "source": [
    "# Заполним нулевые позиции средним значеним \n",
    "estate_data['sqm_price/sqm'] = estate_data['sqm_price/sqm'].fillna(estate_data['sqm_price/sqm'].mean())"
   ]
  },
  {
   "cell_type": "code",
   "execution_count": 820,
   "metadata": {},
   "outputs": [
    {
     "data": {
      "text/html": [
       "<div>\n",
       "<style scoped>\n",
       "    .dataframe tbody tr th:only-of-type {\n",
       "        vertical-align: middle;\n",
       "    }\n",
       "\n",
       "    .dataframe tbody tr th {\n",
       "        vertical-align: top;\n",
       "    }\n",
       "\n",
       "    .dataframe thead th {\n",
       "        text-align: right;\n",
       "    }\n",
       "</style>\n",
       "<table border=\"1\" class=\"dataframe\">\n",
       "  <thead>\n",
       "    <tr style=\"text-align: right;\">\n",
       "      <th></th>\n",
       "      <th>status</th>\n",
       "      <th>propertyType</th>\n",
       "      <th>fireplace</th>\n",
       "      <th>city</th>\n",
       "      <th>target</th>\n",
       "      <th>Pool</th>\n",
       "      <th>Year_built</th>\n",
       "      <th>remodeled</th>\n",
       "      <th>heating</th>\n",
       "      <th>Parking</th>\n",
       "      <th>lotsize</th>\n",
       "      <th>price/sqm</th>\n",
       "      <th>average_school_rating</th>\n",
       "      <th>number_of_schools</th>\n",
       "      <th>average_distance_to_school</th>\n",
       "      <th>sqm</th>\n",
       "      <th>bathrooms</th>\n",
       "      <th>sqm^2</th>\n",
       "      <th>sqm_price/sqm</th>\n",
       "      <th>price/sqm^2</th>\n",
       "    </tr>\n",
       "  </thead>\n",
       "  <tbody>\n",
       "    <tr>\n",
       "      <th>0</th>\n",
       "      <td>for sale</td>\n",
       "      <td>single-family</td>\n",
       "      <td>0.0</td>\n",
       "      <td>other</td>\n",
       "      <td>310000.0</td>\n",
       "      <td>0.0</td>\n",
       "      <td>2019.0</td>\n",
       "      <td>0.0</td>\n",
       "      <td>no_info</td>\n",
       "      <td>no_provided</td>\n",
       "      <td>541.0</td>\n",
       "      <td>1711.0</td>\n",
       "      <td>4.0</td>\n",
       "      <td>3.0</td>\n",
       "      <td>2.08</td>\n",
       "      <td>181.0</td>\n",
       "      <td>more_than_2</td>\n",
       "      <td>32761.0</td>\n",
       "      <td>309691.0</td>\n",
       "      <td>2927521.0</td>\n",
       "    </tr>\n",
       "    <tr>\n",
       "      <th>1</th>\n",
       "      <td>for sale</td>\n",
       "      <td>townhouse</td>\n",
       "      <td>0.0</td>\n",
       "      <td>Philadelphia</td>\n",
       "      <td>209000.0</td>\n",
       "      <td>0.0</td>\n",
       "      <td>1920.0</td>\n",
       "      <td>0.0</td>\n",
       "      <td>forced air</td>\n",
       "      <td>no_provided</td>\n",
       "      <td>63.0</td>\n",
       "      <td>2508.0</td>\n",
       "      <td>5.0</td>\n",
       "      <td>3.0</td>\n",
       "      <td>3.20</td>\n",
       "      <td>83.0</td>\n",
       "      <td>no_provided</td>\n",
       "      <td>6889.0</td>\n",
       "      <td>208164.0</td>\n",
       "      <td>6290064.0</td>\n",
       "    </tr>\n",
       "    <tr>\n",
       "      <th>2</th>\n",
       "      <td>no_provided</td>\n",
       "      <td>single-family</td>\n",
       "      <td>0.0</td>\n",
       "      <td>Houston</td>\n",
       "      <td>311995.0</td>\n",
       "      <td>0.0</td>\n",
       "      <td>2019.0</td>\n",
       "      <td>0.0</td>\n",
       "      <td>gas</td>\n",
       "      <td>attached garage</td>\n",
       "      <td>191.0</td>\n",
       "      <td>1744.0</td>\n",
       "      <td>3.0</td>\n",
       "      <td>3.0</td>\n",
       "      <td>1.76</td>\n",
       "      <td>179.0</td>\n",
       "      <td>more_than_2</td>\n",
       "      <td>32041.0</td>\n",
       "      <td>312176.0</td>\n",
       "      <td>3041536.0</td>\n",
       "    </tr>\n",
       "    <tr>\n",
       "      <th>4</th>\n",
       "      <td>new construction</td>\n",
       "      <td>single-family</td>\n",
       "      <td>0.0</td>\n",
       "      <td>other</td>\n",
       "      <td>499900.0</td>\n",
       "      <td>0.0</td>\n",
       "      <td>2019.0</td>\n",
       "      <td>1.0</td>\n",
       "      <td>forced air</td>\n",
       "      <td>attached garage</td>\n",
       "      <td>650.0</td>\n",
       "      <td>2960.0</td>\n",
       "      <td>7.3</td>\n",
       "      <td>3.0</td>\n",
       "      <td>1.76</td>\n",
       "      <td>169.0</td>\n",
       "      <td>2</td>\n",
       "      <td>51984.0</td>\n",
       "      <td>169404.0</td>\n",
       "      <td>552049.0</td>\n",
       "    </tr>\n",
       "    <tr>\n",
       "      <th>5</th>\n",
       "      <td>no_provided</td>\n",
       "      <td>single-family</td>\n",
       "      <td>0.0</td>\n",
       "      <td>Houston</td>\n",
       "      <td>168800.0</td>\n",
       "      <td>0.0</td>\n",
       "      <td>1982.0</td>\n",
       "      <td>1.0</td>\n",
       "      <td>other</td>\n",
       "      <td>2 spaces</td>\n",
       "      <td>198.0</td>\n",
       "      <td>743.0</td>\n",
       "      <td>5.3</td>\n",
       "      <td>3.0</td>\n",
       "      <td>2.24</td>\n",
       "      <td>228.0</td>\n",
       "      <td>more_than_2</td>\n",
       "      <td>81796.0</td>\n",
       "      <td>366366.0</td>\n",
       "      <td>1640961.0</td>\n",
       "    </tr>\n",
       "  </tbody>\n",
       "</table>\n",
       "</div>"
      ],
      "text/plain": [
       "             status   propertyType  fireplace          city    target  Pool  \\\n",
       "0          for sale  single-family        0.0         other  310000.0   0.0   \n",
       "1          for sale      townhouse        0.0  Philadelphia  209000.0   0.0   \n",
       "2       no_provided  single-family        0.0       Houston  311995.0   0.0   \n",
       "4  new construction  single-family        0.0         other  499900.0   0.0   \n",
       "5       no_provided  single-family        0.0       Houston  168800.0   0.0   \n",
       "\n",
       "   Year_built  remodeled     heating          Parking  lotsize  price/sqm  \\\n",
       "0      2019.0        0.0     no_info      no_provided    541.0     1711.0   \n",
       "1      1920.0        0.0  forced air      no_provided     63.0     2508.0   \n",
       "2      2019.0        0.0         gas  attached garage    191.0     1744.0   \n",
       "4      2019.0        1.0  forced air  attached garage    650.0     2960.0   \n",
       "5      1982.0        1.0       other         2 spaces    198.0      743.0   \n",
       "\n",
       "   average_school_rating  number_of_schools  average_distance_to_school  \\\n",
       "0                    4.0                3.0                        2.08   \n",
       "1                    5.0                3.0                        3.20   \n",
       "2                    3.0                3.0                        1.76   \n",
       "4                    7.3                3.0                        1.76   \n",
       "5                    5.3                3.0                        2.24   \n",
       "\n",
       "     sqm    bathrooms    sqm^2  sqm_price/sqm  price/sqm^2  \n",
       "0  181.0  more_than_2  32761.0       309691.0    2927521.0  \n",
       "1   83.0  no_provided   6889.0       208164.0    6290064.0  \n",
       "2  179.0  more_than_2  32041.0       312176.0    3041536.0  \n",
       "4  169.0            2  51984.0       169404.0     552049.0  \n",
       "5  228.0  more_than_2  81796.0       366366.0    1640961.0  "
      ]
     },
     "execution_count": 820,
     "metadata": {},
     "output_type": "execute_result"
    }
   ],
   "source": [
    "estate_data.head()"
   ]
  },
  {
   "cell_type": "code",
   "execution_count": 821,
   "metadata": {},
   "outputs": [
    {
     "data": {
      "text/plain": [
       "(135513, 20)"
      ]
     },
     "execution_count": 821,
     "metadata": {},
     "output_type": "execute_result"
    }
   ],
   "source": [
    "estate_data.shape"
   ]
  },
  {
   "cell_type": "code",
   "execution_count": null,
   "metadata": {},
   "outputs": [],
   "source": [
    "# Выгрузим данные для дальнейшего обучения\n",
    "estate_data.to_csv('final_dataset.csv', index=False)"
   ]
  },
  {
   "cell_type": "markdown",
   "metadata": {},
   "source": [
    "В результате EDA получен датасет с размерностью (135513, 20). При этом размерность исходного датасета была (377185, 18)."
   ]
  }
 ],
 "metadata": {
  "kernelspec": {
   "display_name": "Python 3",
   "language": "python",
   "name": "python3"
  },
  "language_info": {
   "codemirror_mode": {
    "name": "ipython",
    "version": 3
   },
   "file_extension": ".py",
   "mimetype": "text/x-python",
   "name": "python",
   "nbconvert_exporter": "python",
   "pygments_lexer": "ipython3",
   "version": "3.8.3"
  }
 },
 "nbformat": 4,
 "nbformat_minor": 4
}
